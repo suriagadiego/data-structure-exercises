{
 "cells": [
  {
   "cell_type": "markdown",
   "metadata": {},
   "source": [
    "## Binary Search Tree"
   ]
  },
  {
   "cell_type": "code",
   "execution_count": 34,
   "metadata": {},
   "outputs": [],
   "source": [
    "class Node:\n",
    "    def __init__(self, value):\n",
    "        self.value = value\n",
    "        self.left = None\n",
    "        self.right = None\n",
    "    \n",
    "        \n",
    "        "
   ]
  },
  {
   "cell_type": "code",
   "execution_count": 35,
   "metadata": {},
   "outputs": [],
   "source": [
    "import json\n",
    "\n",
    "class BinarySearchTree:\n",
    "    def __init__(self, value):\n",
    "        self.root = Node(value)\n",
    "        \n",
    "    def insert(self, value):\n",
    "        curr = self.root\n",
    "        while True:\n",
    "            if curr.value > value:\n",
    "                if curr.left == None:\n",
    "                    curr.left = Node(value)\n",
    "                    return self.root\n",
    "                curr = curr.left\n",
    "            else:\n",
    "                if curr.right == None:\n",
    "                    curr.right = Node(value)\n",
    "                    return self.root\n",
    "                curr = curr.right\n",
    "                \n",
    "    def remove(self, value):\n",
    "        pass\n",
    "    \n",
    "    def lookup(self, value):\n",
    "        pass\n",
    "    \n",
    "    \n",
    "    def toJSON(self):\n",
    "        return json.dumps(self, default=lambda o: o.__dict__, \n",
    "            sort_keys=True, indent=4)\n",
    "    "
   ]
  },
  {
   "cell_type": "code",
   "execution_count": 36,
   "metadata": {},
   "outputs": [
    {
     "data": {
      "text/plain": [
       "<__main__.Node at 0x1e452cd38e0>"
      ]
     },
     "execution_count": 36,
     "metadata": {},
     "output_type": "execute_result"
    }
   ],
   "source": [
    "x = BinarySearchTree(9)\n",
    "x.insert(4)\n",
    "x.insert(6)\n",
    "x.insert(20)\n",
    "x.insert(170)\n",
    "x.insert(15)\n",
    "x.insert(1)"
   ]
  },
  {
   "cell_type": "code",
   "execution_count": 37,
   "metadata": {},
   "outputs": [
    {
     "name": "stdout",
     "output_type": "stream",
     "text": [
      "{\n",
      "    \"root\": {\n",
      "        \"left\": {\n",
      "            \"left\": {\n",
      "                \"left\": null,\n",
      "                \"right\": null,\n",
      "                \"value\": 1\n",
      "            },\n",
      "            \"right\": {\n",
      "                \"left\": null,\n",
      "                \"right\": null,\n",
      "                \"value\": 6\n",
      "            },\n",
      "            \"value\": 4\n",
      "        },\n",
      "        \"right\": {\n",
      "            \"left\": {\n",
      "                \"left\": null,\n",
      "                \"right\": null,\n",
      "                \"value\": 15\n",
      "            },\n",
      "            \"right\": {\n",
      "                \"left\": null,\n",
      "                \"right\": null,\n",
      "                \"value\": 170\n",
      "            },\n",
      "            \"value\": 20\n",
      "        },\n",
      "        \"value\": 9\n",
      "    }\n",
      "}\n"
     ]
    }
   ],
   "source": [
    "print(x.toJSON())"
   ]
  },
  {
   "cell_type": "code",
   "execution_count": 9,
   "metadata": {},
   "outputs": [],
   "source": [
    "y = {'value': 10, 'left': None, 'right': None}"
   ]
  },
  {
   "cell_type": "code",
   "execution_count": 10,
   "metadata": {},
   "outputs": [
    {
     "data": {
      "text/plain": [
       "'{\"value\": 10, \"left\": null, \"right\": null}'"
      ]
     },
     "execution_count": 10,
     "metadata": {},
     "output_type": "execute_result"
    }
   ],
   "source": [
    "json.dumps(y)"
   ]
  },
  {
   "cell_type": "code",
   "execution_count": null,
   "metadata": {},
   "outputs": [],
   "source": []
  }
 ],
 "metadata": {
  "kernelspec": {
   "display_name": "Python 3",
   "language": "python",
   "name": "python3"
  },
  "language_info": {
   "codemirror_mode": {
    "name": "ipython",
    "version": 3
   },
   "file_extension": ".py",
   "mimetype": "text/x-python",
   "name": "python",
   "nbconvert_exporter": "python",
   "pygments_lexer": "ipython3",
   "version": "3.8.3"
  }
 },
 "nbformat": 4,
 "nbformat_minor": 4
}
