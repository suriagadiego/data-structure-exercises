{
 "cells": [
  {
   "cell_type": "markdown",
   "metadata": {},
   "source": [
    "### Picking Numbers\n",
    "    Given an array of integers, find the longest subarray where the absolute difference between any two elements is less \n",
    "    than or equal to 1."
   ]
  },
  {
   "cell_type": "code",
   "execution_count": 52,
   "metadata": {},
   "outputs": [],
   "source": [
    "def numberPicking(n):\n",
    "    longest = 1\n",
    "    n.sort()\n",
    "    curr = n[0]\n",
    "    arr = []\n",
    "    for i in range(1, len(n)):\n",
    "        if n[i] == n[i-1]:\n",
    "            longest += 1\n",
    "        elif n[i] - 1 == curr:\n",
    "            longest += 1\n",
    "        \n",
    "        else:\n",
    "            arr.append(longest)\n",
    "            longest = 1\n",
    "            curr = n[i]\n",
    "    arr.append(longest)        \n",
    "\n",
    "    return max(arr)\n",
    "\n",
    "    "
   ]
  },
  {
   "cell_type": "code",
   "execution_count": 54,
   "metadata": {},
   "outputs": [
    {
     "data": {
      "text/plain": [
       "3"
      ]
     },
     "execution_count": 54,
     "metadata": {},
     "output_type": "execute_result"
    }
   ],
   "source": [
    "numberPicking([4,6, 5, 3, 3, 1])"
   ]
  },
  {
   "cell_type": "code",
   "execution_count": null,
   "metadata": {},
   "outputs": [],
   "source": []
  }
 ],
 "metadata": {
  "kernelspec": {
   "display_name": "Python 3",
   "language": "python",
   "name": "python3"
  },
  "language_info": {
   "codemirror_mode": {
    "name": "ipython",
    "version": 3
   },
   "file_extension": ".py",
   "mimetype": "text/x-python",
   "name": "python",
   "nbconvert_exporter": "python",
   "pygments_lexer": "ipython3",
   "version": "3.8.3"
  }
 },
 "nbformat": 4,
 "nbformat_minor": 4
}
