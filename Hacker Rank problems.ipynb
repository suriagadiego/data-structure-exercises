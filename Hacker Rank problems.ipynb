{
 "cells": [
  {
   "cell_type": "markdown",
   "metadata": {},
   "source": [
    "### Picking Numbers\n",
    "    Given an array of integers, find the longest subarray where the absolute difference between any two elements is less \n",
    "    than or equal to 1."
   ]
  },
  {
   "cell_type": "code",
   "execution_count": 52,
   "metadata": {},
   "outputs": [],
   "source": [
    "def numberPicking(n):\n",
    "    longest = 1\n",
    "    n.sort()\n",
    "    curr = n[0]\n",
    "    arr = []\n",
    "    for i in range(1, len(n)):\n",
    "        if n[i] == n[i-1]:\n",
    "            longest += 1\n",
    "        elif n[i] - 1 == curr:\n",
    "            longest += 1\n",
    "        \n",
    "        else:\n",
    "            arr.append(longest)\n",
    "            longest = 1\n",
    "            curr = n[i]\n",
    "    arr.append(longest)        \n",
    "\n",
    "    return max(arr)\n",
    "\n",
    "    "
   ]
  },
  {
   "cell_type": "code",
   "execution_count": 54,
   "metadata": {},
   "outputs": [
    {
     "data": {
      "text/plain": [
       "3"
      ]
     },
     "execution_count": 54,
     "metadata": {},
     "output_type": "execute_result"
    }
   ],
   "source": [
    "numberPicking([4,6, 5, 3, 3, 1])"
   ]
  },
  {
   "cell_type": "markdown",
   "metadata": {},
   "source": [
    "### Cats and Mouse"
   ]
  },
  {
   "cell_type": "code",
   "execution_count": 70,
   "metadata": {},
   "outputs": [],
   "source": [
    "def catAndMouse(x, y, z):\n",
    "    if abs(y-z) ==  abs(x-z):\n",
    "        return \"Cat C\"\n",
    "    else:\n",
    "        if abs(y-z) > abs(x-z):\n",
    "            return \"Mouse B\"\n",
    "        else:\n",
    "            return \"Mouse A\"         \n",
    "    "
   ]
  },
  {
   "cell_type": "code",
   "execution_count": 71,
   "metadata": {},
   "outputs": [
    {
     "data": {
      "text/plain": [
       "'Mouse A'"
      ]
     },
     "execution_count": 71,
     "metadata": {},
     "output_type": "execute_result"
    }
   ],
   "source": [
    "catAndMouse(1, 2, 3)"
   ]
  },
  {
   "cell_type": "code",
   "execution_count": 72,
   "metadata": {},
   "outputs": [
    {
     "data": {
      "text/plain": [
       "'Cat C'"
      ]
     },
     "execution_count": 72,
     "metadata": {},
     "output_type": "execute_result"
    }
   ],
   "source": [
    "catAndMouse(1, 3, 2)"
   ]
  },
  {
   "cell_type": "markdown",
   "metadata": {},
   "source": [
    "### Designer PDF Viewer\n",
    "\n",
    "    When a contiguous block of text is selected in a PDF viewer, the selection is highlighted with a blue rectangle. In this PDF viewer, each word is highlighted independently."
   ]
  },
  {
   "cell_type": "code",
   "execution_count": 75,
   "metadata": {},
   "outputs": [],
   "source": [
    "def designerPdfViewer(h, word):\n",
    "    arr = []\n",
    "    for i in word:\n",
    "        arr.append(h[ord(i)-97])\n",
    "    \n",
    "    return max(arr)*len(word)"
   ]
  },
  {
   "cell_type": "code",
   "execution_count": 76,
   "metadata": {},
   "outputs": [
    {
     "data": {
      "text/plain": [
       "28"
      ]
     },
     "execution_count": 76,
     "metadata": {},
     "output_type": "execute_result"
    }
   ],
   "source": [
    "designerPdfViewer([1, 3, 1, 3, 1, 4, 1, 3, 2, 5, 5, 5, 5, 5, 5, 5, 5, 5, 5, 5, 5, 5, 5, 5, 5, 7],'zaba')"
   ]
  },
  {
   "cell_type": "markdown",
   "metadata": {},
   "source": [
    "### Utopian Tree\n",
    "The Utopian Tree goes through 2 cycles of growth every year. Each spring, it doubles in height. Each summer, its height increases by 1 meter.\n",
    "\n",
    "A Utopian Tree sapling with a height of 1 meter is planted at the onset of spring. How tall will the tree be after n growth cycles?"
   ]
  },
  {
   "cell_type": "code",
   "execution_count": 77,
   "metadata": {},
   "outputs": [],
   "source": [
    "def utopianTree(n):\n",
    "    result = 1\n",
    "    for i in range(1,n):\n",
    "        if i%2 == 0:\n",
    "            result *= 2\n",
    "        else:\n",
    "            result += 1\n",
    "    return result"
   ]
  },
  {
   "cell_type": "markdown",
   "metadata": {},
   "source": [
    "### Beautiful Days\n",
    "https://www.hackerrank.com/challenges/beautiful-days-at-the-movies/problem?h_r=next-challenge&h_v=zen"
   ]
  },
  {
   "cell_type": "code",
   "execution_count": 103,
   "metadata": {},
   "outputs": [],
   "source": [
    "def beautifulDays(i, j, k):\n",
    "    ctr = 0\n",
    "    for x in range(i,j):\n",
    "#         print(x - int(str(x)[::-1]))\n",
    "#         print(k)\n",
    "#         print((x - int(str(x)[::-1]))%k)\n",
    "#         print('-'*50)\n",
    "        if abs(x - int(str(x)[::-1])) % k == 0:\n",
    "#             print(\"=\"*50)\n",
    "#             print( x - int(str(x)[::-1]))\n",
    "#             print(k)\n",
    "#             print(\"=\"*50)\n",
    "            ctr += 1\n",
    "    return ctr"
   ]
  },
  {
   "cell_type": "code",
   "execution_count": 104,
   "metadata": {},
   "outputs": [
    {
     "data": {
      "text/plain": [
       "32"
      ]
     },
     "execution_count": 104,
     "metadata": {},
     "output_type": "execute_result"
    }
   ],
   "source": [
    "beautifulDays(13,45,3)"
   ]
  },
  {
   "cell_type": "markdown",
   "metadata": {},
   "source": [
    "### Equalize Array\n",
    "https://www.hackerrank.com/challenges/equality-in-a-array/problem"
   ]
  },
  {
   "cell_type": "code",
   "execution_count": 117,
   "metadata": {},
   "outputs": [],
   "source": [
    "import operator\n",
    "def equalizeArray(arr):\n",
    "    dummy = {}\n",
    "    for i in arr:\n",
    "        if i in dummy:\n",
    "            dummy[i] += 1\n",
    "        else:\n",
    "            dummy[i] = 1\n",
    "    print(dummy)\n",
    "    \n",
    "    many = max(dummy.items(), key=operator.itemgetter(1))[1]\n",
    "    print(many)\n",
    "    return abs(many-len(arr))\n",
    "    "
   ]
  },
  {
   "cell_type": "code",
   "execution_count": 118,
   "metadata": {},
   "outputs": [
    {
     "name": "stdout",
     "output_type": "stream",
     "text": [
      "{1: 2, 2: 2, 3: 4}\n",
      "4\n"
     ]
    },
    {
     "data": {
      "text/plain": [
       "4"
      ]
     },
     "execution_count": 118,
     "metadata": {},
     "output_type": "execute_result"
    }
   ],
   "source": [
    "equalizeArray([1,2,3,1,2,3,3,3])"
   ]
  },
  {
   "cell_type": "markdown",
   "metadata": {},
   "source": [
    "### Jumping on the Clouds\n",
    "https://www.hackerrank.com/challenges/jumping-on-the-clouds/problem"
   ]
  },
  {
   "cell_type": "markdown",
   "metadata": {},
   "source": [
    "### Sherlock and Squares\n",
    "https://www.hackerrank.com/challenges/sherlock-and-squares/problem\n"
   ]
  },
  {
   "cell_type": "code",
   "execution_count": 30,
   "metadata": {},
   "outputs": [],
   "source": [
    "def squares(a, b):\n",
    "    res = 0\n",
    "    for i in range(a, b+1):\n",
    "        x = math.sqrt(i)\n",
    "        if x.is_integer():\n",
    "            res += 1\n",
    "    return res"
   ]
  },
  {
   "cell_type": "code",
   "execution_count": 45,
   "metadata": {},
   "outputs": [],
   "source": [
    "def squares1(a, b):\n",
    "    res = 0\n",
    "    for i in range(a, b+1):\n",
    "        print(str(i)[-1])\n",
    "        \n",
    "        \n",
    "            print(str(i)[-1], 'ETO AY EQUAL SA 0,1,4,5,6,9')\n",
    "            res += 1\n",
    "    return res"
   ]
  },
  {
   "cell_type": "code",
   "execution_count": 46,
   "metadata": {},
   "outputs": [
    {
     "name": "stdout",
     "output_type": "stream",
     "text": [
      "3\n",
      "4\n",
      "5\n",
      "6\n",
      "7\n",
      "8\n",
      "9\n"
     ]
    },
    {
     "data": {
      "text/plain": [
       "0"
      ]
     },
     "execution_count": 46,
     "metadata": {},
     "output_type": "execute_result"
    }
   ],
   "source": [
    "squares1(3, 9)"
   ]
  },
  {
   "cell_type": "code",
   "execution_count": 16,
   "metadata": {},
   "outputs": [],
   "source": [
    "x = math.sqrt(4)"
   ]
  },
  {
   "cell_type": "code",
   "execution_count": 22,
   "metadata": {},
   "outputs": [
    {
     "data": {
      "text/plain": [
       "True"
      ]
     },
     "execution_count": 22,
     "metadata": {},
     "output_type": "execute_result"
    }
   ],
   "source": [
    "2.0.is_integer()"
   ]
  },
  {
   "cell_type": "code",
   "execution_count": 25,
   "metadata": {},
   "outputs": [],
   "source": [
    "y = [5,4,3,2,1]"
   ]
  },
  {
   "cell_type": "code",
   "execution_count": 26,
   "metadata": {},
   "outputs": [],
   "source": [
    "y.reverse()"
   ]
  },
  {
   "cell_type": "code",
   "execution_count": 75,
   "metadata": {},
   "outputs": [
    {
     "data": {
      "text/plain": [
       "2"
      ]
     },
     "execution_count": 75,
     "metadata": {},
     "output_type": "execute_result"
    }
   ],
   "source": [
    "math.floor(math.sqrt(9)) - math.ceil(math.sqrt(3))+1\n",
    "math.floor(math.sqrt(9)) - math.ceil(math.sqrt(3))+ 1"
   ]
  },
  {
   "cell_type": "code",
   "execution_count": 68,
   "metadata": {},
   "outputs": [],
   "source": [
    "def CountSquares(a, b): \n",
    "    return (math.floor(math.sqrt(b)) - math.ceil(math.sqrt(a)) + 1) "
   ]
  },
  {
   "cell_type": "code",
   "execution_count": 69,
   "metadata": {},
   "outputs": [
    {
     "data": {
      "text/plain": [
       "2"
      ]
     },
     "execution_count": 69,
     "metadata": {},
     "output_type": "execute_result"
    }
   ],
   "source": [
    "CountSquares(3,9)"
   ]
  },
  {
   "cell_type": "code",
   "execution_count": 74,
   "metadata": {},
   "outputs": [
    {
     "data": {
      "text/plain": [
       "2"
      ]
     },
     "execution_count": 74,
     "metadata": {},
     "output_type": "execute_result"
    }
   ],
   "source": [
    "math.floor(math.sqrt(9)) - math.ceil(math.sqrt(3)) + 1"
   ]
  },
  {
   "cell_type": "code",
   "execution_count": null,
   "metadata": {},
   "outputs": [],
   "source": []
  },
  {
   "cell_type": "markdown",
   "metadata": {},
   "source": [
    "### Append and Delete\n",
    "https://www.hackerrank.com/challenges/append-and-delete/problem"
   ]
  },
  {
   "cell_type": "code",
   "execution_count": 166,
   "metadata": {},
   "outputs": [],
   "source": [
    "def appendAndDelete(s, t, k):\n",
    "    # k = 6\n",
    "    #[d,b,C]\n",
    "    #[d,e,f]\n",
    "#     k - 3\n",
    "#     k = 3\n",
    "    \n",
    "    \n",
    "    if k == 0:\n",
    "        if s != t:\n",
    "            return 'No'\n",
    "        else: \n",
    "            return 'Yes'\n",
    "    \n",
    "    if s == t:\n",
    "        print(k)\n",
    "        if k > len(t)*2 or k%2 ==0:\n",
    "            \n",
    "            return 'Yes'\n",
    "        else:\n",
    "            return 'No'\n",
    "\n",
    "    \n",
    "    if s[0] != t[0]:\n",
    "        s = []\n",
    "        k -= len(s)\n",
    "\n",
    "        if k >= len(t):\n",
    "            return 'Yes'\n",
    "        else:\n",
    "            return 'No'\n",
    "    \n",
    "    \n",
    "    \n",
    "    for i in range(len(t)):\n",
    "        if s[i] != t[i]:\n",
    "            k = k - abs(len(s)-i)\n",
    "            s = s[:-(len(s)-i)]\n",
    "            \n",
    "            if k >= len(t) - i:\n",
    "                print(k, len(t) -i,)\n",
    "                if (k - (len(t) -i))%2 == 0:\n",
    "                    print()\n",
    "                    return 'Yes'\n",
    "                else: \n",
    "                    return 'No'\n",
    "            else:\n",
    "                return 'No'\n",
    "        \n",
    "    \n",
    "    return 'No'"
   ]
  },
  {
   "cell_type": "code",
   "execution_count": 167,
   "metadata": {},
   "outputs": [
    {
     "name": "stdout",
     "output_type": "stream",
     "text": [
      "4 4\n",
      "\n",
      "Yes\n",
      "Yes\n",
      "7\n",
      "Yes\n",
      "20\n",
      "Yes\n"
     ]
    }
   ],
   "source": [
    "print(appendAndDelete('hackerhappy' , 'hackerrank', 9))\n",
    "print(appendAndDelete('abc' , 'def', 7))\n",
    "print(appendAndDelete('abc' , 'abc', 7))\n",
    "print(appendAndDelete('asdfqwertyuighjkzxcvasdfqwertyuighjkzxcvasdfqwertyuighjkzxcvasdfqwertyuighjkzxcvasdfqwertyuighjkzxcv','asdfqwertyuighjkzxcvasdfqwertyuighjkzxcvasdfqwertyuighjkzxcvasdfqwertyuighjkzxcvasdfqwertyuighjkzxcv',20))"
   ]
  },
  {
   "cell_type": "code",
   "execution_count": 147,
   "metadata": {},
   "outputs": [],
   "source": [
    "x = [1,2,3,4,5,6,7,8,9,10,11,12,13]"
   ]
  },
  {
   "cell_type": "code",
   "execution_count": 103,
   "metadata": {},
   "outputs": [
    {
     "name": "stdout",
     "output_type": "stream",
     "text": [
      "[1, 2, 3, 4, 5, 6, 7, 8]\n"
     ]
    }
   ],
   "source": [
    "x = x[:-5]\n",
    "print(x)"
   ]
  },
  {
   "cell_type": "code",
   "execution_count": null,
   "metadata": {},
   "outputs": [],
   "source": []
  },
  {
   "cell_type": "code",
   "execution_count": 161,
   "metadata": {},
   "outputs": [
    {
     "data": {
      "text/plain": [
       "True"
      ]
     },
     "execution_count": 161,
     "metadata": {},
     "output_type": "execute_result"
    }
   ],
   "source": [
    "'asdfqwertyuighjkzxcvasdfqwertyuighjkzxcvasdfqwertyuighjkzxcvasdfqwertyuighjkzxcvasdfqwertyuighjkzxcv' == 'asdfqwertyuighjkzxcvasdfqwertyuighjkzxcvasdfqwertyuighjkzxcvasdfqwertyuighjkzxcvasdfqwertyuighjkzxcv'"
   ]
  },
  {
   "cell_type": "markdown",
   "metadata": {},
   "source": [
    "### Cut the Sticks\n",
    "https://www.hackerrank.com/challenges/cut-the-sticks/problem"
   ]
  },
  {
   "cell_type": "code",
   "execution_count": 199,
   "metadata": {},
   "outputs": [],
   "source": [
    "def cutTheSticks(arr):\n",
    "    mini = min(arr)\n",
    "    res = 0\n",
    "    print(mini)\n",
    "    \n",
    "    while len(arr) > 0:\n",
    "        for i in range(len(arr)):\n",
    "            arr[i] -= mini\n",
    "            \n",
    "        res += len(arr)* mini\n",
    "        arr = list(filter(lambda x: x != 0, arr))\n",
    "    return res"
   ]
  },
  {
   "cell_type": "code",
   "execution_count": 200,
   "metadata": {},
   "outputs": [
    {
     "name": "stdout",
     "output_type": "stream",
     "text": [
      "1\n"
     ]
    },
    {
     "data": {
      "text/plain": [
       "15"
      ]
     },
     "execution_count": 200,
     "metadata": {},
     "output_type": "execute_result"
    }
   ],
   "source": [
    "cutTheSticks([1,2,3,4,5])"
   ]
  },
  {
   "cell_type": "code",
   "execution_count": 172,
   "metadata": {},
   "outputs": [
    {
     "data": {
      "text/plain": [
       "4"
      ]
     },
     "execution_count": 172,
     "metadata": {},
     "output_type": "execute_result"
    }
   ],
   "source": [
    "x[2] - 30"
   ]
  },
  {
   "cell_type": "code",
   "execution_count": 224,
   "metadata": {},
   "outputs": [],
   "source": [
    "def cutTheSticks1(arr):\n",
    "    mini = min(arr)\n",
    "    i = 0\n",
    "    while len(arr) > 0:\n",
    "        arr[i] -= mini\n",
    "        print(len(arr))\n",
    "        arr = list(filter(lambda x: x != 0, arr))\n",
    "        i += 1\n",
    "    \n",
    "    \n",
    "    return None"
   ]
  },
  {
   "cell_type": "code",
   "execution_count": 225,
   "metadata": {},
   "outputs": [
    {
     "name": "stdout",
     "output_type": "stream",
     "text": [
      "6\n",
      "6\n",
      "6\n",
      "6\n",
      "5\n"
     ]
    },
    {
     "ename": "IndexError",
     "evalue": "list index out of range",
     "output_type": "error",
     "traceback": [
      "\u001b[1;31m---------------------------------------------------------------------------\u001b[0m",
      "\u001b[1;31mIndexError\u001b[0m                                Traceback (most recent call last)",
      "\u001b[1;32m<ipython-input-225-dc0d0877206a>\u001b[0m in \u001b[0;36m<module>\u001b[1;34m\u001b[0m\n\u001b[1;32m----> 1\u001b[1;33m \u001b[0mcutTheSticks1\u001b[0m\u001b[1;33m(\u001b[0m\u001b[1;33m[\u001b[0m\u001b[1;36m5\u001b[0m\u001b[1;33m,\u001b[0m\u001b[1;36m4\u001b[0m\u001b[1;33m,\u001b[0m\u001b[1;36m4\u001b[0m\u001b[1;33m,\u001b[0m\u001b[1;36m2\u001b[0m\u001b[1;33m,\u001b[0m\u001b[1;36m2\u001b[0m\u001b[1;33m,\u001b[0m\u001b[1;36m8\u001b[0m\u001b[1;33m]\u001b[0m\u001b[1;33m)\u001b[0m\u001b[1;33m\u001b[0m\u001b[1;33m\u001b[0m\u001b[0m\n\u001b[0m",
      "\u001b[1;32m<ipython-input-224-a2770718b0bf>\u001b[0m in \u001b[0;36mcutTheSticks1\u001b[1;34m(arr)\u001b[0m\n\u001b[0;32m      3\u001b[0m     \u001b[0mi\u001b[0m \u001b[1;33m=\u001b[0m \u001b[1;36m0\u001b[0m\u001b[1;33m\u001b[0m\u001b[1;33m\u001b[0m\u001b[0m\n\u001b[0;32m      4\u001b[0m     \u001b[1;32mwhile\u001b[0m \u001b[0mlen\u001b[0m\u001b[1;33m(\u001b[0m\u001b[0marr\u001b[0m\u001b[1;33m)\u001b[0m \u001b[1;33m>\u001b[0m \u001b[1;36m0\u001b[0m\u001b[1;33m:\u001b[0m\u001b[1;33m\u001b[0m\u001b[1;33m\u001b[0m\u001b[0m\n\u001b[1;32m----> 5\u001b[1;33m         \u001b[0marr\u001b[0m\u001b[1;33m[\u001b[0m\u001b[0mi\u001b[0m\u001b[1;33m]\u001b[0m \u001b[1;33m-=\u001b[0m \u001b[0mmini\u001b[0m\u001b[1;33m\u001b[0m\u001b[1;33m\u001b[0m\u001b[0m\n\u001b[0m\u001b[0;32m      6\u001b[0m         \u001b[0mprint\u001b[0m\u001b[1;33m(\u001b[0m\u001b[0mlen\u001b[0m\u001b[1;33m(\u001b[0m\u001b[0marr\u001b[0m\u001b[1;33m)\u001b[0m\u001b[1;33m)\u001b[0m\u001b[1;33m\u001b[0m\u001b[1;33m\u001b[0m\u001b[0m\n\u001b[0;32m      7\u001b[0m         \u001b[0marr\u001b[0m \u001b[1;33m=\u001b[0m \u001b[0mlist\u001b[0m\u001b[1;33m(\u001b[0m\u001b[0mfilter\u001b[0m\u001b[1;33m(\u001b[0m\u001b[1;32mlambda\u001b[0m \u001b[0mx\u001b[0m\u001b[1;33m:\u001b[0m \u001b[0mx\u001b[0m \u001b[1;33m!=\u001b[0m \u001b[1;36m0\u001b[0m\u001b[1;33m,\u001b[0m \u001b[0marr\u001b[0m\u001b[1;33m)\u001b[0m\u001b[1;33m)\u001b[0m\u001b[1;33m\u001b[0m\u001b[1;33m\u001b[0m\u001b[0m\n",
      "\u001b[1;31mIndexError\u001b[0m: list index out of range"
     ]
    }
   ],
   "source": [
    "cutTheSticks1([5,4,4,2,2,8])"
   ]
  },
  {
   "cell_type": "markdown",
   "metadata": {},
   "source": [
    "### Time conversion\n",
    "    https://www.hackerrank.com/challenges/time-conversion/problem"
   ]
  },
  {
   "cell_type": "code",
   "execution_count": 56,
   "metadata": {},
   "outputs": [],
   "source": [
    "def timeConversion(s):\n",
    "    x = s.split(':')\n",
    "    x[0] = int(x[0])\n",
    "#     x[1] = int(x[1])\n",
    "    if x[0] == 12 and x[2][2:] == 'AM':\n",
    "        x[0] = '00'\n",
    "        \n",
    "    elif x[2][2:] == \"PM\" and x[0] != 12:\n",
    "        x[0] += 12\n",
    "        \n",
    "    x[2] = x[2][:2]\n",
    "    x[0] = str(x[0])\n",
    "    if len(x[0]) == 1:\n",
    "        x[0] = '0'+x[0]\n",
    "    x = [str(i) for i in x]\n",
    "    \n",
    "    return ':'.join(x)"
   ]
  },
  {
   "cell_type": "code",
   "execution_count": 58,
   "metadata": {},
   "outputs": [
    {
     "name": "stdout",
     "output_type": "stream",
     "text": [
      "4:59:59\n"
     ]
    }
   ],
   "source": [
    "print(timeConversion(x))"
   ]
  },
  {
   "cell_type": "markdown",
   "metadata": {},
   "source": [
    "### Repeated string\n",
    "https://www.hackerrank.com/challenges/repeated-string/problem"
   ]
  },
  {
   "cell_type": "code",
   "execution_count": 72,
   "metadata": {},
   "outputs": [],
   "source": [
    "import math\n",
    "\n",
    "def repeatedString(s, n):\n",
    "    if s == 'a':\n",
    "        return n\n",
    "    \n",
    "    ctr = s.count('a')\n",
    "    lens = int(n/len(s))\n",
    "    ctr *= lens\n",
    "    strs = n%len(s)\n",
    "    ctr += s[:strs].count('a')\n",
    "\n",
    "    \n",
    "    return ctr"
   ]
  },
  {
   "cell_type": "code",
   "execution_count": 71,
   "metadata": {},
   "outputs": [
    {
     "data": {
      "text/plain": [
       "250000000000"
      ]
     },
     "execution_count": 71,
     "metadata": {},
     "output_type": "execute_result"
    }
   ],
   "source": [
    "repeatedString('cfimaakj', 1000000000000)"
   ]
  },
  {
   "cell_type": "code",
   "execution_count": 67,
   "metadata": {},
   "outputs": [
    {
     "data": {
      "text/plain": [
       "3"
      ]
     },
     "execution_count": 67,
     "metadata": {},
     "output_type": "execute_result"
    }
   ],
   "source": [
    "int(10/3)"
   ]
  },
  {
   "cell_type": "markdown",
   "metadata": {},
   "source": [
    "### get domain name\n",
    "https://www.codewars.com/kata/514a024011ea4fb54200004b/train/python\n"
   ]
  },
  {
   "cell_type": "code",
   "execution_count": 31,
   "metadata": {},
   "outputs": [],
   "source": [
    "def domain_name(url):\n",
    "    url = url.replace('www.', '')\n",
    "    url = url.replace('http://', '')\n",
    "    url = url.replace('https://', '')\n",
    "    name = url.split('.')\n",
    "    return name[0]"
   ]
  },
  {
   "cell_type": "code",
   "execution_count": 32,
   "metadata": {},
   "outputs": [
    {
     "name": "stdout",
     "output_type": "stream",
     "text": [
      "google\n"
     ]
    }
   ],
   "source": [
    "print(domain_name(\"http://google.com\"))"
   ]
  },
  {
   "cell_type": "code",
   "execution_count": 28,
   "metadata": {},
   "outputs": [
    {
     "name": "stdout",
     "output_type": "stream",
     "text": [
      "http:google.com\n"
     ]
    }
   ],
   "source": [
    "x = 'http:google.com'\n",
    "x.replace('http','')\n",
    "print(x)"
   ]
  },
  {
   "cell_type": "markdown",
   "metadata": {},
   "source": [
    "### Bill Division\n",
    "https://www.hackerrank.com/challenges/bon-appetit/problem"
   ]
  },
  {
   "cell_type": "code",
   "execution_count": 21,
   "metadata": {},
   "outputs": [],
   "source": [
    "def bonAppetit(bill, k, b):\n",
    "    bill.pop(k)\n",
    "    sums = sum(bill)\n",
    "\n",
    "    if b > (sums/2):\n",
    "        print(b - int((sums/2)))\n",
    "        return \n",
    "    else:\n",
    "        print('Bon Appetit')\n",
    "        return \n"
   ]
  },
  {
   "cell_type": "code",
   "execution_count": 22,
   "metadata": {},
   "outputs": [
    {
     "name": "stdout",
     "output_type": "stream",
     "text": [
      "5\n",
      "None\n"
     ]
    }
   ],
   "source": [
    "print(bonAppetit([3, 10, 2, 9], 1, 12))"
   ]
  },
  {
   "cell_type": "markdown",
   "metadata": {},
   "source": [
    "###  Modified kaprekar number\n",
    "https://www.hackerrank.com/challenges/kaprekar-numbers/problem"
   ]
  },
  {
   "cell_type": "code",
   "execution_count": 23,
   "metadata": {},
   "outputs": [],
   "source": [
    "def kaprekarNumbers(p, q):\n",
    "    result = []\n",
    "    for i in range(p,q+1):\n",
    "        sqr = str(i ** 2)\n",
    "        n = len(sqr)\n",
    "        if i == 1:\n",
    "            result.append(i)\n",
    "        elif n >1 and i == int(sqr[:n//2]) + int(sqr[n//2:]):\n",
    "            result.append(i)\n",
    "    if len(result) == 0:\n",
    "        print('invalid range')\n",
    "    else:\n",
    "        print(*result)\n",
    "    return result\n",
    "    "
   ]
  },
  {
   "cell_type": "code",
   "execution_count": null,
   "metadata": {},
   "outputs": [],
   "source": []
  },
  {
   "cell_type": "code",
   "execution_count": 50,
   "metadata": {},
   "outputs": [],
   "source": [
    "from copy import *\n",
    "\n",
    "def almostSorted(arr):\n",
    "    n = len(arr)\n",
    "    if arr == sorted(arr):\n",
    "        print('YES')\n",
    "        return\n",
    "    l = -1\n",
    "    r = -1\n",
    "    for i in range(n-1):\n",
    "        if arr[i] > arr[i+1]:\n",
    "            l = i\n",
    "            break\n",
    "            \n",
    "    for i in range(n-1,0,-1):\n",
    "        if arr[i] < arr[i-1]:\n",
    "            r = i\n",
    "            break\n",
    "        \n",
    "    temp = deepcopy(arr)\n",
    "    \n",
    "    temp[l], temp[r] = temp[r], temp[l]\n",
    "    \n",
    "    if temp == sorted(arr):\n",
    "        print('yes')\n",
    "        print('swap', l+1, r+1)\n",
    "        return\n",
    "    \n",
    "    temp = deepcopy(arr)\n",
    "    temp = temp[:l] + temp[l:r+1][::-1] + temp[r+1:]\n",
    "    \n",
    "    if temp == sorted(arr):\n",
    "        print('yes')\n",
    "        print('reverse', l+1, r+1)\n",
    "        return\n",
    "    \n",
    "    print('No')\n",
    "    return 'No'"
   ]
  },
  {
   "cell_type": "code",
   "execution_count": 51,
   "metadata": {},
   "outputs": [
    {
     "name": "stdout",
     "output_type": "stream",
     "text": [
      "yes\n",
      "reverse 2 5\n"
     ]
    }
   ],
   "source": [
    "almostSorted([1,5,4,3,2,6])"
   ]
  },
  {
   "cell_type": "code",
   "execution_count": null,
   "metadata": {},
   "outputs": [],
   "source": [
    "x = [1]\n",
    "y = []"
   ]
  },
  {
   "cell_type": "markdown",
   "metadata": {},
   "source": [
    "### Jumping on Clouds\n",
    "https://www.hackerrank.com/challenges/jumping-on-the-clouds/problem"
   ]
  },
  {
   "cell_type": "code",
   "execution_count": 48,
   "metadata": {},
   "outputs": [],
   "source": [
    "def jumpingOnClouds(c):\n",
    "    res = 0\n",
    "    i = 0\n",
    "    \n",
    "    while i < len(c)-1:\n",
    "        if i + 2 < len(c) and c[i+2] == 0:\n",
    "            i += 2\n",
    "            res += 1\n",
    "        elif i + 1 < len(c) and c[i+1] == 0:\n",
    "            i += 1\n",
    "            res += 1\n",
    "    return res"
   ]
  },
  {
   "cell_type": "code",
   "execution_count": 49,
   "metadata": {},
   "outputs": [
    {
     "name": "stdout",
     "output_type": "stream",
     "text": [
      "4\n"
     ]
    }
   ],
   "source": [
    "print(jumpingOnClouds([0, 0, 1, 0, 0, 1, 0]))"
   ]
  },
  {
   "cell_type": "code",
   "execution_count": 50,
   "metadata": {},
   "outputs": [],
   "source": [
    "x = '0 1 0 1 0 1 0 1 0 1 0 0 0 1 0 0 0 1 0 0 0 0 0 0 1 0 1 0 1 0 0 0 0 0 1 0 0 1 0 1 0 0 1 0 1 0 1 0 0 0 0 1 0 0 1 0 0 1 0 1 0 0 1 0 1 0 0 1 0 1 0 1 0 1 0 0 0 1 0 1 0 0 0 1 0 1 0 0 0 1 0 1 0 1 0 0 0 0 1 0'\n",
    "y = x.split(\" \")\n",
    "y =  [int(i) for i in y]"
   ]
  },
  {
   "cell_type": "code",
   "execution_count": 51,
   "metadata": {},
   "outputs": [
    {
     "name": "stdout",
     "output_type": "stream",
     "text": [
      "54\n"
     ]
    }
   ],
   "source": [
    "print(jumpingOnClouds(y))"
   ]
  },
  {
   "cell_type": "markdown",
   "metadata": {},
   "source": [
    "### left rotation\n",
    "https://www.hackerrank.com/challenges/ctci-array-left-rotation/problem?h_l=interview&playlist_slugs%5B%5D=interview-preparation-kit&playlist_slugs%5B%5D=arrays"
   ]
  },
  {
   "cell_type": "code",
   "execution_count": 11,
   "metadata": {},
   "outputs": [],
   "source": [
    "def rotLeft(a, d):\n",
    "    \n",
    "    for i in range(d):\n",
    "        x = a[0]\n",
    "        a.pop(0)\n",
    "        a.append(x)\n",
    "#         print(a)\n",
    "    return a\n",
    "        "
   ]
  },
  {
   "cell_type": "code",
   "execution_count": 12,
   "metadata": {},
   "outputs": [
    {
     "name": "stdout",
     "output_type": "stream",
     "text": [
      "[5, 1, 2, 3, 4]\n"
     ]
    }
   ],
   "source": [
    "print(rotLeft([1,2,3,4,5], 4))"
   ]
  },
  {
   "cell_type": "markdown",
   "metadata": {},
   "source": [
    "### minimum swap\n",
    "https://www.hackerrank.com/challenges/minimum-swaps-2/problem?h_l=interview&playlist_slugs%5B%5D=interview-preparation-kit&playlist_slugs%5B%5D=arrays"
   ]
  },
  {
   "cell_type": "code",
   "execution_count": 146,
   "metadata": {},
   "outputs": [],
   "source": [
    "from copy import deepcopy\n",
    "\n",
    "def minimumSwaps(arr):\n",
    "    sortedArr = sorted(deepcopy(arr))\n",
    "    i = 0\n",
    "    ctr = 0\n",
    "    myDict = {}\n",
    "    for j in range(len(arr)):\n",
    "        myDict[arr[j]] = j\n",
    "    while i < len(arr)-1:\n",
    "        mini = sortedArr[i]\n",
    "        miniI = myDict[mini]\n",
    "        if arr[i] == mini:\n",
    "            i += 1\n",
    "            print(arr[i], mini)\n",
    "        else:\n",
    "            myDict[arr[i]] = miniI\n",
    "            arr[i], arr[miniI] = arr[miniI], arr[i]\n",
    "            i += 1\n",
    "            ctr += 1\n",
    "    return ctr\n",
    "\n",
    "#Timecomplexity O(n)"
   ]
  },
  {
   "cell_type": "code",
   "execution_count": 147,
   "metadata": {},
   "outputs": [
    {
     "name": "stdout",
     "output_type": "stream",
     "text": [
      "3\n"
     ]
    }
   ],
   "source": [
    "arr = [4,3,1,2]\n",
    "print(minimumSwaps(arr))"
   ]
  },
  {
   "cell_type": "code",
   "execution_count": null,
   "metadata": {},
   "outputs": [],
   "source": []
  },
  {
   "cell_type": "code",
   "execution_count": 217,
   "metadata": {},
   "outputs": [],
   "source": [
    "def reverse_words_order_and_swap_cases(sentence):\n",
    "    x = sentence.split(' ')\n",
    "    stack = []\n",
    "    for i in x:\n",
    "        stack.append(i.swapcase())\n",
    "    \n",
    "    stack.reverse()\n",
    "    return ' '.join(stack)\n",
    "    \n",
    "        "
   ]
  },
  {
   "cell_type": "code",
   "execution_count": 218,
   "metadata": {},
   "outputs": [],
   "source": [
    "x = 'aWESOME is cODING'"
   ]
  },
  {
   "cell_type": "code",
   "execution_count": 219,
   "metadata": {},
   "outputs": [
    {
     "name": "stdout",
     "output_type": "stream",
     "text": [
      "Coding IS Awesome\n"
     ]
    }
   ],
   "source": [
    "print(reverse_words_order_and_swap_cases(x))"
   ]
  },
  {
   "cell_type": "markdown",
   "metadata": {},
   "source": [
    "### New Year Chaos\n",
    "https://www.hackerrank.com/challenges/new-year-chaos/problem?h_l=interview&playlist_slugs%5B%5D=interview-preparation-kit&playlist_slugs%5B%5D=arrays"
   ]
  },
  {
   "cell_type": "code",
   "execution_count": 42,
   "metadata": {},
   "outputs": [],
   "source": [
    "def minimumBribes1(q):\n",
    "    jump = 0\n",
    "    \n",
    "    for i in range(len(q)):\n",
    "        if q[i] > i+1:\n",
    "            if (q[i] - (i+1)) > 2:\n",
    "                print(q[i]-(i+1))\n",
    "                print('too chaotic')\n",
    "                return\n",
    "            else:\n",
    "                jump += (q[i] - (i+1))\n",
    "    print(jump)\n",
    "    return \n",
    "\n",
    "#unoptimized"
   ]
  },
  {
   "cell_type": "code",
   "execution_count": 43,
   "metadata": {},
   "outputs": [
    {
     "name": "stdout",
     "output_type": "stream",
     "text": [
      "4\n",
      "None\n"
     ]
    }
   ],
   "source": [
    "print(minimumBribes([1, 2, 5, 3, 4, 8, 7, 6]))"
   ]
  },
  {
   "cell_type": "code",
   "execution_count": 70,
   "metadata": {},
   "outputs": [],
   "source": [
    "def minimumBribes2(q):\n",
    "    jump = 0\n",
    "    \n",
    "    for i in range(len(q)-1, 0 ,-1):\n",
    "        if q[i] != i+1:\n",
    "            if q[i-1] == i+1:\n",
    "                jump += 1\n",
    "                q[i-1], q[i] = q[i],q[i-1]\n",
    "            elif q[i-2] == i+1:\n",
    "                jump += 2\n",
    "                q[i-2], q[i-1], q[i] = q[i-1],q[i], q[i-2]\n",
    "            else:\n",
    "                print('too Chaotic')\n",
    "                return\n",
    "    print(jump)"
   ]
  },
  {
   "cell_type": "code",
   "execution_count": 71,
   "metadata": {},
   "outputs": [
    {
     "name": "stdout",
     "output_type": "stream",
     "text": [
      "7\n",
      "None\n"
     ]
    }
   ],
   "source": [
    "print(minimumBribes2([1, 2, 5, 3, 7, 8, 6, 4]))"
   ]
  },
  {
   "cell_type": "markdown",
   "metadata": {},
   "source": [
    "### Two Strings\n",
    "https://www.hackerrank.com/challenges/two-strings/problem?h_l=interview&playlist_slugs%5B%5D=interview-preparation-kit&playlist_slugs%5B%5D=dictionaries-hashmaps"
   ]
  },
  {
   "cell_type": "code",
   "execution_count": 1,
   "metadata": {},
   "outputs": [],
   "source": [
    "def twoStrings(s1, s2):\n",
    "    dum = {}\n",
    "    for i in s1:\n",
    "        if i not in dum:\n",
    "            dum[i] = 1\n",
    "    \n",
    "    for i in s2:\n",
    "        if i in dum:\n",
    "            return 'YES'\n",
    "        \n",
    "    return 'NO'"
   ]
  },
  {
   "cell_type": "markdown",
   "metadata": {},
   "source": [
    "### Ransom Note\n",
    "https://www.hackerrank.com/challenges/ctci-ransom-note/problem?h_l=interview&playlist_slugs%5B%5D=interview-preparation-kit&playlist_slugs%5B%5D=dictionaries-hashmaps"
   ]
  },
  {
   "cell_type": "code",
   "execution_count": null,
   "metadata": {},
   "outputs": [],
   "source": [
    "def checkMagazine(magazine, note):\n",
    "    dummy = {}\n",
    "    for i in magazine:\n",
    "        if i in dummy:\n",
    "            dummy[i] += 1\n",
    "        else:\n",
    "            dummy[i] = 1\n",
    "            \n",
    "    for i in note:\n",
    "        if i in dummy and dummy[i] != 0:\n",
    "            dummy[i] -= 1\n",
    "        else:\n",
    "            return 'NO'\n",
    "    \n",
    "    return 'YES'"
   ]
  },
  {
   "cell_type": "markdown",
   "metadata": {},
   "source": [
    "### Count Triplets\n",
    "https://www.hackerrank.com/challenges/count-triplets-1/problem?h_l=interview&playlist_slugs%5B%5D=interview-preparation-kit&playlist_slugs%5B%5D=dictionaries-hashmaps"
   ]
  },
  {
   "cell_type": "code",
   "execution_count": 76,
   "metadata": {},
   "outputs": [],
   "source": [
    "def countTriplets(arr, r):\n",
    "    \n",
    "    counter = 0\n",
    "    before =  {}\n",
    "    after = {}\n",
    "    \n",
    "    for i in arr:\n",
    "        if i in after:\n",
    "            after[i] += 1\n",
    "        else:\n",
    "            after[i] = 1\n",
    "        \n",
    "    for i in arr:\n",
    "        after[i] -= 1\n",
    "        print(i)\n",
    "        print('before', before)\n",
    "        print('after', after)\n",
    "        if i % r == 0 and (i/r in before) and (i * r in after):\n",
    "            print('--- count' , i)\n",
    "            counter += after[i*r] * before[i/r]\n",
    "            \n",
    "            print(counter)\n",
    "            \n",
    "            if i in before:\n",
    "                before[i] += 1\n",
    "            else:\n",
    "                before[i] = 1\n",
    "        else:\n",
    "            print('this is else', i)\n",
    "            if i in before:\n",
    "                before[i] += 1\n",
    "            else:\n",
    "                before[i] = 1\n",
    "    return counter"
   ]
  },
  {
   "cell_type": "code",
   "execution_count": 77,
   "metadata": {},
   "outputs": [
    {
     "name": "stdout",
     "output_type": "stream",
     "text": [
      "1\n",
      "before {}\n",
      "after {1: 0, 3: 1, 9: 2, 27: 1, 81: 1}\n",
      "this is else 1\n",
      "3\n",
      "before {1: 1}\n",
      "after {1: 0, 3: 0, 9: 2, 27: 1, 81: 1}\n",
      "--- count 3\n",
      "2\n",
      "9\n",
      "before {1: 1, 3: 1}\n",
      "after {1: 0, 3: 0, 9: 1, 27: 1, 81: 1}\n",
      "--- count 9\n",
      "3\n",
      "9\n",
      "before {1: 1, 3: 1, 9: 1}\n",
      "after {1: 0, 3: 0, 9: 0, 27: 1, 81: 1}\n",
      "--- count 9\n",
      "4\n",
      "27\n",
      "before {1: 1, 3: 1, 9: 2}\n",
      "after {1: 0, 3: 0, 9: 0, 27: 0, 81: 1}\n",
      "--- count 27\n",
      "6\n",
      "81\n",
      "before {1: 1, 3: 1, 9: 2, 27: 1}\n",
      "after {1: 0, 3: 0, 9: 0, 27: 0, 81: 0}\n",
      "this is else 81\n"
     ]
    },
    {
     "data": {
      "text/plain": [
       "6"
      ]
     },
     "execution_count": 77,
     "metadata": {},
     "output_type": "execute_result"
    }
   ],
   "source": [
    "countTriplets([1, 3, 9, 9, 27, 81], 3)"
   ]
  },
  {
   "cell_type": "markdown",
   "metadata": {},
   "source": [
    "### decipher message\n",
    "https://www.codewars.com/kata/5a1a144f8ba914bbe800003f/train/python"
   ]
  },
  {
   "cell_type": "code",
   "execution_count": 100,
   "metadata": {},
   "outputs": [],
   "source": [
    "def decipher_message(message):\n",
    "    dim = int(len(message)**0.5)\n",
    "    arr = []\n",
    "    new = []\n",
    "    ctr = 0\n",
    "    for i in range(dim):\n",
    "        arr.append(message[dim*i:dim*(i+1)])\n",
    "    \n",
    "    while ctr < len(arr):\n",
    "        for i in arr:\n",
    "            new.append(i[ctr])\n",
    "        ctr += 1\n",
    "    \n",
    "    return ''.join(new)"
   ]
  },
  {
   "cell_type": "code",
   "execution_count": 101,
   "metadata": {},
   "outputs": [
    {
     "data": {
      "text/plain": [
       "'Answer to Number 5 Part b'"
      ]
     },
     "execution_count": 101,
     "metadata": {},
     "output_type": "execute_result"
    }
   ],
   "source": [
    "decipher_message('ArNran u rstm5twob  e ePb')"
   ]
  },
  {
   "cell_type": "markdown",
   "metadata": {},
   "source": [
    "### Scramblies\n",
    "https://www.codewars.com/kata/55c04b4cc56a697bb0000048/train/python"
   ]
  },
  {
   "cell_type": "code",
   "execution_count": 1,
   "metadata": {},
   "outputs": [],
   "source": [
    "def scramble(s1, s2):\n",
    "    dummy = {}\n",
    "    for i in s1:\n",
    "        if i in dummy:\n",
    "            dummy[i] += 1\n",
    "        else:\n",
    "            dummy[i] = 1\n",
    "    for i in s2:\n",
    "        if i in dummy and dummy[i] > 0:\n",
    "            dummy[i] -= 1\n",
    "        else:\n",
    "            return False\n",
    "    return True"
   ]
  },
  {
   "cell_type": "markdown",
   "metadata": {},
   "source": [
    "###  Range Extraction\n",
    "https://www.codewars.com/kata/51ba717bb08c1cd60f00002f/train/python\n"
   ]
  },
  {
   "cell_type": "code",
   "execution_count": 97,
   "metadata": {},
   "outputs": [],
   "source": [
    "\n",
    "# [-6,-3,-2,-1,0,1,3,4,5,7,8,9,10,11,14,15,17,18,19,20]\n",
    "\n",
    "def solution(args):\n",
    "    ctr = 0\n",
    "    curr = 0\n",
    "    new = []\n",
    "    for i in range(len(args)-1):\n",
    "        if args[i+1] == args[i]+1:\n",
    "            ctr += 1\n",
    "        else:\n",
    "            if ctr == 0:\n",
    "                new.append(str(args[i]))\n",
    "                curr = i\n",
    "            elif ctr == 1:\n",
    "                new.append(str(args[i-1]))\n",
    "                new.append(str(args[i]))\n",
    "            else:\n",
    "                new.append(str(args[curr]) +'-'+ str(args[curr]+ctr))\n",
    "            curr = i+1\n",
    "            ctr = 0\n",
    "    if ctr > 1:\n",
    "        \n",
    "        new.append(str(args[curr]) +'-'+ str(args[curr]+ctr))\n",
    "    elif ctr == 1:\n",
    "        \n",
    "        print('occired')\n",
    "        print(args[curr-1] , args[curr])\n",
    "#         new.append(str(args[curr-1]))\n",
    "        new.append(str(args[curr]))\n",
    "        new.append(str(args[curr+1]))\n",
    "    elif ctr == 0:\n",
    "        occured\n",
    "        new.append(str(args[-1]))\n",
    "        \n",
    "    return ','.join(new)\n",
    "    "
   ]
  },
  {
   "cell_type": "code",
   "execution_count": 98,
   "metadata": {},
   "outputs": [
    {
     "name": "stdout",
     "output_type": "stream",
     "text": [
      "occired\n",
      "-37 -34\n"
     ]
    },
    {
     "data": {
      "text/plain": [
       "'-81--78,-76,-75,-72,-69,-67,-65,-62,-59,-57,-56,-53,-51,-50,-47--45,-43,-42,-40,-38,-37,-34,-33'"
      ]
     },
     "execution_count": 98,
     "metadata": {},
     "output_type": "execute_result"
    }
   ],
   "source": [
    "solution([-81,-80,-79,-78, -76,-75,-72,-69,-67,-65,-62,-59,-57,-56,-53,-51,-50,-47,-46,-45,-43,-42,-40,-38,-37,-34,-33])"
   ]
  },
  {
   "cell_type": "code",
   "execution_count": 88,
   "metadata": {},
   "outputs": [
    {
     "data": {
      "text/plain": [
       "'-81--78,-76,-75,-72,-69,-67,-65,-62,-59,-57,-56,-53,-51,-50,-47--45,-43,-42,-40,-38,-37,-37,-34'"
      ]
     },
     "execution_count": 88,
     "metadata": {},
     "output_type": "execute_result"
    }
   ],
   "source": [
    "'-81--78,-76,-75,-72,-69,-67,-65,-62,-59,-57,-56,-53,-51,-50,-47--45,-43,-42,-40,-38,-37,-37,-34'"
   ]
  },
  {
   "cell_type": "code",
   "execution_count": 86,
   "metadata": {},
   "outputs": [
    {
     "data": {
      "text/plain": [
       "'-81--78,-76,-75,-72,-69,-67,-65,-62,-59,-57,-56,-53,-51,-50,-47--45,-43,-42,-40,-38,-37,-34,-33'"
      ]
     },
     "execution_count": 86,
     "metadata": {},
     "output_type": "execute_result"
    }
   ],
   "source": [
    "'-81--78,-76,-75,-72,-69,-67,-65,-62,-59,-57,-56,-53,-51,-50,-47--45,-43,-42,-40,-38,-37,-34,-33'"
   ]
  },
  {
   "cell_type": "code",
   "execution_count": null,
   "metadata": {},
   "outputs": [],
   "source": [
    "[-81,-80,-79,-78, -76,-75,-72,-69,-67,-65,-62,-59,-57,-56,-53,-51,-50,-47,-46,-45,-43,-42,-40,-38,-37,-34,-33]"
   ]
  },
  {
   "cell_type": "code",
   "execution_count": 99,
   "metadata": {},
   "outputs": [
    {
     "ename": "TypeError",
     "evalue": "'>' not supported between instances of 'NoneType' and 'int'",
     "output_type": "error",
     "traceback": [
      "\u001b[1;31m---------------------------------------------------------------------------\u001b[0m",
      "\u001b[1;31mTypeError\u001b[0m                                 Traceback (most recent call last)",
      "\u001b[1;32m<ipython-input-99-376a8aa884e6>\u001b[0m in \u001b[0;36m<module>\u001b[1;34m\u001b[0m\n\u001b[1;32m----> 1\u001b[1;33m \u001b[1;32mNone\u001b[0m \u001b[1;33m>\u001b[0m \u001b[1;36m0\u001b[0m\u001b[1;33m\u001b[0m\u001b[1;33m\u001b[0m\u001b[0m\n\u001b[0m",
      "\u001b[1;31mTypeError\u001b[0m: '>' not supported between instances of 'NoneType' and 'int'"
     ]
    }
   ],
   "source": [
    "None > 0"
   ]
  },
  {
   "cell_type": "code",
   "execution_count": 105,
   "metadata": {},
   "outputs": [],
   "source": [
    "x = 'aabcde'\n",
    "\n",
    "\n",
    "# y = dict.fromkeys(x,1)"
   ]
  },
  {
   "cell_type": "code",
   "execution_count": 106,
   "metadata": {},
   "outputs": [],
   "source": [
    "y = { char:(x.count(char)) for char in x }"
   ]
  },
  {
   "cell_type": "code",
   "execution_count": 107,
   "metadata": {},
   "outputs": [
    {
     "data": {
      "text/plain": [
       "{'a': 2, 'b': 1, 'c': 1, 'd': 1, 'e': 1}"
      ]
     },
     "execution_count": 107,
     "metadata": {},
     "output_type": "execute_result"
    }
   ],
   "source": [
    "y"
   ]
  },
  {
   "cell_type": "markdown",
   "metadata": {},
   "source": [
    "### Rot13\n",
    "https://www.codewars.com/kata/530e15517bc88ac656000716/train/python"
   ]
  },
  {
   "cell_type": "code",
   "execution_count": 1,
   "metadata": {},
   "outputs": [],
   "source": [
    "def rot13(message):\n",
    "    new = []\n",
    "    for i in message:\n",
    "        if i.isalpha():\n",
    "            if (i.isupper()):\n",
    "                new.append(chr((ord(i) + 13-65) % 26 + 65))\n",
    "            else:\n",
    "                new.append(chr((ord(i) + 13 - 97) % 26 + 97))\n",
    "        else:\n",
    "            new.append(i)\n",
    "    return ''.join(new)"
   ]
  },
  {
   "cell_type": "code",
   "execution_count": 2,
   "metadata": {},
   "outputs": [],
   "source": [
    "x = 'a ko ahsdj x'"
   ]
  },
  {
   "cell_type": "code",
   "execution_count": 3,
   "metadata": {},
   "outputs": [
    {
     "ename": "ValueError",
     "evalue": "empty separator",
     "output_type": "error",
     "traceback": [
      "\u001b[1;31m---------------------------------------------------------------------------\u001b[0m",
      "\u001b[1;31mValueError\u001b[0m                                Traceback (most recent call last)",
      "\u001b[1;32m<ipython-input-3-bf5ea4409d7e>\u001b[0m in \u001b[0;36m<module>\u001b[1;34m\u001b[0m\n\u001b[1;32m----> 1\u001b[1;33m \u001b[0mx\u001b[0m\u001b[1;33m.\u001b[0m\u001b[0msplit\u001b[0m\u001b[1;33m(\u001b[0m\u001b[1;34m''\u001b[0m\u001b[1;33m)\u001b[0m\u001b[1;33m\u001b[0m\u001b[1;33m\u001b[0m\u001b[0m\n\u001b[0m",
      "\u001b[1;31mValueError\u001b[0m: empty separator"
     ]
    }
   ],
   "source": [
    "x.split('')"
   ]
  },
  {
   "cell_type": "markdown",
   "metadata": {},
   "source": [
    "### your order, please\n",
    "https://www.codewars.com/kata/55c45be3b2079eccff00010f/solutions/python"
   ]
  },
  {
   "cell_type": "code",
   "execution_count": 12,
   "metadata": {},
   "outputs": [],
   "source": [
    "def order(sentence):\n",
    "    index = {}\n",
    "    o = sentence.split(\" \")\n",
    "    new = []\n",
    "    \n",
    "    for i in o:\n",
    "        for j in i:\n",
    "            if j.isdigit():\n",
    "                index[j] = i \n",
    "#     print(index)\n",
    "    for i in range(1,len(index)+1):\n",
    "        new.append(index[str(i)])\n",
    "    \n",
    "    return ' '.join(new)"
   ]
  },
  {
   "cell_type": "code",
   "execution_count": 13,
   "metadata": {},
   "outputs": [
    {
     "name": "stdout",
     "output_type": "stream",
     "text": [
      "Thi1s is2 3a T4est\n"
     ]
    }
   ],
   "source": [
    "print(order(\"is2 Thi1s T4est 3a\"))"
   ]
  },
  {
   "cell_type": "code",
   "execution_count": null,
   "metadata": {},
   "outputs": [],
   "source": []
  }
 ],
 "metadata": {
  "kernelspec": {
   "display_name": "Python 3",
   "language": "python",
   "name": "python3"
  },
  "language_info": {
   "codemirror_mode": {
    "name": "ipython",
    "version": 3
   },
   "file_extension": ".py",
   "mimetype": "text/x-python",
   "name": "python",
   "nbconvert_exporter": "python",
   "pygments_lexer": "ipython3",
   "version": "3.8.3"
  }
 },
 "nbformat": 4,
 "nbformat_minor": 4
}
