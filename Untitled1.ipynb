{
 "cells": [
  {
   "cell_type": "code",
   "execution_count": null,
   "metadata": {},
   "outputs": [],
   "source": [
    "print(\"Hello World\")"
   ]
  },
  {
   "cell_type": "code",
   "execution_count": null,
   "metadata": {},
   "outputs": [],
   "source": [
    "nemo = ['nemo']"
   ]
  },
  {
   "cell_type": "code",
   "execution_count": null,
   "metadata": {},
   "outputs": [],
   "source": [
    "boxes = [1,2,3,4,5]"
   ]
  },
  {
   "cell_type": "code",
   "execution_count": null,
   "metadata": {},
   "outputs": [],
   "source": [
    "def logPairs(array):\n",
    "    for i in array:\n",
    "        for j in array:\n",
    "            print(i, j)\n",
    "    return None"
   ]
  },
  {
   "cell_type": "code",
   "execution_count": null,
   "metadata": {},
   "outputs": [],
   "source": [
    "logPairs(boxes)"
   ]
  },
  {
   "cell_type": "code",
   "execution_count": null,
   "metadata": {},
   "outputs": [],
   "source": [
    "array1 =  ['a','b','c','d'] \n",
    "array2 =  ['x','y','z','i'] \n",
    "dict1 = {}\n"
   ]
  },
  {
   "cell_type": "code",
   "execution_count": null,
   "metadata": {},
   "outputs": [],
   "source": [
    "if 'a' in dict1:\n",
    "    print(\"TRUE\")\n",
    "else:\n",
    "    print(\"FALSE\")"
   ]
  },
  {
   "cell_type": "code",
   "execution_count": null,
   "metadata": {},
   "outputs": [],
   "source": [
    "#Reverse String\n",
    "\n",
    "def reverse(strs):\n",
    "    strs = list(strs)\n",
    "    end = len(strs)-1\n",
    "    for i in range(0,len(strs)):\n",
    "        strs[i], strs[end] = strs[end], strs[i]\n",
    "        end -= 1\n",
    "        if i == end or i > end:\n",
    "            return \"\".join(strs)\n",
    "    return None\n",
    "    "
   ]
  },
  {
   "cell_type": "code",
   "execution_count": null,
   "metadata": {},
   "outputs": [],
   "source": [
    "print(reverse(\"o\"))"
   ]
  },
  {
   "cell_type": "code",
   "execution_count": null,
   "metadata": {},
   "outputs": [],
   "source": [
    "strs = \"hELLO\"\n",
    "strs = list(strs)\n",
    "strs"
   ]
  },
  {
   "cell_type": "code",
   "execution_count": null,
   "metadata": {},
   "outputs": [],
   "source": [
    "#merge sorted array"
   ]
  },
  {
   "cell_type": "code",
   "execution_count": 38,
   "metadata": {},
   "outputs": [],
   "source": [
    "array1 = [0,3,4,31] \n",
    "array2 = [4,6,30] \n",
    "\n",
    "def mergeSortedArrays(array1, array20):\n",
    "    return sorted(array1+array2)\n",
    "\n",
    "mergeSortedLambda = lambda a, b: sorted(a + b)\n"
   ]
  },
  {
   "cell_type": "code",
   "execution_count": 102,
   "metadata": {},
   "outputs": [],
   "source": [
    "array1 = [0,3,4,31] \n",
    "array2 = [4,6,30] "
   ]
  },
  {
   "cell_type": "code",
   "execution_count": 40,
   "metadata": {},
   "outputs": [
    {
     "name": "stdout",
     "output_type": "stream",
     "text": [
      "[0, 3, 4, 4, 6, 30, 31]\n",
      "[0, 3, 4, 4, 6, 30, 31]\n"
     ]
    }
   ],
   "source": [
    "print(mergeSortedArrays(array1,array2))\n",
    "print(mergeSortedLambda(array1,array2))"
   ]
  },
  {
   "cell_type": "code",
   "execution_count": 110,
   "metadata": {},
   "outputs": [],
   "source": [
    "def mergeSortedArray(array1,array2):\n",
    "    if len(array1) == 0:\n",
    "        return array2\n",
    "    elif len(array2) == 0:\n",
    "        return array1\n",
    "    \n",
    "    total = len(array1)+len(array2)\n",
    "    x = 0 \n",
    "    y = 0\n",
    "    sortedArray = []\n",
    "    print(\"total\", total)\n",
    "    for i in range(0, total - 1):   \n",
    "\n",
    "            \n",
    "        if array1[x] < array2[y]:\n",
    "            sortedArray.append(array1[x])\n",
    "            print(sortedArray)\n",
    "            if x <= len(array1):\n",
    "                x+= 1\n",
    "                print(\"x is\", x)\n",
    "                print(\"len is\", len(array1))\n",
    "\n",
    "        elif (array2[y] < array1[x]):\n",
    "            sortedArray.append(array2[y])\n",
    "            print(sortedArray)\n",
    "            if y <= len(array2):\n",
    "                y += 1\n",
    "                print(\"y is\", y)\n",
    "\n",
    "        elif array2[y] == array1[x]:\n",
    "            sortedArray.append(array2[y])\n",
    "            if y <= len(array2):\n",
    "                y += 1\n",
    "                print(\"y is\", y)\n",
    "                \n",
    "        if(y < len(array2)-1):\n",
    "            print(\"GUMANA\")\n",
    "#             sortedArray.append(array1[x])\n",
    "#             print(array1 [x], array2[y])\n",
    "                \n",
    "      \n",
    "\n",
    "        print(\"ITERATION\", i)\n",
    "    return sortedArray"
   ]
  },
  {
   "cell_type": "code",
   "execution_count": 111,
   "metadata": {},
   "outputs": [
    {
     "name": "stdout",
     "output_type": "stream",
     "text": [
      "total 7\n",
      "[0]\n",
      "x is 1\n",
      "len is 4\n",
      "GUMANA\n",
      "ITERATION 0\n",
      "[0, 3]\n",
      "x is 2\n",
      "len is 4\n",
      "GUMANA\n",
      "ITERATION 1\n",
      "y is 1\n",
      "GUMANA\n",
      "ITERATION 2\n",
      "[0, 3, 4, 4]\n",
      "x is 3\n",
      "len is 4\n",
      "GUMANA\n",
      "ITERATION 3\n",
      "[0, 3, 4, 4, 6]\n",
      "y is 2\n",
      "ITERATION 4\n",
      "[0, 3, 4, 4, 6, 30]\n",
      "y is 3\n",
      "ITERATION 5\n",
      "[0, 3, 4, 4, 6, 30]\n"
     ]
    }
   ],
   "source": [
    "print(mergeSortedArray(array1,array2))"
   ]
  },
  {
   "cell_type": "markdown",
   "metadata": {},
   "source": [
    "# JODORANT\n"
   ]
  },
  {
   "cell_type": "code",
   "execution_count": 2,
   "metadata": {},
   "outputs": [
    {
     "data": {
      "text/plain": [
       "[1, 1, 1, 1, 1, 1, 1, 1, 1, 1]"
      ]
     },
     "execution_count": 2,
     "metadata": {},
     "output_type": "execute_result"
    }
   ],
   "source": [
    "#hashtables\n",
    "[1] * 10"
   ]
  },
  {
   "cell_type": "code",
   "execution_count": 10,
   "metadata": {},
   "outputs": [],
   "source": [
    "class HashTable:\n",
    "    def __init__(self, size):\n",
    "        self.data = [None] * size\n",
    "        self.size = size\n",
    "    def _hash(self,key):\n",
    "        hash = 0\n",
    "        \n",
    "        for i in range(0,len(key)):\n",
    "            hash = (hash + ord(key[i]) * i) % len(self.data)\n",
    "        return hash\n",
    "    \n",
    "    def _set(self, key, value):\n",
    "        address = self._hash(key)\n",
    "        \n",
    "        if self.data[address] == None:\n",
    "            self.data[address] = []\n",
    "\n",
    "        self.data[address].append([key,value])\n",
    "        return self.data\n",
    "        \n",
    "    def _get(self, key):\n",
    "        address = self._hash(key)\n",
    "        currentBucket = self.data[address]\n",
    "        if len(currentBucket) > 1:\n",
    "                for i in currentBucket:\n",
    "                    if i[0] == key:\n",
    "                        return i[1]\n",
    "        else: \n",
    "            return currentBucket[0][1]\n",
    "        return \"Key not in Dictionary\"\n",
    "    def keys(self):\n",
    "        keyValues = []\n",
    "        for i in self.data:\n",
    "            if i != None:\n",
    "                for j in i:\n",
    "                    keyValues.append(j[0])\n",
    "        return keyValues\n",
    "    \n",
    "        "
   ]
  },
  {
   "cell_type": "code",
   "execution_count": 11,
   "metadata": {},
   "outputs": [
    {
     "data": {
      "text/plain": [
       "[[['Orange', 3000], ['Beans', 8989]],\n",
       " None,\n",
       " [['Orchard', 4000]],\n",
       " [['grapes', 1000], ['Banana', 1231]],\n",
       " [['apple', 3233]]]"
      ]
     },
     "execution_count": 11,
     "metadata": {},
     "output_type": "execute_result"
    }
   ],
   "source": [
    "myHashTable = HashTable(5)\n",
    "myHashTable._set('grapes', 1000)\n",
    "myHashTable._set('apple', 3233)\n",
    "myHashTable._set('Banana', 1231 )\n",
    "myHashTable._set('Orange', 3000 )\n",
    "myHashTable._set('Orchard', 4000)\n",
    "myHashTable._set('Beans',  8989)"
   ]
  },
  {
   "cell_type": "code",
   "execution_count": 39,
   "metadata": {},
   "outputs": [
    {
     "data": {
      "text/plain": [
       "['Orange', 'Beans', 'Orchard', 'grapes', 'Banana', 'apple']"
      ]
     },
     "execution_count": 39,
     "metadata": {},
     "output_type": "execute_result"
    }
   ],
   "source": [
    "myHashTable.keys()"
   ]
  },
  {
   "cell_type": "code",
   "execution_count": 42,
   "metadata": {},
   "outputs": [
    {
     "name": "stdout",
     "output_type": "stream",
     "text": [
      "1000\n"
     ]
    }
   ],
   "source": [
    "print(myHashTable._get('grapes'))\n"
   ]
  },
  {
   "cell_type": "markdown",
   "metadata": {},
   "source": [
    "# Google Question\n",
    "Return first recurring character"
   ]
  },
  {
   "cell_type": "code",
   "execution_count": 43,
   "metadata": {},
   "outputs": [],
   "source": [
    "#Given an array = [2,5,1,2,3,5,1,2,4]\n",
    "#It should return 2\n",
    "\n",
    "# Given an array = [2,1,1,2,3,5,1,2,4]\n",
    "# It should return 1\n",
    "\n",
    "# Given an array = [2,3,4,5]\n",
    "# It should return none"
   ]
  },
  {
   "cell_type": "code",
   "execution_count": 52,
   "metadata": {},
   "outputs": [],
   "source": [
    "array = [2,3,4,5]\n",
    "\n",
    "def checkRecurring(array):\n",
    "    dummy = {}\n",
    "    for i in array:\n",
    "        if i in dummy:\n",
    "            return i\n",
    "        else: \n",
    "            dummy[i] = True\n",
    "    return \"None\""
   ]
  },
  {
   "cell_type": "code",
   "execution_count": 53,
   "metadata": {},
   "outputs": [
    {
     "data": {
      "text/plain": [
       "'None'"
      ]
     },
     "execution_count": 53,
     "metadata": {},
     "output_type": "execute_result"
    }
   ],
   "source": [
    "checkRecurring(array)"
   ]
  },
  {
   "cell_type": "code",
   "execution_count": null,
   "metadata": {},
   "outputs": [],
   "source": []
  },
  {
   "cell_type": "code",
   "execution_count": 37,
   "metadata": {},
   "outputs": [],
   "source": [
    "def pig_it(text):\n",
    "    text = text.split(\" \")\n",
    "    result = []\n",
    "    for i in text:\n",
    "        if i.isalpha():\n",
    "            result.append(i[1:] + i[0]+ \"ay\")\n",
    "        else:\n",
    "            result.append(i)\n",
    "    return \" \".join(result)\n",
    "\n"
   ]
  },
  {
   "cell_type": "code",
   "execution_count": 38,
   "metadata": {},
   "outputs": [
    {
     "name": "stdout",
     "output_type": "stream",
     "text": [
      "igPay atinlay siay oolcay\n"
     ]
    }
   ],
   "source": [
    "print(pig_it(\"Pig latin is cool\"))"
   ]
  },
  {
   "cell_type": "code",
   "execution_count": 25,
   "metadata": {},
   "outputs": [
    {
     "data": {
      "text/plain": [
       "['o', 'pig', 'latin', 'is', 'cool']"
      ]
     },
     "execution_count": 25,
     "metadata": {},
     "output_type": "execute_result"
    }
   ],
   "source": [
    "\"o pig latin is cool\".split(\" \")"
   ]
  },
  {
   "cell_type": "code",
   "execution_count": 4,
   "metadata": {},
   "outputs": [],
   "source": [
    "x = 'pig'"
   ]
  },
  {
   "cell_type": "code",
   "execution_count": 6,
   "metadata": {},
   "outputs": [
    {
     "data": {
      "text/plain": [
       "'ig'"
      ]
     },
     "execution_count": 6,
     "metadata": {},
     "output_type": "execute_result"
    }
   ],
   "source": [
    "x[1:]"
   ]
  },
  {
   "cell_type": "code",
   "execution_count": 39,
   "metadata": {},
   "outputs": [
    {
     "data": {
      "text/plain": [
       "False"
      ]
     },
     "execution_count": 39,
     "metadata": {},
     "output_type": "execute_result"
    }
   ],
   "source": [
    "None == 0"
   ]
  },
  {
   "cell_type": "code",
   "execution_count": 40,
   "metadata": {},
   "outputs": [
    {
     "data": {
      "text/plain": [
       "True"
      ]
     },
     "execution_count": 40,
     "metadata": {},
     "output_type": "execute_result"
    }
   ],
   "source": [
    "False == 0"
   ]
  },
  {
   "cell_type": "code",
   "execution_count": 92,
   "metadata": {},
   "outputs": [],
   "source": [
    "\n",
    "def move_zeros(array):\n",
    "    zero = []\n",
    "    for i in range(0,len(array)):\n",
    "        if array[i] == 0 and array[i] is not False:  \n",
    "            zero.append(i)\n",
    "    zero.reverse()\n",
    "    for i in zero:\n",
    "        array.pop(i)\n",
    "        array.append(0)\n",
    "    return array"
   ]
  },
  {
   "cell_type": "code",
   "execution_count": 93,
   "metadata": {},
   "outputs": [
    {
     "name": "stdout",
     "output_type": "stream",
     "text": [
      "[9, 9, 1, 2, 1, 1, 3, 1, 9, 9, 0, 0, 0, 0, 0, 0, 0, 0, 0, 0]\n",
      "[9, 9, 1, 2, 1, 1, 3, 1, 9, 9, 0, 0, 0, 0, 0, 0, 0, 0, 0, 0]\n"
     ]
    }
   ],
   "source": [
    "print(move_zeros([9, 0.0, 9, 1, 2, 1, 1, 0.0, 3, 1, 9, 9, 0, 0, 0, 0, 0, 0, 0, 0]))\n",
    "print([9, 9, 1, 2, 1, 1, 3, 1, 9, 9, 0, 0, 0, 0, 0, 0, 0, 0, 0, 0])"
   ]
  },
  {
   "cell_type": "code",
   "execution_count": 51,
   "metadata": {},
   "outputs": [
    {
     "data": {
      "text/plain": [
       "'a'"
      ]
     },
     "execution_count": 51,
     "metadata": {},
     "output_type": "execute_result"
    }
   ],
   "source": [
    "x = [1,2,3]\n",
    "str('a')"
   ]
  },
  {
   "cell_type": "code",
   "execution_count": 52,
   "metadata": {},
   "outputs": [],
   "source": [
    "x.append(0*0)"
   ]
  },
  {
   "cell_type": "code",
   "execution_count": 53,
   "metadata": {},
   "outputs": [
    {
     "data": {
      "text/plain": [
       "[1, 2, 3, 0]"
      ]
     },
     "execution_count": 53,
     "metadata": {},
     "output_type": "execute_result"
    }
   ],
   "source": [
    "x"
   ]
  },
  {
   "cell_type": "code",
   "execution_count": 82,
   "metadata": {},
   "outputs": [
    {
     "name": "stderr",
     "output_type": "stream",
     "text": [
      "<>:1: SyntaxWarning: \"is\" with a literal. Did you mean \"==\"?\n",
      "<>:1: SyntaxWarning: \"is\" with a literal. Did you mean \"==\"?\n",
      "<ipython-input-82-50a1c39bd3e1>:1: SyntaxWarning: \"is\" with a literal. Did you mean \"==\"?\n",
      "  0.0 is 0\n"
     ]
    },
    {
     "data": {
      "text/plain": [
       "False"
      ]
     },
     "execution_count": 82,
     "metadata": {},
     "output_type": "execute_result"
    }
   ],
   "source": [
    "0.0 is 0"
   ]
  },
  {
   "cell_type": "code",
   "execution_count": 90,
   "metadata": {},
   "outputs": [
    {
     "name": "stderr",
     "output_type": "stream",
     "text": [
      "<>:1: SyntaxWarning: \"is\" with a literal. Did you mean \"==\"?\n",
      "<>:1: SyntaxWarning: \"is\" with a literal. Did you mean \"==\"?\n",
      "<ipython-input-90-d56188cd2555>:1: SyntaxWarning: \"is\" with a literal. Did you mean \"==\"?\n",
      "  int(False) is 0\n"
     ]
    },
    {
     "data": {
      "text/plain": [
       "True"
      ]
     },
     "execution_count": 90,
     "metadata": {},
     "output_type": "execute_result"
    }
   ],
   "source": [
    "int(False) is 0"
   ]
  },
  {
   "cell_type": "code",
   "execution_count": 150,
   "metadata": {},
   "outputs": [],
   "source": [
    "def nameList(names):\n",
    "    result = []\n",
    "    if len(names) == 1:\n",
    "        return names[0]['name']\n",
    "    \n",
    "    elif len(names) == 2:\n",
    "        return names[0]['name'] + \" & \" + names[1]['name']\n",
    "    \n",
    "    elif len(names) == 3:\n",
    "        return names[0]['name'] +', ' + names[1]['name'] + \" & \" + names[2]['name']\n",
    "    \n",
    "    elif len(names) > 3: \n",
    "        for i in range(0, len(names) - 3):\n",
    "            result.append((names[i]['name'] + ', '))\n",
    "        result.append((names[-2]['name'] + \" & \" + names[-1]['name']))\n",
    "    return \"\".join(result)"
   ]
  },
  {
   "cell_type": "code",
   "execution_count": 151,
   "metadata": {},
   "outputs": [
    {
     "name": "stdout",
     "output_type": "stream",
     "text": [
      "3 this is the length\n"
     ]
    },
    {
     "data": {
      "text/plain": [
       "'Bart, Lisa & Homer'"
      ]
     },
     "execution_count": 151,
     "metadata": {},
     "output_type": "execute_result"
    }
   ],
   "source": [
    "nameList([{'name': 'Bart'},{'name': 'Lisa'},{'name': 'Homer'}])"
   ]
  },
  {
   "cell_type": "code",
   "execution_count": 127,
   "metadata": {},
   "outputs": [
    {
     "data": {
      "text/plain": [
       "2"
      ]
     },
     "execution_count": 127,
     "metadata": {},
     "output_type": "execute_result"
    }
   ],
   "source": [
    "len(names)"
   ]
  },
  {
   "cell_type": "code",
   "execution_count": 123,
   "metadata": {},
   "outputs": [
    {
     "data": {
      "text/plain": [
       "'Bart & Lisa'"
      ]
     },
     "execution_count": 123,
     "metadata": {},
     "output_type": "execute_result"
    }
   ],
   "source": [
    "names[0]['name'] + \" & \" + names[1]['name']"
   ]
  },
  {
   "cell_type": "code",
   "execution_count": 147,
   "metadata": {},
   "outputs": [],
   "source": [
    "for i in range(0,0):\n",
    "    print('A')"
   ]
  },
  {
   "cell_type": "code",
   "execution_count": 217,
   "metadata": {},
   "outputs": [],
   "source": [
    "from math import factorial\n",
    "def zeros(n):\n",
    "    result = factorial(n)\n",
    "    new = str(result)[::-1]\n",
    "    ctr = 0\n",
    "    for char in str(new):\n",
    "        if int(char) == 0:\n",
    "            ctr += 1\n",
    "        else:\n",
    "            return (ctr)\n",
    "    return ctr"
   ]
  },
  {
   "cell_type": "code",
   "execution_count": 218,
   "metadata": {},
   "outputs": [
    {
     "name": "stdout",
     "output_type": "stream",
     "text": [
      "this is  0\n",
      "this is  2\n",
      "1\n"
     ]
    }
   ],
   "source": [
    "print(zeros(6))"
   ]
  },
  {
   "cell_type": "code",
   "execution_count": 198,
   "metadata": {},
   "outputs": [],
   "source": [
    "x = 1"
   ]
  },
  {
   "cell_type": "code",
   "execution_count": 171,
   "metadata": {},
   "outputs": [],
   "source": [
    "x *= 3"
   ]
  },
  {
   "cell_type": "code",
   "execution_count": 172,
   "metadata": {},
   "outputs": [
    {
     "data": {
      "text/plain": [
       "3"
      ]
     },
     "execution_count": 172,
     "metadata": {},
     "output_type": "execute_result"
    }
   ],
   "source": [
    "x"
   ]
  },
  {
   "cell_type": "code",
   "execution_count": 240,
   "metadata": {},
   "outputs": [],
   "source": [
    "def zeros(n):\n",
    "    five = 5\n",
    "    result = 0\n",
    "    while n+1 > five:\n",
    "        print('this is ',five)\n",
    "        result += int(n/five)\n",
    "        five *= 5\n",
    "    return result"
   ]
  },
  {
   "cell_type": "code",
   "execution_count": 289,
   "metadata": {},
   "outputs": [
    {
     "name": "stdout",
     "output_type": "stream",
     "text": [
      "this is  5\n",
      "this is  25\n",
      "this is  125\n"
     ]
    },
    {
     "data": {
      "text/plain": [
       "31"
      ]
     },
     "execution_count": 289,
     "metadata": {},
     "output_type": "execute_result"
    }
   ],
   "source": [
    "zeros(125)"
   ]
  },
  {
   "cell_type": "code",
   "execution_count": 221,
   "metadata": {},
   "outputs": [
    {
     "data": {
      "text/plain": [
       "0"
      ]
     },
     "execution_count": 221,
     "metadata": {},
     "output_type": "execute_result"
    }
   ],
   "source": [
    "[1,2,4,3]"
   ]
  },
  {
   "cell_type": "code",
   "execution_count": 402,
   "metadata": {},
   "outputs": [],
   "source": [
    "def smallest(n):\n",
    "    \n",
    "    arr = list(str(n))\n",
    "    arr1 = list(str(n))\n",
    "    smol = min(arr)\n",
    "\n",
    "    for i in range(0,len(arr)):\n",
    "        if arr.index(smol) == i:\n",
    "            arr1.pop(0)\n",
    "            smol = min(arr1) # 2\n",
    "        else:\n",
    "            temp = arr[arr.index(smol)]\n",
    "            hehe =  arr.index(smol)\n",
    "            arr.remove(arr[arr.index(smol)])\n",
    "            arr.insert(i, temp)\n",
    "            if int(smol) == 0 and arr.index(smol) > 1:\n",
    " \n",
    "                res = [int(\"\".join(arr)), i, hehe]\n",
    "                return res\n",
    "            else:\n",
    "                res = [int(\"\".join(arr)), hehe, i]\n",
    "                return res\n",
    "    return res\n",
    "    \n",
    "            "
   ]
  },
  {
   "cell_type": "code",
   "execution_count": 403,
   "metadata": {},
   "outputs": [
    {
     "name": "stdout",
     "output_type": "stream",
     "text": [
      "[29917, 1, 0]\n",
      "29917 0 1\n",
      "[26945, 3, 0]\n",
      "26945 3 0\n"
     ]
    }
   ],
   "source": [
    "print(smallest(209917))\n",
    "print(29917,0,1)\n",
    "print(smallest(269045))\n",
    "print(26945, 3, 0)"
   ]
  },
  {
   "cell_type": "code",
   "execution_count": null,
   "metadata": {},
   "outputs": [],
   "source": []
  },
  {
   "cell_type": "code",
   "execution_count": 275,
   "metadata": {},
   "outputs": [],
   "source": [
    "class LinkedList:\n",
    "    def __init__(self, value):\n",
    "        self.head = {\n",
    "            'value': value,\n",
    "            'next': None\n",
    "        }\n",
    "        self.tail = self.head\n",
    "        self.length = 1\n",
    "      \n",
    "    def append(self, value):\n",
    "        newNode = {\n",
    "            'value': value,\n",
    "            'next': None\n",
    "        }\n",
    "        self.tail['next'] = newNode\n",
    "        self.tail = newNode\n",
    "        self.length += 1\n",
    "        \n",
    "        return self.head\n",
    "    \n",
    "    def prepend(self, value):\n",
    "        newNode = {\n",
    "            'value': value,\n",
    "            'next': None\n",
    "        }\n",
    "        newNode['next'] = self.head\n",
    "        self.head = newNode\n",
    "        self.length += 1\n",
    "        return self.head\n",
    "        \n",
    "    def insert(self, index, value):\n",
    "        \n",
    "        if index >= self.length:\n",
    "            return self.append(value)\n",
    "        \n",
    "        newNode = {\n",
    "            'value': value,\n",
    "            'next': None\n",
    "        }\n",
    "\n",
    "        leader = self.traverseToIndex(index)\n",
    "        \n",
    "        temp = leader['next']\n",
    "        leader['next'] = newNode\n",
    "        newNode['next'] = temp\n",
    "        self.length += 1\n",
    "        \n",
    "        return self.values()\n",
    "    \n",
    "    def delete(self, index):\n",
    "        leader = self.traverseToIndex(index)\n",
    "        latter = leader['next']['next'] \n",
    "        leader['next'] = latter\n",
    "        return self.values()\n",
    "    \n",
    "    def traverseToIndex(self,index):\n",
    "        currentNode = self.head\n",
    "\n",
    "        for i in range(0, index - 1):\n",
    "            currentNode = currentNode['next']\n",
    "            \n",
    "        return currentNode\n",
    "    \n",
    "    def length(self):\n",
    "        return self.length\n",
    "    \n",
    "    def values(self):\n",
    "        array = []\n",
    "        currentNode = self.head;\n",
    "        while currentNode != None:\n",
    "            array.append(currentNode['value'])\n",
    "            currentNode = currentNode['next']\n",
    "        return array\n",
    "        \n",
    "myLinkedList = LinkedList(1)"
   ]
  },
  {
   "cell_type": "code",
   "execution_count": 276,
   "metadata": {},
   "outputs": [
    {
     "data": {
      "text/plain": [
       "{'value': 1,\n",
       " 'next': {'value': 3,\n",
       "  'next': {'value': 4, 'next': {'value': 5, 'next': None}}}}"
      ]
     },
     "execution_count": 276,
     "metadata": {},
     "output_type": "execute_result"
    }
   ],
   "source": [
    "myLinkedList.append(3)\n",
    "myLinkedList.append(4)\n",
    "myLinkedList.append(5)"
   ]
  },
  {
   "cell_type": "code",
   "execution_count": 277,
   "metadata": {},
   "outputs": [
    {
     "data": {
      "text/plain": [
       "{'value': 0,\n",
       " 'next': {'value': 1,\n",
       "  'next': {'value': 3,\n",
       "   'next': {'value': 4, 'next': {'value': 5, 'next': None}}}}}"
      ]
     },
     "execution_count": 277,
     "metadata": {},
     "output_type": "execute_result"
    }
   ],
   "source": [
    "myLinkedList.prepend(0)"
   ]
  },
  {
   "cell_type": "code",
   "execution_count": 278,
   "metadata": {},
   "outputs": [
    {
     "data": {
      "text/plain": [
       "[0, 1, 3, 4, 5]"
      ]
     },
     "execution_count": 278,
     "metadata": {},
     "output_type": "execute_result"
    }
   ],
   "source": [
    "myLinkedList.values()"
   ]
  },
  {
   "cell_type": "code",
   "execution_count": 279,
   "metadata": {},
   "outputs": [
    {
     "data": {
      "text/plain": [
       "[0, 1, 2, 3, 4, 5]"
      ]
     },
     "execution_count": 279,
     "metadata": {},
     "output_type": "execute_result"
    }
   ],
   "source": [
    "myLinkedList.insert(2,2)"
   ]
  },
  {
   "cell_type": "code",
   "execution_count": 280,
   "metadata": {},
   "outputs": [
    {
     "data": {
      "text/plain": [
       "[0, 1, 2, 3, 4, 5]"
      ]
     },
     "execution_count": 280,
     "metadata": {},
     "output_type": "execute_result"
    }
   ],
   "source": [
    "myLinkedList.values()\n"
   ]
  },
  {
   "cell_type": "code",
   "execution_count": 281,
   "metadata": {},
   "outputs": [
    {
     "data": {
      "text/plain": [
       "[0, 1, 3, 4, 5]"
      ]
     },
     "execution_count": 281,
     "metadata": {},
     "output_type": "execute_result"
    }
   ],
   "source": [
    "myLinkedList.delete(2)"
   ]
  },
  {
   "cell_type": "code",
   "execution_count": null,
   "metadata": {},
   "outputs": [],
   "source": []
  }
 ],
 "metadata": {
  "kernelspec": {
   "display_name": "Python 3",
   "language": "python",
   "name": "python3"
  },
  "language_info": {
   "codemirror_mode": {
    "name": "ipython",
    "version": 3
   },
   "file_extension": ".py",
   "mimetype": "text/x-python",
   "name": "python",
   "nbconvert_exporter": "python",
   "pygments_lexer": "ipython3",
   "version": "3.8.3"
  }
 },
 "nbformat": 4,
 "nbformat_minor": 4
}
