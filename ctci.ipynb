{
 "cells": [
  {
   "cell_type": "markdown",
   "metadata": {},
   "source": [
    "# Cracking The Coding Interview Practice Questions\n",
    "### 1.1 Is Unique\n",
    "    Implement an algorithm to determine if a string has all unique charactest. What if yo ucannot use additional data structure?"
   ]
  },
  {
   "cell_type": "code",
   "execution_count": 20,
   "metadata": {},
   "outputs": [],
   "source": [
    "a = \"typhoon\"\n",
    "b = \"abcdefg\"\n",
    "c = \"diego\"\n",
    "d = \"suriaga\""
   ]
  },
  {
   "cell_type": "code",
   "execution_count": 5,
   "metadata": {},
   "outputs": [],
   "source": [
    "def isUnique(text):\n",
    "    dummy = {'a': False, \n",
    "             'b': False, \n",
    "             'c': False, \n",
    "             'd': False, \n",
    "             'e': False, \n",
    "             'f': False,\n",
    "             'g': False, \n",
    "             'h': False, \n",
    "             'i': False, \n",
    "             'j': False, \n",
    "             'k': False, \n",
    "             'l': False,\n",
    "             'm': False, \n",
    "             'n': False, \n",
    "             'o': False, \n",
    "             'p': False, \n",
    "             'q': False, \n",
    "             'r': False,\n",
    "             's': False, \n",
    "             't': False, \n",
    "             'u': False, \n",
    "             'v': False, \n",
    "             'w': False, \n",
    "             'x': False,\n",
    "             'y': False, \n",
    "             'z': False, }\n",
    "    \n",
    "    for i in text:\n",
    "        if dummy[i] == True:\n",
    "            return False\n",
    "        else:\n",
    "            dummy[i] = True\n",
    "    \n",
    "    return True\n",
    "    "
   ]
  },
  {
   "cell_type": "code",
   "execution_count": 31,
   "metadata": {},
   "outputs": [
    {
     "name": "stdout",
     "output_type": "stream",
     "text": [
      "False\n",
      "True\n",
      "True\n",
      "False\n"
     ]
    }
   ],
   "source": [
    "print(isUnique(a))\n",
    "print(isUnique(b))\n",
    "print(isUnique(c))\n",
    "print(isUnique(d))"
   ]
  },
  {
   "cell_type": "code",
   "execution_count": 21,
   "metadata": {},
   "outputs": [],
   "source": [
    "def isUnique1(text):\n",
    "    text = str(text)\n",
    "    dummy = {}\n",
    "    \n",
    "    for i in range(0,len(text)):\n",
    "        if text[i] in dummy:\n",
    "            return False\n",
    "        dummy[text[i]] = True  \n",
    "        \n",
    "    return True"
   ]
  },
  {
   "cell_type": "code",
   "execution_count": 22,
   "metadata": {},
   "outputs": [
    {
     "name": "stdout",
     "output_type": "stream",
     "text": [
      "False\n",
      "True\n",
      "True\n",
      "False\n"
     ]
    }
   ],
   "source": [
    "print(isUnique1(a))\n",
    "print(isUnique1(b))\n",
    "print(isUnique1(c))\n",
    "print(isUnique1(d))"
   ]
  },
  {
   "cell_type": "markdown",
   "metadata": {},
   "source": [
    "### 1.2 Check Permutation\n",
    "    Given two strings, write a method to decide if one is a permutation of the other."
   ]
  },
  {
   "cell_type": "code",
   "execution_count": 15,
   "metadata": {},
   "outputs": [],
   "source": [
    "#BRUTE FORCE\n",
    "def checkPermutation(text1, text2):\n",
    "    a = sorted(text1)\n",
    "    b = sorted(text2)\n",
    "    if a == b:\n",
    "        return True\n",
    "    return False\n",
    "\n",
    "#Time complexity O(n log n)"
   ]
  },
  {
   "cell_type": "code",
   "execution_count": 58,
   "metadata": {},
   "outputs": [],
   "source": [
    "text1 = '132454323'\n",
    "text2 = '543211234'"
   ]
  },
  {
   "cell_type": "code",
   "execution_count": 59,
   "metadata": {},
   "outputs": [
    {
     "data": {
      "text/plain": [
       "False"
      ]
     },
     "execution_count": 59,
     "metadata": {},
     "output_type": "execute_result"
    }
   ],
   "source": [
    "checkPermutation(text1,text2)"
   ]
  },
  {
   "cell_type": "code",
   "execution_count": 60,
   "metadata": {},
   "outputs": [],
   "source": [
    "#OPTIMIZED\n",
    "def checkPermutation1(text1, text2):\n",
    "    if len(text1) != len(text2):\n",
    "        return False\n",
    "    \n",
    "    dictionary1 = {}\n",
    "    dictionary2 = {}\n",
    "    \n",
    "    for i in text1:\n",
    "        if i in dictionary1:\n",
    "            dictionary1[i] += 1\n",
    "        else:\n",
    "            dictionary1[i] = 1\n",
    "            \n",
    "    for i in text2:\n",
    "        if i in dictionary2:\n",
    "            dictionary2[i] += 1\n",
    "        else:\n",
    "            dictionary2[i] = 1\n",
    "    if dictionary1 == dictionary2:\n",
    "        return True\n",
    "    return False\n",
    "\n",
    "#Time complexity O(n)"
   ]
  },
  {
   "cell_type": "code",
   "execution_count": 61,
   "metadata": {
    "scrolled": true
   },
   "outputs": [
    {
     "data": {
      "text/plain": [
       "False"
      ]
     },
     "execution_count": 61,
     "metadata": {},
     "output_type": "execute_result"
    }
   ],
   "source": [
    "checkPermutation1(text1,text2)"
   ]
  },
  {
   "cell_type": "code",
   "execution_count": null,
   "metadata": {},
   "outputs": [],
   "source": []
  }
 ],
 "metadata": {
  "kernelspec": {
   "display_name": "Python 3",
   "language": "python",
   "name": "python3"
  },
  "language_info": {
   "codemirror_mode": {
    "name": "ipython",
    "version": 3
   },
   "file_extension": ".py",
   "mimetype": "text/x-python",
   "name": "python",
   "nbconvert_exporter": "python",
   "pygments_lexer": "ipython3",
   "version": "3.8.3"
  }
 },
 "nbformat": 4,
 "nbformat_minor": 4
}
