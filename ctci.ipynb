{
 "cells": [
  {
   "cell_type": "markdown",
   "metadata": {},
   "source": [
    "# Cracking The Coding Interview Practice Questions\n",
    "### 1.1 Is Unique\n",
    "    Implement an algorithm to determine if a string has all unique characters. \n",
    "    What if you cannot use additional data structure?"
   ]
  },
  {
   "cell_type": "code",
   "execution_count": 6,
   "metadata": {},
   "outputs": [],
   "source": [
    "a = \"typhoon\"\n",
    "b = \"abcdefg\"\n",
    "c = \"diego\"\n",
    "d = \"suriaga\""
   ]
  },
  {
   "cell_type": "code",
   "execution_count": 9,
   "metadata": {},
   "outputs": [],
   "source": [
    "def isUnique(text):\n",
    "    dummy = {}\n",
    "    \n",
    "    for i in text:\n",
    "        if i in dummy:\n",
    "            return False\n",
    "        else:\n",
    "            dummy[i] = True\n",
    "    \n",
    "    return True\n",
    "    "
   ]
  },
  {
   "cell_type": "code",
   "execution_count": 10,
   "metadata": {},
   "outputs": [
    {
     "name": "stdout",
     "output_type": "stream",
     "text": [
      "False\n",
      "True\n",
      "True\n",
      "False\n"
     ]
    }
   ],
   "source": [
    "print(isUnique(a))\n",
    "print(isUnique(b))\n",
    "print(isUnique(c))\n",
    "print(isUnique(d))"
   ]
  },
  {
   "cell_type": "code",
   "execution_count": 11,
   "metadata": {},
   "outputs": [],
   "source": [
    "def isUnique1(text):\n",
    "    text = str(text)\n",
    "    dummy = {}\n",
    "    \n",
    "    for i in range(0,len(text)):\n",
    "        if text[i] in dummy:\n",
    "            return False\n",
    "        dummy[text[i]] = True  \n",
    "        \n",
    "    return True\n",
    "\n",
    "#Time complexity O(n)"
   ]
  },
  {
   "cell_type": "code",
   "execution_count": 12,
   "metadata": {},
   "outputs": [
    {
     "name": "stdout",
     "output_type": "stream",
     "text": [
      "False\n",
      "True\n",
      "True\n",
      "False\n"
     ]
    }
   ],
   "source": [
    "print(isUnique1(a))\n",
    "print(isUnique1(b))\n",
    "print(isUnique1(c))\n",
    "print(isUnique1(d))"
   ]
  },
  {
   "cell_type": "markdown",
   "metadata": {},
   "source": [
    "### 1.2 Check Permutation\n",
    "    Given two strings, write a method to decide if one is a permutation of the other."
   ]
  },
  {
   "cell_type": "code",
   "execution_count": 15,
   "metadata": {},
   "outputs": [],
   "source": [
    "#BRUTE FORCE\n",
    "def checkPermutation(text1, text2):\n",
    "    a = sorted(text1)\n",
    "    b = sorted(text2)\n",
    "    if a == b:\n",
    "        return True\n",
    "    return False\n",
    "\n",
    "#Time complexity O(n log n)"
   ]
  },
  {
   "cell_type": "code",
   "execution_count": 58,
   "metadata": {},
   "outputs": [],
   "source": [
    "text1 = '132454323'\n",
    "text2 = '543211234'"
   ]
  },
  {
   "cell_type": "code",
   "execution_count": 59,
   "metadata": {},
   "outputs": [
    {
     "data": {
      "text/plain": [
       "False"
      ]
     },
     "execution_count": 59,
     "metadata": {},
     "output_type": "execute_result"
    }
   ],
   "source": [
    "checkPermutation(text1,text2)"
   ]
  },
  {
   "cell_type": "code",
   "execution_count": 60,
   "metadata": {},
   "outputs": [],
   "source": [
    "#OPTIMIZED\n",
    "def checkPermutation1(text1, text2):\n",
    "    if len(text1) != len(text2):\n",
    "        return False\n",
    "    \n",
    "    dictionary1 = {}\n",
    "    dictionary2 = {}\n",
    "    \n",
    "    for i in text1:\n",
    "        if i in dictionary1:\n",
    "            dictionary1[i] += 1\n",
    "        else:\n",
    "            dictionary1[i] = 1\n",
    "            \n",
    "    for i in text2:\n",
    "        if i in dictionary2:\n",
    "            dictionary2[i] += 1\n",
    "        else:\n",
    "            dictionary2[i] = 1\n",
    "    if dictionary1 == dictionary2:\n",
    "        return True\n",
    "    return False\n",
    "\n",
    "#Time complexity O(n)"
   ]
  },
  {
   "cell_type": "code",
   "execution_count": 61,
   "metadata": {
    "scrolled": true
   },
   "outputs": [
    {
     "data": {
      "text/plain": [
       "False"
      ]
     },
     "execution_count": 61,
     "metadata": {},
     "output_type": "execute_result"
    }
   ],
   "source": [
    "checkPermutation1(text1,text2)"
   ]
  },
  {
   "cell_type": "markdown",
   "metadata": {},
   "source": [
    "### 1.3 URLify \n",
    "    Write a method to replace all spaces in a string with \"%20\".\n",
    "    You may assume that the string has sufficient space at the end to hold the additional characters, and that you are given the \"true length of the string."
   ]
  },
  {
   "cell_type": "code",
   "execution_count": 18,
   "metadata": {},
   "outputs": [],
   "source": [
    "#brute force\n",
    "\n",
    "def urlify(text, num):\n",
    "    chars = list(text)\n",
    "    result = []\n",
    "    for i in range(0, num):\n",
    "        if chars[i] == \" \":\n",
    "            result.append(\"%20\")\n",
    "        else:\n",
    "            result.append(chars[i])\n",
    "    return \"\".join(result)\n",
    "\n",
    "# disadvantages:\n",
    "#     takes up more space"
   ]
  },
  {
   "cell_type": "code",
   "execution_count": 19,
   "metadata": {},
   "outputs": [
    {
     "name": "stdout",
     "output_type": "stream",
     "text": [
      "Mr%20John%20Smith\n"
     ]
    }
   ],
   "source": [
    "print(urlify(\"Mr John Smith   \", 13))"
   ]
  },
  {
   "cell_type": "code",
   "execution_count": 65,
   "metadata": {},
   "outputs": [],
   "source": [
    "#Optimized1\n",
    "\n",
    "def urlify1(text, num):\n",
    "    result = list(text)\n",
    "    for i in range(num -1, 0, -1):\n",
    "        if result[i] == \" \":\n",
    "            result[i] = \"%20\"\n",
    "    return \"\".join(result)"
   ]
  },
  {
   "cell_type": "code",
   "execution_count": 66,
   "metadata": {},
   "outputs": [
    {
     "name": "stdout",
     "output_type": "stream",
     "text": [
      "Mr%20John%20Smith   \n"
     ]
    }
   ],
   "source": [
    "print(urlify1(\"Mr John Smith   \", 13))"
   ]
  },
  {
   "cell_type": "markdown",
   "metadata": {},
   "source": [
    "### 1.4 Palindrome Permutation\n",
    "    Given a string write a function to check if it is a permutation of a palindrome. A palindrome is a word or phrase that is the same forwards and backwards. A permuation is a rearrangement of letters. The palindrome does not need to be limited to just dictionary words"
   ]
  },
  {
   "cell_type": "code",
   "execution_count": 44,
   "metadata": {},
   "outputs": [],
   "source": [
    "#Brute Force\n",
    "#Assuming spaces don't count\n",
    "\n",
    "def palindromePermutation(text):\n",
    "    text = text.lower()\n",
    "    myDict ={}\n",
    "    for i in text:\n",
    "        if i != \" \":\n",
    "            if i in myDict:\n",
    "                \n",
    "                \n",
    "                \n",
    "                myDict.pop(i, None)\n",
    "            else:\n",
    "                myDict[i] = True\n",
    "    if len(myDict) <= 1:\n",
    "        return True\n",
    "    return False"
   ]
  },
  {
   "cell_type": "code",
   "execution_count": 45,
   "metadata": {},
   "outputs": [
    {
     "name": "stdout",
     "output_type": "stream",
     "text": [
      "True\n"
     ]
    }
   ],
   "source": [
    "print(palindromePermutation(\"Tact Coa\"))"
   ]
  },
  {
   "cell_type": "markdown",
   "metadata": {},
   "source": [
    "### 1.5 One Away\n",
    "    There are three types of edits that can be performed on strings:insert a character, remove a character, or replace a \n",
    "    character. Given two strings, write a function to check if they are one edit (or zero edits) away.\n",
    "    \n",
    "    Example:\n",
    "    pale, ple --> True\n",
    "    pales, pale --> True\n",
    "    pale, bale --> True\n",
    "    pale, bake -- False"
   ]
  },
  {
   "cell_type": "code",
   "execution_count": 124,
   "metadata": {},
   "outputs": [],
   "source": [
    "#bruteForce\n",
    "\n",
    "def oneAway(text1, text2):\n",
    "    \n",
    "    if abs(len(text1) - len(text2)) > 1:\n",
    "        return False\n",
    "    \n",
    "    bigger = max(text1, text2)\n",
    "    smaller = min(text1, text2)\n",
    "    j = 0\n",
    "    ctr = 0\n",
    "    \n",
    "    if len(text1) == len(text2):\n",
    "        for i in range(len(text1)):\n",
    "            if text1[i] != text2[i]:\n",
    "                ctr += 1\n",
    "\n",
    "    \n",
    "    else:\n",
    "        for i in smaller:\n",
    "            if i == bigger[j]:\n",
    "                j += 1\n",
    "            else:\n",
    "                ctr += 1\n",
    "\n",
    "        if (len(bigger)- 1 - j) > 2:\n",
    "                return False\n",
    "    if ctr >= 2:\n",
    "        return False\n",
    "\n",
    "    return True"
   ]
  },
  {
   "cell_type": "code",
   "execution_count": 125,
   "metadata": {},
   "outputs": [
    {
     "data": {
      "text/plain": [
       "True"
      ]
     },
     "execution_count": 125,
     "metadata": {},
     "output_type": "execute_result"
    }
   ],
   "source": [
    "oneAway('diego','dieo')"
   ]
  },
  {
   "cell_type": "code",
   "execution_count": 261,
   "metadata": {},
   "outputs": [],
   "source": [
    "#Optimized\n",
    "\n",
    "def oneAway1(text1, text2):\n",
    "    if text1 == text2:\n",
    "        return True\n",
    "    elif abs(len(text1) - len(text2)) > 1:\n",
    "        return False\n",
    "    elif len(text1)== len(text2):\n",
    "        return oneAwayReplace(text1, text2)\n",
    "    elif abs(len(text1) - len(text2)) == 1:\n",
    "        return oneAwayInsertorDelete(text1, text2)\n",
    "    \n",
    "def oneAwayReplace(text1, text2):\n",
    "    ctr = 0\n",
    "    for i in range(len(text1)):\n",
    "        if text1[i] != text2[i]:\n",
    "            ctr += 1 \n",
    "    return ctr <= 1\n",
    "\n",
    "def oneAwayInsertorDelete(text1, text2):\n",
    "    ctr = 0\n",
    "    smaller = min(text1, text2, key = len)\n",
    "    bigger = max(text1, text2, key = len)\n",
    "    i = 0\n",
    "\n",
    "    while i < len(smaller)-1:\n",
    "        \n",
    "        if bigger[i+ctr] != smaller[i]:\n",
    "            ctr += 1\n",
    "        else:\n",
    "            i += 1\n",
    "\n",
    "        \n",
    "    if ctr > 1:\n",
    "        return False\n",
    "\n",
    "    return True"
   ]
  },
  {
   "cell_type": "code",
   "execution_count": 262,
   "metadata": {},
   "outputs": [
    {
     "name": "stdout",
     "output_type": "stream",
     "text": [
      "False\n",
      "True\n",
      "True\n",
      "True\n",
      "False\n",
      "False\n"
     ]
    }
   ],
   "source": [
    "print(oneAway1('diego','diegoss')) #false\n",
    "print(oneAway1('pale','ple')) #True\n",
    "print(oneAway1('pales','pale')) #true\n",
    "print(oneAway1('pale','bale')) #true\n",
    "print(oneAway1('pale','balw'))\n",
    "print(oneAway1('pale','bske'))"
   ]
  },
  {
   "cell_type": "code",
   "execution_count": 263,
   "metadata": {
    "scrolled": true
   },
   "outputs": [
    {
     "name": "stdout",
     "output_type": "stream",
     "text": [
      "True\n",
      "True\n"
     ]
    }
   ],
   "source": [
    "print(oneAway1('pale','ale'))\n",
    "print(oneAway1('pale','pae'))"
   ]
  },
  {
   "cell_type": "code",
   "execution_count": 259,
   "metadata": {},
   "outputs": [
    {
     "name": "stdout",
     "output_type": "stream",
     "text": [
      "4\n"
     ]
    }
   ],
   "source": [
    "print(max(len('pale'),len('ple')))"
   ]
  },
  {
   "cell_type": "markdown",
   "metadata": {},
   "source": [
    "### 1.6 String Compression\n",
    "    Implement a method to perform basic string compression using the counts of repeated characters. \n",
    "    For example, the string aabcccccaaa would become a2b1c5a3. If the \"compressed\" string would not become smaller than the original string, your method should return the original string. You can assume the string has only uppercase and lower \n",
    "    case letters (a-z)."
   ]
  },
  {
   "cell_type": "code",
   "execution_count": 56,
   "metadata": {},
   "outputs": [],
   "source": [
    "#a a b c c c c c a a a\n",
    "#abcdefg\n",
    "#bruteforce\n",
    "\n",
    "def stringCompress(string):\n",
    "    ctr = 1\n",
    "    arr = []\n",
    "    for i in range(0,len(string)-1):\n",
    "        \n",
    "        if string[i] == string[i+1]:\n",
    "            ctr += 1\n",
    "        else:\n",
    "            if ctr == 1:\n",
    "                arr.append(string[i])\n",
    "            else:\n",
    "                arr.append(string[i] + str(ctr))\n",
    "            ctr = 1\n",
    "    if ctr == 1:\n",
    "        arr.append(string[-1])  \n",
    "    else:\n",
    "        arr.append(string[-1] + str(ctr)) \n",
    "    \n",
    "    return \"\".join(arr)\n",
    "\n",
    "#timecomplexity O(n)"
   ]
  },
  {
   "cell_type": "code",
   "execution_count": 60,
   "metadata": {},
   "outputs": [
    {
     "name": "stdout",
     "output_type": "stream",
     "text": [
      "abcd\n",
      "a2bcd\n",
      "a2bc5a3\n"
     ]
    }
   ],
   "source": [
    "print(stringCompress('abcd'))\n",
    "print(stringCompress('aabcd'))\n",
    "print(stringCompress('aabcccccaaa'))"
   ]
  },
  {
   "cell_type": "markdown",
   "metadata": {},
   "source": [
    "### 1.7 Rotate Matrix\n",
    "    Given an image represented by an NxN matrix, where each pixel in the image is 4 bytes, write a method to rotate the \n",
    "    image by 90 degrees. Can you do this in place?"
   ]
  },
  {
   "cell_type": "code",
   "execution_count": 110,
   "metadata": {},
   "outputs": [],
   "source": [
    "# 123\n",
    "# 456\n",
    "# 789\n",
    "\n",
    "# 741\n",
    "# 852\n",
    "# 963\n",
    "\n",
    "x = [[1,2,3],[4,5,6],[7,8,9]]\n",
    "\n",
    "def rotateMatrix(matrix):\n",
    "    matrix = matrix[::-1]\n",
    "    for i in range(len(matrix)):\n",
    "         for j in range(i):\n",
    "                matrix[i][j], matrix[j][i] = matrix[j][i] , matrix[i][j]\n",
    "    \n",
    "    return matrix\n",
    "\n",
    "\n",
    "#time complexity O(n x m)"
   ]
  },
  {
   "cell_type": "code",
   "execution_count": 111,
   "metadata": {},
   "outputs": [
    {
     "data": {
      "text/plain": [
       "[[7, 4, 1], [8, 5, 2], [9, 6, 3]]"
      ]
     },
     "execution_count": 111,
     "metadata": {},
     "output_type": "execute_result"
    }
   ],
   "source": [
    "rotateMatrix(x)"
   ]
  },
  {
   "cell_type": "markdown",
   "metadata": {},
   "source": [
    "### 1.8 Zero Matrix\n",
    "    Write an algorithm such that if an element in an MxN matrix is 0, its entire row and column are set to 0\n",
    "    "
   ]
  },
  {
   "cell_type": "code",
   "execution_count": 136,
   "metadata": {},
   "outputs": [],
   "source": [
    "\n",
    "def zeroMatrix(matrix):\n",
    "    newMatrix = []\n",
    "    column = []\n",
    "    for i in range(0,len(matrix)):\n",
    "        zero = False\n",
    "        for j in range(0,len(matrix[i])):\n",
    "            if matrix[i][j] == 0:\n",
    "                newMatrix.append[0]*len(matrix[i])\n",
    "                column.append(j)\n",
    "                zero = True\n",
    "        if zero == False:\n",
    "            newMatrix.append(matrix[i])\n",
    "    \n",
    "    \n",
    "    for i in column:\n",
    "        for j in range(0, len(newMatrix)):\n",
    "            newMatrix[j][i] = 0\n",
    "            \n",
    "    \n",
    "    return newMatrix\n",
    "\n",
    "#Space complexity O(n^2)"
   ]
  },
  {
   "cell_type": "code",
   "execution_count": 196,
   "metadata": {},
   "outputs": [],
   "source": [
    "\n",
    "def zeroMatrix(matrix):\n",
    "    column = []\n",
    "    \n",
    "    for i in range(0,len(matrix)):\n",
    "        zero = False\n",
    "        for j in range(0,len(matrix[i])):\n",
    "            if matrix[i][j] == 0:\n",
    "                column.append(j)\n",
    "                print(column) \n",
    "                zero = True\n",
    "        if zero == True:\n",
    "            matrix[i] = [0]*len(matrix[i])\n",
    "        \n",
    "    print(matrix)\n",
    "    for i in column:\n",
    "        for j in range(0, len(matrix)):\n",
    "            matrix[j][i] = 0\n",
    "            \n",
    "    return matrix\n",
    "    \n",
    "#space complexity O(n)"
   ]
  },
  {
   "cell_type": "code",
   "execution_count": 197,
   "metadata": {},
   "outputs": [],
   "source": [
    "x = [[0,0,3,2,1],\n",
    "     [1,2,3,2,0],\n",
    "     [1,2,0,1,1],\n",
    "     [1,1,1,1,1],\n",
    "     [1,1,1,1,1]\n",
    "    ]\n"
   ]
  },
  {
   "cell_type": "code",
   "execution_count": 198,
   "metadata": {},
   "outputs": [
    {
     "name": "stdout",
     "output_type": "stream",
     "text": [
      "[0]\n",
      "[0, 1]\n",
      "[0, 1, 4]\n",
      "[0, 1, 4, 2]\n",
      "[[0, 0, 0, 0, 0], [0, 0, 0, 0, 0], [0, 0, 0, 0, 0], [1, 1, 1, 1, 1], [1, 1, 1, 1, 1]]\n"
     ]
    },
    {
     "data": {
      "text/plain": [
       "[[0, 0, 0, 0, 0],\n",
       " [0, 0, 0, 0, 0],\n",
       " [0, 0, 0, 0, 0],\n",
       " [0, 0, 0, 1, 0],\n",
       " [0, 0, 0, 1, 0]]"
      ]
     },
     "execution_count": 198,
     "metadata": {},
     "output_type": "execute_result"
    }
   ],
   "source": [
    "zeroMatrix(x)"
   ]
  },
  {
   "cell_type": "markdown",
   "metadata": {},
   "source": [
    "### 1.9 String Rotation\n",
    "    Assume you have a method isSubstring which checks if one word is a substring of another. Given wo strings, s1 and s2, write code to check if s2 is a rotation of s1 using only one call to isSubstring\n",
    "    Example (\"waterbottle\" is a rotation of erbottlewat)"
   ]
  },
  {
   "cell_type": "code",
   "execution_count": 2,
   "metadata": {},
   "outputs": [],
   "source": [
    "def isSubstring(text,text1):\n",
    "    return text1 in text\n",
    "\n",
    "def stringRotation(string1, string2):\n",
    "    return isSubstring( string1 + string1, string2)"
   ]
  },
  {
   "cell_type": "code",
   "execution_count": 3,
   "metadata": {},
   "outputs": [
    {
     "data": {
      "text/plain": [
       "True"
      ]
     },
     "execution_count": 3,
     "metadata": {},
     "output_type": "execute_result"
    }
   ],
   "source": [
    "stringRotation(\"waterbottle\", \"erbottlewat\")"
   ]
  },
  {
   "cell_type": "markdown",
   "metadata": {},
   "source": [
    "# Linked List Section\n",
    "\n",
    "####       Linked List is a sequence of links which contains items. Each link contains a connection to another link. Linked list is the second most-used data structure after array. Following are the important terms to understand the concept of Linked List."
   ]
  },
  {
   "cell_type": "code",
   "execution_count": 5,
   "metadata": {},
   "outputs": [],
   "source": [
    "class LinkedList:\n",
    "    def __init__(self, value):\n",
    "        self.head = {\n",
    "            'value': value,\n",
    "            'next': None\n",
    "        }\n",
    "        self.tail = self.head\n",
    "        self.length = 1\n",
    "#     def __dict__(self):\n",
    "#         return self.head \n",
    "    \n",
    "    def append(self, value):\n",
    "        newNode = {\n",
    "            'value': value,\n",
    "            'next': None\n",
    "        }\n",
    "        self.tail['next'] = newNode\n",
    "        self.tail = newNode\n",
    "        self.length += 1\n",
    "        \n",
    "        return self.head\n",
    "    \n",
    "    def prepend(self, value):\n",
    "        newNode = {\n",
    "            'value': value,\n",
    "            'next': None\n",
    "        }\n",
    "        \n",
    "        newNode['next'] = self.head\n",
    "        self.head = newNode\n",
    "        self.length += 1\n",
    "        return self.head\n",
    "        \n",
    "    def insert(self, index, value):\n",
    "        \n",
    "        if index >= self.length:\n",
    "            return self.append(value)\n",
    "        \n",
    "        newNode = {\n",
    "            'value': value,\n",
    "            'next': None\n",
    "        }\n",
    "\n",
    "        leader = self.traverseToIndex(index)\n",
    "        temp = leader['next']\n",
    "        leader['next'] = newNode\n",
    "        newNode['next'] = temp\n",
    "        self.length += 1\n",
    "        \n",
    "        return self.values()\n",
    "    \n",
    "    def delete(self, index):\n",
    "        \n",
    "        leader = self.traverseToIndex(index)\n",
    "        latter = leader['next']['next'] \n",
    "        leader['next'] = latter\n",
    "        \n",
    "        self.length -= 1\n",
    "        return self.values()\n",
    "    \n",
    "    \n",
    "    def traverseToIndex(self,index):\n",
    "        currentNode = self.head\n",
    "\n",
    "        for i in range(0, index - 1):\n",
    "            currentNode = currentNode['next']\n",
    "            \n",
    "        return currentNode\n",
    "    \n",
    "    def lens(self):\n",
    "        return self.length\n",
    "    \n",
    "    def values(self):\n",
    "        array = []\n",
    "        currentNode = self.head;\n",
    "        while currentNode != None:\n",
    "            array.append(currentNode['value'])\n",
    "            currentNode = currentNode['next']\n",
    "            \n",
    "        return array\n",
    "    \n",
    "    def reverse(self):\n",
    "        currentNode = self.head\n",
    "        prevNode = None\n",
    "        nextNode = currentNode['next']\n",
    "        \n",
    "        for i in range(0,self.length):\n",
    "            currentNode['next'] = prevNode\n",
    "            prevNode = currentNode \n",
    "            currentNode = nextNode\n",
    "            if nextNode != None:\n",
    "                nextNode = currentNode['next'] \n",
    "            else:\n",
    "                self.head = prevNode \n",
    "        \n",
    "        return self.values()"
   ]
  },
  {
   "cell_type": "markdown",
   "metadata": {},
   "source": [
    "### 2.1 Remove Dups\n",
    "    Write code to remove duplicates from an unsorted linked list.\n",
    "    How would you solve this problem if a temporary buffer is not allowed?"
   ]
  },
  {
   "cell_type": "code",
   "execution_count": 4,
   "metadata": {},
   "outputs": [
    {
     "data": {
      "text/plain": [
       "[0, 5, 2, 3, 5, 9, 7, 5, 5, 5]"
      ]
     },
     "execution_count": 4,
     "metadata": {},
     "output_type": "execute_result"
    }
   ],
   "source": [
    "myLinkedList = LinkedList(0)\n",
    "myLinkedList.append(5)\n",
    "myLinkedList.append(2)\n",
    "myLinkedList.append(3)\n",
    "myLinkedList.append(5)\n",
    "myLinkedList.append(9)\n",
    "myLinkedList.append(7)\n",
    "myLinkedList.append(5)\n",
    "myLinkedList.append(5)\n",
    "myLinkedList.append(5)\n",
    "myLinkedList.values()"
   ]
  },
  {
   "cell_type": "code",
   "execution_count": 165,
   "metadata": {},
   "outputs": [
    {
     "data": {
      "text/plain": [
       "10"
      ]
     },
     "execution_count": 165,
     "metadata": {},
     "output_type": "execute_result"
    }
   ],
   "source": [
    "myLinkedList.length"
   ]
  },
  {
   "cell_type": "code",
   "execution_count": 168,
   "metadata": {},
   "outputs": [],
   "source": [
    "def removeDups(linkedList):\n",
    "    \n",
    "    myDict = {}\n",
    "    arr = []\n",
    "    currNode = linkedList.head\n",
    "    i = 0\n",
    "    \n",
    "    while  currNode != None:\n",
    "        if currNode['value'] in myDict:\n",
    "            arr.append(i)\n",
    "        else:\n",
    "            myDict[currNode['value']] = True\n",
    "            \n",
    "        currNode = currNode['next']\n",
    "        i += 1\n",
    "        \n",
    "    for i in arr[::-1]:\n",
    "        linkedList.delete(i)\n",
    "    \n",
    "    return linkedList.values()\n",
    "        \n",
    "#Time complexity O(n)\n",
    "#space complexity O(n)\n"
   ]
  },
  {
   "cell_type": "code",
   "execution_count": 169,
   "metadata": {},
   "outputs": [
    {
     "name": "stdout",
     "output_type": "stream",
     "text": [
      "[0, 5, 2, 3, 9, 7]\n"
     ]
    }
   ],
   "source": [
    "print(removeDups(myLinkedList))"
   ]
  },
  {
   "cell_type": "code",
   "execution_count": 173,
   "metadata": {},
   "outputs": [],
   "source": [
    "def removeDups1(linkedList):\n",
    "    s\n",
    "    currNode = linkedList.head\n",
    "    nextNode = currNode['next']\n",
    "    \n",
    "    while currNode != None:\n",
    "        while nextNode!= None:\n",
    "            \n",
    "    pass"
   ]
  },
  {
   "cell_type": "markdown",
   "metadata": {},
   "source": [
    "### 2.2 Return Kth to Last\n",
    "    Implement an algorithn to find the kth to last element of a singly linked list"
   ]
  },
  {
   "cell_type": "code",
   "execution_count": 7,
   "metadata": {},
   "outputs": [
    {
     "data": {
      "text/plain": [
       "[0, 1, 2, 3, 4, 5, 6, 7, 8, 9]"
      ]
     },
     "execution_count": 7,
     "metadata": {},
     "output_type": "execute_result"
    }
   ],
   "source": [
    "myLinkedList = LinkedList(0)\n",
    "myLinkedList.append(1)\n",
    "myLinkedList.append(2)\n",
    "myLinkedList.append(3)\n",
    "myLinkedList.append(4)\n",
    "myLinkedList.append(5)\n",
    "myLinkedList.append(6)\n",
    "myLinkedList.append(7)\n",
    "myLinkedList.append(8)\n",
    "myLinkedList.append(9)\n",
    "myLinkedList.values()"
   ]
  },
  {
   "cell_type": "code",
   "execution_count": 21,
   "metadata": {},
   "outputs": [],
   "source": [
    "#IF THE LENGHT OF THE LINKED LIST IS KNOWN\n",
    "\n",
    "\n",
    "def values1(linkedList):\n",
    "    array = []\n",
    "    currentNode = linkedList;\n",
    "    while currentNode != None:\n",
    "        array.append(currentNode['value'])\n",
    "        currentNode = currentNode['next']\n",
    "\n",
    "    return array\n",
    "\n",
    "\n",
    "def returnKthtoLast(k, linkedList):\n",
    "    currNode = linkedList.head\n",
    "    for i in range(linkedList.length):\n",
    "        currNode = currNode['next']\n",
    "        if i == k:\n",
    "            return values1(currNode)\n",
    "        \n",
    "        \n",
    "    return None\n",
    "\n",
    "#time complexity O(n)"
   ]
  },
  {
   "cell_type": "code",
   "execution_count": 22,
   "metadata": {},
   "outputs": [
    {
     "name": "stdout",
     "output_type": "stream",
     "text": [
      "[4, 5, 6, 7, 8, 9]\n"
     ]
    }
   ],
   "source": [
    "print(returnKthtoLast(3, myLinkedList))"
   ]
  },
  {
   "cell_type": "code",
   "execution_count": 27,
   "metadata": {},
   "outputs": [],
   "source": [
    "#lenght unKnwon\n",
    "\n",
    "def returnK(k, linkedList):\n",
    "    currNode = linkedList.head\n",
    "    ctr = 1\n",
    "    while currNode != None:\n",
    "        currNode = currNode['next']\n",
    "        if ctr == k:\n",
    "            return values1(currNode)\n",
    "        ctr += 1\n",
    "        \n",
    "#same time complexity O(n)"
   ]
  },
  {
   "cell_type": "code",
   "execution_count": 26,
   "metadata": {},
   "outputs": [
    {
     "name": "stdout",
     "output_type": "stream",
     "text": [
      "[3, 4, 5, 6, 7, 8, 9]\n"
     ]
    }
   ],
   "source": [
    "print(returnK(3, myLinkedList))"
   ]
  },
  {
   "cell_type": "code",
   "execution_count": 58,
   "metadata": {},
   "outputs": [],
   "source": [
    "#Recursive approach \n",
    "\n",
    "def recursiveReturn(k, linkedList):\n",
    "    ctr = 0\n",
    "    currNode = linkedList.head\n",
    "    return _recursiveReturn(k, currNode, ctr)\n",
    "    \n",
    "def _recursiveReturn(k, currNode, ctr):\n",
    "    if ctr == k:\n",
    "        return values1(currNode)\n",
    "    else:\n",
    "        ctr += 1\n",
    "        return _recursiveReturn(k, currNode['next'], ctr)\n",
    "    "
   ]
  },
  {
   "cell_type": "code",
   "execution_count": 62,
   "metadata": {},
   "outputs": [
    {
     "data": {
      "text/plain": [
       "[4, 5, 6, 7, 8, 9]"
      ]
     },
     "execution_count": 62,
     "metadata": {},
     "output_type": "execute_result"
    }
   ],
   "source": [
    "recursiveReturn(4, myLinkedList)"
   ]
  },
  {
   "cell_type": "code",
   "execution_count": null,
   "metadata": {},
   "outputs": [],
   "source": []
  }
 ],
 "metadata": {
  "kernelspec": {
   "display_name": "Python 3",
   "language": "python",
   "name": "python3"
  },
  "language_info": {
   "codemirror_mode": {
    "name": "ipython",
    "version": 3
   },
   "file_extension": ".py",
   "mimetype": "text/x-python",
   "name": "python",
   "nbconvert_exporter": "python",
   "pygments_lexer": "ipython3",
   "version": "3.8.3"
  }
 },
 "nbformat": 4,
 "nbformat_minor": 4
}
