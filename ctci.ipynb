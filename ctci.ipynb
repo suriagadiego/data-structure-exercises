{
 "cells": [
  {
   "cell_type": "markdown",
   "metadata": {},
   "source": [
    "# Cracking The Coding Interview Practice Questions\n",
    "### 1.1 Is Unique\n",
    "    Implement an algorithm to determine if a string has all unique characters. \n",
    "    What if you cannot use additional data structure?"
   ]
  },
  {
   "cell_type": "code",
   "execution_count": 6,
   "metadata": {},
   "outputs": [],
   "source": [
    "a = \"typhoon\"\n",
    "b = \"abcdefg\"\n",
    "c = \"diego\"\n",
    "d = \"suriaga\""
   ]
  },
  {
   "cell_type": "code",
   "execution_count": 9,
   "metadata": {},
   "outputs": [],
   "source": [
    "def isUnique(text):\n",
    "    dummy = {}\n",
    "    \n",
    "    for i in text:\n",
    "        if i in dummy:\n",
    "            return False\n",
    "        else:\n",
    "            dummy[i] = True\n",
    "    \n",
    "    return True\n",
    "    "
   ]
  },
  {
   "cell_type": "code",
   "execution_count": 10,
   "metadata": {},
   "outputs": [
    {
     "name": "stdout",
     "output_type": "stream",
     "text": [
      "False\n",
      "True\n",
      "True\n",
      "False\n"
     ]
    }
   ],
   "source": [
    "print(isUnique(a))\n",
    "print(isUnique(b))\n",
    "print(isUnique(c))\n",
    "print(isUnique(d))"
   ]
  },
  {
   "cell_type": "code",
   "execution_count": 11,
   "metadata": {},
   "outputs": [],
   "source": [
    "def isUnique1(text):\n",
    "    text = str(text)\n",
    "    dummy = {}\n",
    "    \n",
    "    for i in range(0,len(text)):\n",
    "        if text[i] in dummy:\n",
    "            return False\n",
    "        dummy[text[i]] = True  \n",
    "        \n",
    "    return True"
   ]
  },
  {
   "cell_type": "code",
   "execution_count": 12,
   "metadata": {},
   "outputs": [
    {
     "name": "stdout",
     "output_type": "stream",
     "text": [
      "False\n",
      "True\n",
      "True\n",
      "False\n"
     ]
    }
   ],
   "source": [
    "print(isUnique1(a))\n",
    "print(isUnique1(b))\n",
    "print(isUnique1(c))\n",
    "print(isUnique1(d))"
   ]
  },
  {
   "cell_type": "markdown",
   "metadata": {},
   "source": [
    "### 1.2 Check Permutation\n",
    "    Given two strings, write a method to decide if one is a permutation of the other."
   ]
  },
  {
   "cell_type": "code",
   "execution_count": 15,
   "metadata": {},
   "outputs": [],
   "source": [
    "#BRUTE FORCE\n",
    "def checkPermutation(text1, text2):\n",
    "    a = sorted(text1)\n",
    "    b = sorted(text2)\n",
    "    if a == b:\n",
    "        return True\n",
    "    return False\n",
    "\n",
    "#Time complexity O(n log n)"
   ]
  },
  {
   "cell_type": "code",
   "execution_count": 58,
   "metadata": {},
   "outputs": [],
   "source": [
    "text1 = '132454323'\n",
    "text2 = '543211234'"
   ]
  },
  {
   "cell_type": "code",
   "execution_count": 59,
   "metadata": {},
   "outputs": [
    {
     "data": {
      "text/plain": [
       "False"
      ]
     },
     "execution_count": 59,
     "metadata": {},
     "output_type": "execute_result"
    }
   ],
   "source": [
    "checkPermutation(text1,text2)"
   ]
  },
  {
   "cell_type": "code",
   "execution_count": 60,
   "metadata": {},
   "outputs": [],
   "source": [
    "#OPTIMIZED\n",
    "def checkPermutation1(text1, text2):\n",
    "    if len(text1) != len(text2):\n",
    "        return False\n",
    "    \n",
    "    dictionary1 = {}\n",
    "    dictionary2 = {}\n",
    "    \n",
    "    for i in text1:\n",
    "        if i in dictionary1:\n",
    "            dictionary1[i] += 1\n",
    "        else:\n",
    "            dictionary1[i] = 1\n",
    "            \n",
    "    for i in text2:\n",
    "        if i in dictionary2:\n",
    "            dictionary2[i] += 1\n",
    "        else:\n",
    "            dictionary2[i] = 1\n",
    "    if dictionary1 == dictionary2:\n",
    "        return True\n",
    "    return False\n",
    "\n",
    "#Time complexity O(n)"
   ]
  },
  {
   "cell_type": "code",
   "execution_count": 61,
   "metadata": {
    "scrolled": true
   },
   "outputs": [
    {
     "data": {
      "text/plain": [
       "False"
      ]
     },
     "execution_count": 61,
     "metadata": {},
     "output_type": "execute_result"
    }
   ],
   "source": [
    "checkPermutation1(text1,text2)"
   ]
  },
  {
   "cell_type": "markdown",
   "metadata": {},
   "source": [
    "### 1.3 URLify \n",
    "    Write a method to replace all spaces in a string with \"%20\".\n",
    "    You may assume that the string has sufficient space at the end to hold the additional characters, and that you are given the \"true length of the string."
   ]
  },
  {
   "cell_type": "code",
   "execution_count": 18,
   "metadata": {},
   "outputs": [],
   "source": [
    "#brute force\n",
    "\n",
    "def urlify(text, num):\n",
    "    chars = list(text)\n",
    "    result = []\n",
    "    for i in range(0, num):\n",
    "        if chars[i] == \" \":\n",
    "            result.append(\"%20\")\n",
    "        else:\n",
    "            result.append(chars[i])\n",
    "    return \"\".join(result)\n",
    "\n",
    "# disadvantages:\n",
    "#     takes up more space"
   ]
  },
  {
   "cell_type": "code",
   "execution_count": 19,
   "metadata": {},
   "outputs": [
    {
     "name": "stdout",
     "output_type": "stream",
     "text": [
      "Mr%20John%20Smith\n"
     ]
    }
   ],
   "source": [
    "print(urlify(\"Mr John Smith   \", 13))"
   ]
  },
  {
   "cell_type": "code",
   "execution_count": 65,
   "metadata": {},
   "outputs": [],
   "source": [
    "#Optimized1\n",
    "\n",
    "def urlify1(text, num):\n",
    "    result = list(text)\n",
    "    for i in range(num -1, 0, -1):\n",
    "        if result[i] == \" \":\n",
    "            result[i] = \"%20\"\n",
    "    return \"\".join(result)"
   ]
  },
  {
   "cell_type": "code",
   "execution_count": 66,
   "metadata": {},
   "outputs": [
    {
     "name": "stdout",
     "output_type": "stream",
     "text": [
      "Mr%20John%20Smith   \n"
     ]
    }
   ],
   "source": [
    "print(urlify1(\"Mr John Smith   \", 13))"
   ]
  },
  {
   "cell_type": "markdown",
   "metadata": {},
   "source": [
    "### 1.4 Palindrome Permutation\n",
    "    Given a string write a function to check if it is a permutation of a palindrome. A palindrome is a word or phrase that is the same forwards and backwards. A permuation is a rearrangement of letters. The palindrome does not need to be limited to just dictionary words"
   ]
  },
  {
   "cell_type": "code",
   "execution_count": 44,
   "metadata": {},
   "outputs": [],
   "source": [
    "#Brute Force\n",
    "#Assuming spaces don't count\n",
    "\n",
    "def palindromePermutation(text):\n",
    "    text = text.lower()\n",
    "    myDict ={}\n",
    "    for i in text:\n",
    "        if i != \" \":\n",
    "            if i in myDict:\n",
    "                \n",
    "                \n",
    "                \n",
    "                myDict.pop(i, None)\n",
    "            else:\n",
    "                myDict[i] = True\n",
    "    if len(myDict) <= 1:\n",
    "        return True\n",
    "    return False"
   ]
  },
  {
   "cell_type": "code",
   "execution_count": 45,
   "metadata": {},
   "outputs": [
    {
     "name": "stdout",
     "output_type": "stream",
     "text": [
      "True\n"
     ]
    }
   ],
   "source": [
    "print(palindromePermutation(\"Tact Coa\"))"
   ]
  },
  {
   "cell_type": "code",
   "execution_count": 33,
   "metadata": {},
   "outputs": [
    {
     "data": {
      "text/plain": [
       "1"
      ]
     },
     "execution_count": 33,
     "metadata": {},
     "output_type": "execute_result"
    }
   ],
   "source": []
  },
  {
   "cell_type": "code",
   "execution_count": null,
   "metadata": {},
   "outputs": [],
   "source": []
  }
 ],
 "metadata": {
  "kernelspec": {
   "display_name": "Python 3",
   "language": "python",
   "name": "python3"
  },
  "language_info": {
   "codemirror_mode": {
    "name": "ipython",
    "version": 3
   },
   "file_extension": ".py",
   "mimetype": "text/x-python",
   "name": "python",
   "nbconvert_exporter": "python",
   "pygments_lexer": "ipython3",
   "version": "3.8.3"
  }
 },
 "nbformat": 4,
 "nbformat_minor": 4
}
