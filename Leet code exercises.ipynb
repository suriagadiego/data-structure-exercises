{
 "cells": [
  {
   "cell_type": "markdown",
   "metadata": {},
   "source": [
    "### 1. Two Sum\n",
    "\n",
    "    Given an array of integers nums and an integer target, return indices of the two numbers such that they add up to \n",
    "    target. You may assume that each input would have exactly one solution, and you may not use the same element twice. You can return the answer in any order.\n",
    "    \n",
    "    \n",
    "   https://leetcode.com/problems/two-sum/"
   ]
  },
  {
   "cell_type": "code",
   "execution_count": 35,
   "metadata": {},
   "outputs": [],
   "source": [
    "def twoSum(nums, target: int):\n",
    "    dummy = {}\n",
    "    for i in range(0,len(nums)):\n",
    "        if (target-nums[i]) in dummy:\n",
    "            return dummy[target-nums[i]],i\n",
    "        \n",
    "        if nums[i] not in dummy :\n",
    "            dummy[nums[i]] = i\n",
    "        \n",
    "\n",
    "#Time and space complexity O(n)"
   ]
  },
  {
   "cell_type": "code",
   "execution_count": 36,
   "metadata": {},
   "outputs": [
    {
     "name": "stdout",
     "output_type": "stream",
     "text": [
      "(2, 4)\n"
     ]
    }
   ],
   "source": [
    "print(twoSum1([-1,-2,-3,-4,-5],-8))"
   ]
  },
  {
   "cell_type": "markdown",
   "metadata": {},
   "source": [
    "### 7. Reverse Integer\n",
    "\n",
    "    Given a signed 32-bit integer x, return x with its digits reversed. If reversing x causes the value to go outside the signed 32-bit integer range [-231, 231 - 1], then return 0.\n",
    "https://leetcode.com/problems/reverse-integer/"
   ]
  },
  {
   "cell_type": "code",
   "execution_count": 74,
   "metadata": {},
   "outputs": [],
   "source": [
    "def reverse(x: int) -> int:\n",
    "    if str(x).startswith('-'):\n",
    "        y = '-'+str(str(x)[1:])[::-1]\n",
    "    else:\n",
    "        y = str(x)[::-1]\n",
    "    \n",
    "    if not -2147483648 < int(y) < 2147483648:\n",
    "        return 0\n",
    "    return int(y)\n"
   ]
  },
  {
   "cell_type": "markdown",
   "metadata": {},
   "source": [
    "Runtime: 24 ms, faster than 97.33% of Python3 online submissions for Reverse Integer.\n",
    "Memory Usage: 14.3 MB, less than 47.36% of Python3 online submissions for Reverse Integer."
   ]
  },
  {
   "cell_type": "markdown",
   "metadata": {},
   "source": [
    "### 20. Valid Parentheses\n",
    "Given a string s containing just the characters '(', ')', '{', '}', '[' and ']', determine if the input string is valid.\n",
    "\n",
    "An input string is valid if:\n",
    "\n",
    "Open brackets must be closed by the same type of brackets.\n",
    "\n",
    "Open brackets must be closed in the correct order."
   ]
  },
  {
   "cell_type": "code",
   "execution_count": 23,
   "metadata": {},
   "outputs": [],
   "source": [
    "def isValid(s: str) -> bool:\n",
    "    stack = []\n",
    "    for i in s:\n",
    "        if i == \"(\":\n",
    "            stack.append('(')\n",
    "            continue\n",
    "        elif i == \"[\":\n",
    "            stack.append('[')\n",
    "            continue\n",
    "        elif i == \"{\":\n",
    "            stack.append('{')\n",
    "            continue\n",
    "        \n",
    "        if len(stack) > 0:\n",
    "            if i == \")\" and stack[-1] == \"(\":\n",
    "                stack.pop()\n",
    "            elif i == \"]\" and stack[-1] == \"[\":\n",
    "                stack.pop()\n",
    "            elif i == \"}\" and stack[-1] == \"{\":\n",
    "                stack.pop()\n",
    "            else:\n",
    "                return False\n",
    "        else:\n",
    "            return False\n",
    "    return stack == []"
   ]
  },
  {
   "cell_type": "code",
   "execution_count": 24,
   "metadata": {},
   "outputs": [],
   "source": [
    "s = \"]\""
   ]
  },
  {
   "cell_type": "code",
   "execution_count": 25,
   "metadata": {},
   "outputs": [
    {
     "name": "stdout",
     "output_type": "stream",
     "text": [
      "False\n"
     ]
    }
   ],
   "source": [
    "print(isValid(s))"
   ]
  },
  {
   "cell_type": "markdown",
   "metadata": {},
   "source": [
    "Runtime: 32 ms, faster than 63.62% of Python3 online submissions for Valid Parentheses.\n",
    "Memory Usage: 14.3 MB, less than 66.49% of Python3 online submissions for Valid Parentheses."
   ]
  },
  {
   "cell_type": "markdown",
   "metadata": {},
   "source": [
    "### 26. Remove Duplicates from Sorted Array\n",
    "    Given a sorted array nums, remove the duplicates in-place such that each element appears only once and returns the new length.\n",
    "\n",
    "    Do not allocate extra space for another array, you must do this by modifying the input array in-place with O(1) extra memory.\n",
    "    \n",
    "    **nums is sorted in ascending order"
   ]
  },
  {
   "cell_type": "code",
   "execution_count": 62,
   "metadata": {},
   "outputs": [],
   "source": [
    "def removeDuplicates(nums):\n",
    "    curr = nums[-1]\n",
    "    for i in range(len(nums)-2, -1 ,-1):\n",
    "        if nums[i] == curr:\n",
    "            nums.pop(i)\n",
    "        curr = nums[i]\n",
    "    return nums\n",
    "    "
   ]
  },
  {
   "cell_type": "code",
   "execution_count": 63,
   "metadata": {},
   "outputs": [],
   "source": [
    "nums = [0,0,1,1,1,2,2,3,3,4]"
   ]
  },
  {
   "cell_type": "code",
   "execution_count": 64,
   "metadata": {},
   "outputs": [
    {
     "data": {
      "text/plain": [
       "[0, 1, 2, 3, 4]"
      ]
     },
     "execution_count": 64,
     "metadata": {},
     "output_type": "execute_result"
    }
   ],
   "source": [
    "removeDuplicates(nums)"
   ]
  },
  {
   "cell_type": "markdown",
   "metadata": {},
   "source": [
    "Runtime: 88 ms, faster than 51.65% of Python3 online submissions for Remove Duplicates from Sorted Array.\n",
    "Memory Usage: 15.9 MB, less than 56.07% of Python3 online submissions for Remove Duplicates from Sorted Array."
   ]
  },
  {
   "cell_type": "markdown",
   "metadata": {},
   "source": [
    "### 27. Remove Element\n",
    "\n",
    "    Given an array nums and a value val, remove all instances of that value in-place and return the new length.\n",
    "\n",
    "    Do not allocate extra space for another array, you must do this by modifying the input array in-place with O(1) extra memory.\n",
    "https://leetcode.com/problems/remove-element/submissions/"
   ]
  },
  {
   "cell_type": "code",
   "execution_count": 76,
   "metadata": {},
   "outputs": [],
   "source": [
    "def removeElement(nums, val: int) -> int:\n",
    "    for i in range(len(nums)-1,-1,-1):\n",
    "        if nums[i] == val:\n",
    "            nums.pop(i)\n",
    "    return len(nums)"
   ]
  },
  {
   "cell_type": "code",
   "execution_count": 77,
   "metadata": {},
   "outputs": [],
   "source": [
    "nums = [3,2,2,3]"
   ]
  },
  {
   "cell_type": "code",
   "execution_count": 78,
   "metadata": {},
   "outputs": [
    {
     "data": {
      "text/plain": [
       "2"
      ]
     },
     "execution_count": 78,
     "metadata": {},
     "output_type": "execute_result"
    }
   ],
   "source": [
    "removeElement(nums, 3)"
   ]
  },
  {
   "cell_type": "raw",
   "metadata": {},
   "source": [
    "Runtime: 32 ms, faster than 78.11% of Python3 online submissions for Remove Element.\n",
    "Memory Usage: 14.3 MB, less than 16.09% of Python3 online submissions for Remove Element.\n"
   ]
  },
  {
   "cell_type": "markdown",
   "metadata": {},
   "source": [
    "### 28. Implement strStr()\n",
    "    Return the index of the first occurrence of needle in haystack, or -1 if needle is not part of haystack.\n",
    "https://leetcode.com/problems/implement-strstr/"
   ]
  },
  {
   "cell_type": "code",
   "execution_count": 104,
   "metadata": {},
   "outputs": [],
   "source": [
    "def strStr(haystack: str, needle: str) -> int:\n",
    "    if haystack == \"\" and needle == \"\": return 0\n",
    "    if needle == \"\": return 0\n",
    "    x = len(needle)\n",
    "    for i in range(len(haystack)):\n",
    "        if haystack[i:x] == needle:\n",
    "            return i\n",
    "        x += 1\n",
    "    return -1"
   ]
  },
  {
   "cell_type": "code",
   "execution_count": 105,
   "metadata": {},
   "outputs": [
    {
     "data": {
      "text/plain": [
       "6"
      ]
     },
     "execution_count": 105,
     "metadata": {},
     "output_type": "execute_result"
    }
   ],
   "source": [
    "strStr('blagadoong', 'oo')"
   ]
  },
  {
   "cell_type": "raw",
   "metadata": {},
   "source": [
    "Runtime: 44 ms, faster than 29.75% of Python3 online submissions for Implement strStr().\n",
    "Memory Usage: 14.3 MB, less than 75.11% of Python3 online submissions for Implement strStr()."
   ]
  },
  {
   "cell_type": "markdown",
   "metadata": {},
   "source": [
    "### 13. Longest Common Prefix\n",
    "    Write a function to find the longest common prefix string amongst an array of strings.\n",
    "\n",
    "    If there is no common prefix, return an empty string \"\".\n",
    "\n",
    "https://leetcode.com/problems/longest-common-prefix/"
   ]
  },
  {
   "cell_type": "code",
   "execution_count": 192,
   "metadata": {},
   "outputs": [],
   "source": [
    "def longestCommonPrefix(strs) -> str:\n",
    "    if len(strs) == 0: return ''\n",
    "    if len(strs) == 1: return strs[0]\n",
    "    i = 0\n",
    "    while True:\n",
    "        if i > len(strs[0])-1:\n",
    "            return strs[0][:i]\n",
    "        if strs[0] !=:\n",
    "        x = strs[0][i]\n",
    "        for j in strs:\n",
    "            if j == \"\": return ''\n",
    "            if len(j) == i:\n",
    "                return strs[0][:i]\n",
    "            if x != j[i]:\n",
    "                return strs[0][:i]\n",
    "        i += 1\n",
    "    return ''\n"
   ]
  },
  {
   "cell_type": "code",
   "execution_count": 193,
   "metadata": {},
   "outputs": [],
   "source": [
    "strs = [\"flower\",\"flower\",\"flower\",\"flower\"]"
   ]
  },
  {
   "cell_type": "raw",
   "metadata": {},
   "source": [
    "Runtime: 44 ms, faster than 20.56% of Python3 online submissions for Longest Common Prefix.\n",
    "Memory Usage: 14.4 MB, less than 29.20% of Python3 online submissions for Longest Common Prefix."
   ]
  },
  {
   "cell_type": "markdown",
   "metadata": {},
   "source": [
    "### 35. Search Insert Position\n",
    "    Given a sorted array of distinct integers and a target value, return the index if the target is found. If not, return the index where it would be if it were inserted in order.\n",
    "https://leetcode.com/problems/search-insert-position/submissions/"
   ]
  },
  {
   "cell_type": "code",
   "execution_count": 29,
   "metadata": {},
   "outputs": [],
   "source": [
    "def searchInsert(nums, target: int) -> int:\n",
    "    low = 0\n",
    "    high = len(nums) - 1\n",
    "    mid = 0\n",
    "    while low <= high:\n",
    "        mid = (high + low) // 2\n",
    "        if nums[mid] < target:\n",
    "            low = mid + 1\n",
    "\n",
    "        elif nums[mid] > target:\n",
    "            high = mid - 1\n",
    "        elif nums[mid] == target:\n",
    "            return mid\n",
    "        \n",
    "    return low"
   ]
  },
  {
   "cell_type": "raw",
   "metadata": {},
   "source": [
    "Runtime: 40 ms, faster than 98.40% of Python3 online submissions for Search Insert Position.\n",
    "Memory Usage: 15 MB, less than 55.62% of Python3 online submissions for Search Insert Position."
   ]
  },
  {
   "cell_type": "code",
   "execution_count": 20,
   "metadata": {},
   "outputs": [],
   "source": [
    "def searchInsert1(nums, target: int) -> int:\n",
    "    for i in range(len(nums)):\n",
    "        if nums[i] == target:\n",
    "            return i\n",
    "        elif nums[i] > target:\n",
    "            return i\n",
    "    return len(nums)"
   ]
  },
  {
   "cell_type": "code",
   "execution_count": 26,
   "metadata": {},
   "outputs": [],
   "source": [
    "nums = [1,3,5,6]\n",
    "target = 7"
   ]
  },
  {
   "cell_type": "code",
   "execution_count": 27,
   "metadata": {},
   "outputs": [
    {
     "data": {
      "text/plain": [
       "4"
      ]
     },
     "execution_count": 27,
     "metadata": {},
     "output_type": "execute_result"
    }
   ],
   "source": [
    "searchInsert1(nums, target)"
   ]
  },
  {
   "cell_type": "raw",
   "metadata": {},
   "source": [
    "Runtime: 48 ms, faster than 76.35% of Python3 online submissions for Search Insert Position.\n",
    "Memory Usage: 15 MB, less than 55.62% of Python3 online submissions for Search Insert Position."
   ]
  },
  {
   "cell_type": "markdown",
   "metadata": {},
   "source": [
    "### "
   ]
  },
  {
   "cell_type": "code",
   "execution_count": null,
   "metadata": {},
   "outputs": [],
   "source": []
  },
  {
   "cell_type": "code",
   "execution_count": null,
   "metadata": {},
   "outputs": [],
   "source": []
  },
  {
   "cell_type": "code",
   "execution_count": null,
   "metadata": {},
   "outputs": [],
   "source": [
    "Runtime: 36 ms, faster than 76.54% of Python3 online submissions for Merge Two Sorted Lists.\n",
    "Memory Usage: 14.3 MB, less than 64.11% of Python3 online submissions for Merge Two Sorted Lists."
   ]
  },
  {
   "cell_type": "code",
   "execution_count": null,
   "metadata": {},
   "outputs": [],
   "source": []
  },
  {
   "cell_type": "markdown",
   "metadata": {},
   "source": [
    "### 48. Rotate Image\n",
    "\n",
    "You are given an n x n 2D matrix representing an image, rotate the image by 90 degrees (clockwise).\n",
    "\n",
    "You have to rotate the image in-place, which means you have to modify the input 2D matrix directly. DO NOT allocate another 2D matrix and do the rotation.\n",
    "\n",
    "\n",
    "https://leetcode.com/problems/rotate-image/"
   ]
  },
  {
   "cell_type": "code",
   "execution_count": 35,
   "metadata": {},
   "outputs": [],
   "source": [
    "def rotate(matrix):\n",
    "#     matrix = matrix[::-1]\n",
    "    for i in range(len(matrix)):\n",
    "        for j in range(i):\n",
    "            matrix[i][j], matrix[j][i] =  matrix[j][i],  matrix[i][j]\n",
    "            \n",
    "    for i in matrix:\n",
    "        i.reverse()\n",
    "        \n",
    "    return matrix"
   ]
  },
  {
   "cell_type": "code",
   "execution_count": 36,
   "metadata": {},
   "outputs": [],
   "source": [
    "matrix = [[1,2,3],[4,5,6],[7,8,9]]"
   ]
  },
  {
   "cell_type": "code",
   "execution_count": 37,
   "metadata": {},
   "outputs": [
    {
     "data": {
      "text/plain": [
       "[[7, 4, 1], [8, 5, 2], [9, 6, 3]]"
      ]
     },
     "execution_count": 37,
     "metadata": {},
     "output_type": "execute_result"
    }
   ],
   "source": [
    "rotate(matrix)"
   ]
  },
  {
   "cell_type": "code",
   "execution_count": null,
   "metadata": {},
   "outputs": [],
   "source": [
    "Runtime: 36 ms, faster than 63.97% of Python3 online submissions for Rotate Image.\n",
    "Memory Usage: 14.2 MB, less than 86.54% of Python3 online submissions for Rotate Image."
   ]
  },
  {
   "cell_type": "markdown",
   "metadata": {},
   "source": [
    "### 46. Permutations\n",
    "\n",
    "    Given an array nums of distinct integers, return all the possible permutations. You can return the answer in any order.\n",
    "\n",
    " \n",
    "\n",
    "https://leetcode.com/problems/permutations"
   ]
  },
  {
   "cell_type": "code",
   "execution_count": 85,
   "metadata": {},
   "outputs": [],
   "source": [
    "def permute(nums):\n",
    "    output = []\n",
    "    curr = len(nums)\n",
    "    while curr != 0:\n",
    "        temp = []\n",
    "        for i in range(1,len(nums)+1):\n",
    "            temp.append(nums[curr-i])\n",
    "        output.append(temp)\n",
    "        curr -= 1\n",
    "    if len(nums) >= 3:\n",
    "        for i in range(len(output)-1,-1,-1):\n",
    "            output.append(output[i][::-1])\n",
    "\n",
    "        \n",
    "    return output\n"
   ]
  },
  {
   "cell_type": "code",
   "execution_count": 87,
   "metadata": {},
   "outputs": [
    {
     "data": {
      "text/plain": [
       "[[4, 3, 2, 1],\n",
       " [3, 2, 1, 4],\n",
       " [2, 1, 4, 3],\n",
       " [1, 4, 3, 2],\n",
       " [2, 3, 4, 1],\n",
       " [3, 4, 1, 2],\n",
       " [4, 1, 2, 3],\n",
       " [1, 2, 3, 4]]"
      ]
     },
     "execution_count": 87,
     "metadata": {},
     "output_type": "execute_result"
    }
   ],
   "source": [
    "permute([1,2,3,4])\n"
   ]
  },
  {
   "cell_type": "code",
   "execution_count": 80,
   "metadata": {},
   "outputs": [
    {
     "data": {
      "text/plain": [
       "[[1, 2, 3], [1, 3, 2], [2, 1, 3], [2, 3, 1], [3, 1, 2], [3, 2, 1]]"
      ]
     },
     "execution_count": 80,
     "metadata": {},
     "output_type": "execute_result"
    }
   ],
   "source": [
    "[[1,2,3],[1,3,2],[2,1,3],[2,3,1],[3,1,2],[3,2,1]]"
   ]
  },
  {
   "cell_type": "code",
   "execution_count": 72,
   "metadata": {},
   "outputs": [],
   "source": [
    "x = [[1,2,3],[1,3,2],[2,1,3]]"
   ]
  },
  {
   "cell_type": "code",
   "execution_count": 73,
   "metadata": {},
   "outputs": [],
   "source": [
    "for i in range(len(x)-1,-1,-1):\n",
    "    x.append(x[i][::-1])\n"
   ]
  },
  {
   "cell_type": "code",
   "execution_count": 74,
   "metadata": {},
   "outputs": [
    {
     "name": "stdout",
     "output_type": "stream",
     "text": [
      "[[1, 2, 3], [1, 3, 2], [2, 1, 3], [3, 1, 2], [2, 3, 1], [3, 2, 1]]\n"
     ]
    }
   ],
   "source": [
    "print(x)"
   ]
  },
  {
   "cell_type": "code",
   "execution_count": 1,
   "metadata": {},
   "outputs": [
    {
     "data": {
      "text/plain": [
       "0"
      ]
     },
     "execution_count": 1,
     "metadata": {},
     "output_type": "execute_result"
    }
   ],
   "source": [
    "9//10"
   ]
  },
  {
   "cell_type": "code",
   "execution_count": 2,
   "metadata": {},
   "outputs": [
    {
     "data": {
      "text/plain": [
       "10009998"
      ]
     },
     "execution_count": 2,
     "metadata": {},
     "output_type": "execute_result"
    }
   ],
   "source": [
    "9999999+9999"
   ]
  },
  {
   "cell_type": "markdown",
   "metadata": {},
   "source": [
    "### 2. Add Two Numbers\n",
    "    You are given two non-empty linked lists representing two non-negative integers. The digits are stored in reverse order, and each of their nodes contains a single digit. Add the two numbers and return the sum as a linked list.\n",
    "    \n",
    "    You may assume the two numbers do not contain any leading zero, except the number 0 itself.\n",
    "    \n",
    "https://leetcode.com/problems/add-two-numbers/submissions/"
   ]
  },
  {
   "cell_type": "code",
   "execution_count": null,
   "metadata": {},
   "outputs": [],
   "source": [
    "def addTwoNumbers(self, l1: ListNode, l2: ListNode) -> ListNode:\n",
    "    if not l1: return l2\n",
    "    if not l2: return l1\n",
    "\n",
    "    output = dummy = ListNode(0)\n",
    "    carry = 0\n",
    "    while l1 != None and l2 != None:\n",
    "        output.next = ListNode((l1.val + l2.val + carry) % 10)\n",
    "        carry  = (l1.val +l2.val + carry) // 10\n",
    "        l1 = l1.next\n",
    "        l2 = l2.next\n",
    "        output = output.next\n",
    "\n",
    "\n",
    "\n",
    "    while l1:\n",
    "        output.next = ListNode((l1.val + carry) % 10)\n",
    "        carry  = (l1.val + carry) // 10\n",
    "        l1 = l1.next\n",
    "        output = output.next\n",
    "\n",
    "    while l2:\n",
    "        output.next = ListNode((l2.val + carry) % 10)\n",
    "        carry  = (l2.val + carry) // 10\n",
    "        l2 = l2.next\n",
    "        output = output.next\n",
    "\n",
    "    if carry > 0:\n",
    "        output.next = ListNode((carry) % 10)\n",
    "\n",
    "\n",
    "    return dummy.next"
   ]
  },
  {
   "cell_type": "raw",
   "metadata": {},
   "source": [
    "Runtime: 72 ms, faster than 53.06% of Python3 online submissions for Add Two Numbers.\n",
    "Memory Usage: 14.4 MB, less than 45.04% of Python3 online submissions for Add Two Numbers."
   ]
  },
  {
   "cell_type": "code",
   "execution_count": 5,
   "metadata": {},
   "outputs": [],
   "source": [
    "s = ''"
   ]
  },
  {
   "cell_type": "code",
   "execution_count": 9,
   "metadata": {},
   "outputs": [
    {
     "data": {
      "text/plain": [
       "0"
      ]
     },
     "execution_count": 9,
     "metadata": {},
     "output_type": "execute_result"
    }
   ],
   "source": [
    "len(s)"
   ]
  },
  {
   "cell_type": "markdown",
   "metadata": {},
   "source": [
    "### 3. Longest Substring Without Repeating Characters\n",
    "\n",
    "    Given a string s, find the length of the longest substring without repeating characters.\n",
    "https://leetcode.com/problems/longest-substring-without-repeating-characters/"
   ]
  },
  {
   "cell_type": "code",
   "execution_count": null,
   "metadata": {},
   "outputs": [],
   "source": [
    "def lengthOfLongestSubstring(self, s: str) -> int:\n",
    "    if not s: return 0\n",
    "    if len(s) == 1: return 1 \n",
    "\n",
    "    hi_ctr = 0\n",
    "    pointer_right = 0\n",
    "    pointer_left = 0\n",
    "    bank = set([])\n",
    "\n",
    "    while pointer_right < len(s) and pointer_left <= pointer_right:\n",
    "        if s[pointer_right] not in bank:\n",
    "            bank.add(s[pointer_right])\n",
    "            pointer_right+= 1\n",
    "            hi_ctr = max(len(bank), hi_ctr)\n",
    "        else:\n",
    "            bank.remove(s[pointer_left])\n",
    "            pointer_left += 1\n",
    "\n",
    "    return hi_ctr\n",
    "            "
   ]
  },
  {
   "cell_type": "code",
   "execution_count": null,
   "metadata": {},
   "outputs": [],
   "source": [
    "Runtime: 76 ms, faster than 46.84% of Python3 online submissions for Longest Substring Without Repeating Characters.\n",
    "Memory Usage: 14.4 MB, less than 27.85% of Python3 online submissions for Longest Substring Without Repeating Characters."
   ]
  },
  {
   "cell_type": "code",
   "execution_count": 63,
   "metadata": {},
   "outputs": [],
   "source": [
    "y = \"aba\""
   ]
  },
  {
   "cell_type": "code",
   "execution_count": 64,
   "metadata": {},
   "outputs": [],
   "source": [
    "def isPal(s):\n",
    "    x = len(s) // 2\n",
    "    if len(s) %2 == 0:\n",
    "        return s[x:] == s[:x][::-1]\n",
    "    else:\n",
    "        return s[x+1:] == s[:x][::-1]"
   ]
  },
  {
   "cell_type": "code",
   "execution_count": 65,
   "metadata": {},
   "outputs": [
    {
     "data": {
      "text/plain": [
       "True"
      ]
     },
     "execution_count": 65,
     "metadata": {},
     "output_type": "execute_result"
    }
   ],
   "source": [
    "isPal(y)"
   ]
  },
  {
   "cell_type": "code",
   "execution_count": 66,
   "metadata": {},
   "outputs": [],
   "source": [
    "s = 'babad'"
   ]
  },
  {
   "cell_type": "code",
   "execution_count": 69,
   "metadata": {},
   "outputs": [
    {
     "data": {
      "text/plain": [
       "'ba'"
      ]
     },
     "execution_count": 69,
     "metadata": {},
     "output_type": "execute_result"
    }
   ],
   "source": [
    "s[0:1+1]"
   ]
  },
  {
   "cell_type": "code",
   "execution_count": 71,
   "metadata": {},
   "outputs": [
    {
     "data": {
      "text/plain": [
       "'baba'"
      ]
     },
     "execution_count": 71,
     "metadata": {},
     "output_type": "execute_result"
    }
   ],
   "source": [
    "max('baba', 'aab')"
   ]
  },
  {
   "cell_type": "code",
   "execution_count": null,
   "metadata": {},
   "outputs": [],
   "source": []
  },
  {
   "cell_type": "code",
   "execution_count": 96,
   "metadata": {},
   "outputs": [],
   "source": [
    "def longestPalindrome( s: str) -> str:\n",
    "    if len(s) <= 2: return s[0]\n",
    "    high = ''\n",
    "    right = 2\n",
    "    left = 0\n",
    "\n",
    "    while right < len(s):\n",
    "        if isPal(s[left:right+1]):\n",
    "            print(s[left:right+1], 'is palindrome')\n",
    "            high = max(s[left:right+1], high)\n",
    "            print(high)\n",
    "        print(s[left:right+1], 'is not palindrome')\n",
    "        right += 1\n",
    "    \n",
    "\n",
    "    while left < len(s):\n",
    "        if isPal(s[left:right+1]):\n",
    "            print(s[left:right+1], 'is palindrome')\n",
    "            high = max(s[left:right+1], high)\n",
    "            print(high)\n",
    "        print(s[left:right+1], 'is not palindrome')\n",
    "        left += 1\n",
    "    \n",
    "    return high\n",
    "\n",
    "\n",
    "def isPal( s):\n",
    "    x = len(s) // 2\n",
    "    if len(s) %2 == 0:\n",
    "        return s[x:] == s[:x][::-1]\n",
    "    else:\n",
    "        return s[x+1:] == s[:x][::-1]\n",
    "        "
   ]
  },
  {
   "cell_type": "code",
   "execution_count": 97,
   "metadata": {},
   "outputs": [
    {
     "name": "stdout",
     "output_type": "stream",
     "text": [
      "cbb is not palindrome\n",
      "cbbd is not palindrome\n",
      "cbbd is not palindrome\n",
      "bbd is not palindrome\n",
      "bd is not palindrome\n",
      "d is palindrome\n",
      "d\n",
      "d is not palindrome\n"
     ]
    },
    {
     "data": {
      "text/plain": [
       "'d'"
      ]
     },
     "execution_count": 97,
     "metadata": {},
     "output_type": "execute_result"
    }
   ],
   "source": [
    "longestPalindrome(\"cbbd\")"
   ]
  },
  {
   "cell_type": "code",
   "execution_count": 18,
   "metadata": {},
   "outputs": [],
   "source": [
    "s = \"aracecar\"\n",
    "i = 3\n",
    "iters = 0"
   ]
  },
  {
   "cell_type": "code",
   "execution_count": 19,
   "metadata": {},
   "outputs": [],
   "source": [
    "iters = 1\n",
    "while i-iters >=  0 and i+iters <= len(s):\n",
    "    if s[i-iters] == s[i+iters]:\n",
    "        longest = s[i-iters:i+iters+1]\n",
    "        iters+= 1\n",
    "    else:\n",
    "        return longest"
   ]
  },
  {
   "cell_type": "code",
   "execution_count": 20,
   "metadata": {},
   "outputs": [
    {
     "name": "stdout",
     "output_type": "stream",
     "text": [
      "araceca\n"
     ]
    }
   ],
   "source": [
    "print(longest)"
   ]
  },
  {
   "cell_type": "code",
   "execution_count": 24,
   "metadata": {},
   "outputs": [
    {
     "name": "stdout",
     "output_type": "stream",
     "text": [
      "c c\n"
     ]
    }
   ],
   "source": [
    "print(s[3],s[5])"
   ]
  },
  {
   "cell_type": "markdown",
   "metadata": {},
   "source": [
    "### 5. Longest Palindromic Substring\n",
    "\n",
    "    Given a string s return the longest palindromic substring in s\n",
    "https://leetcode.com/problems/longest-palindromic-substring/"
   ]
  },
  {
   "cell_type": "code",
   "execution_count": 121,
   "metadata": {},
   "outputs": [],
   "source": [
    "def longestPalindrome(s: str) -> str:\n",
    "    if len(s) <= 2: return s[0]\n",
    "    longest = ''\n",
    "    \n",
    "    for i in range(len(s)):\n",
    "        longest = max(isValid(s, i, longest, 0), isValid(s, i , longest, 1), key=len)\n",
    "    return longest\n",
    "\n",
    "def isValid(s, i, longest, right):\n",
    "    iters = 0\n",
    "    while i-iters >=  0 and i+right < len(s):\n",
    "        if s[i-iters] == s[i+right]:\n",
    "            longest = max(s[i-iters:i+right+1], longest, key=len)\n",
    "            iters += 1\n",
    "            right += 1\n",
    "        else:\n",
    "            return longest\n",
    "        \n",
    "    return longest"
   ]
  },
  {
   "cell_type": "code",
   "execution_count": 126,
   "metadata": {},
   "outputs": [
    {
     "name": "stdout",
     "output_type": "stream",
     "text": [
      "a\n"
     ]
    }
   ],
   "source": [
    "print(longestPalindrome(\"ac\"))"
   ]
  },
  {
   "cell_type": "raw",
   "metadata": {},
   "source": [
    "Runtime: 3384 ms, faster than 28.65% of Python3 online submissions for Longest Palindromic Substring.\n",
    "Memory Usage: 14.5 MB, less than 39.86% of Python3 online submissions for Longest Palindromic Substring."
   ]
  },
  {
   "cell_type": "markdown",
   "metadata": {},
   "source": [
    "### Count and Say\n",
    "\n",
    "    The count-and-say sequence is a sequence of digit strings defined by the recursive formula:\n",
    "\n",
    "    countAndSay(1) = \"1\"\n",
    "    countAndSay(n) is the way you would \"say\" the digit string from countAndSay(n-1), which is then converted into a different digit string.\n",
    "    To determine how you \"say\" a digit string, split it into the minimal number of groups so that each group is a contiguous section all of the same character. Then for each group, say the number of characters, then say the character. To convert the saying into a digit string, replace the counts with a number and concatenate every saying.\n",
    "    \n",
    "https://leetcode.com/problems/count-and-say/"
   ]
  },
  {
   "cell_type": "code",
   "execution_count": 190,
   "metadata": {},
   "outputs": [],
   "source": [
    "def countAndSay1(n: int ) -> str:\n",
    "    say = '1'\n",
    "    for i in range(1,n):\n",
    "        new = []\n",
    "        counter = 0\n",
    "        current = say[0]\n",
    "        for i in range(len(say)):\n",
    "            if say[i] == current:\n",
    "                counter += 1\n",
    "            else:\n",
    "                new.append(str(counter) + current)\n",
    "                current = say[i]\n",
    "                counter = 1\n",
    "        new.append(str(counter) + current)\n",
    "        say = ''.join(new)\n",
    "    return say"
   ]
  },
  {
   "cell_type": "code",
   "execution_count": 192,
   "metadata": {
    "scrolled": true
   },
   "outputs": [
    {
     "data": {
      "text/plain": [
       "'111221'"
      ]
     },
     "execution_count": 192,
     "metadata": {},
     "output_type": "execute_result"
    }
   ],
   "source": [
    "countAndSay1(5)"
   ]
  },
  {
   "cell_type": "code",
   "execution_count": 193,
   "metadata": {},
   "outputs": [],
   "source": [
    "s = \"     123\""
   ]
  },
  {
   "cell_type": "code",
   "execution_count": 197,
   "metadata": {},
   "outputs": [
    {
     "name": "stdout",
     "output_type": "stream",
     "text": [
      "123\n"
     ]
    }
   ],
   "source": [
    "s=s.lstrip()\n",
    "print(s)"
   ]
  },
  {
   "cell_type": "code",
   "execution_count": 210,
   "metadata": {},
   "outputs": [],
   "source": [
    "s = '+'"
   ]
  },
  {
   "cell_type": "markdown",
   "metadata": {},
   "source": [
    "### 8. String to Integer (atoi)\n",
    "    Implement the myAtoi(string s) function, which converts a string to a 32-bit signed integer (similar to C/C++'s atoi function).\n",
    "\n",
    "https://leetcode.com/problems/string-to-integer-atoi/"
   ]
  },
  {
   "cell_type": "code",
   "execution_count": 278,
   "metadata": {},
   "outputs": [
    {
     "name": "stdout",
     "output_type": "stream",
     "text": [
      "+0 123\n",
      "0\n"
     ]
    }
   ],
   "source": [
    "def myAtoi(s: str) -> int:\n",
    "    if s.isdigit(): return s\n",
    "    s = s.strip()\n",
    "    print(s)\n",
    "    result = []\n",
    "    if s[0] == '-' or s[0] == '+':\n",
    "        for i in range(1, len(s)):\n",
    "            if s[i].isdigit():\n",
    "                result.append(s[i])\n",
    "\n",
    "            else:\n",
    "                if result == []: return 0\n",
    "                if s[0] == '-': return check((int(''.join(result))*-1 ))\n",
    "                else: return check(int(''.join(result)))\n",
    "\n",
    "        if s[0] == '-': return check((int(''.join(result))*-1 ))\n",
    "        else: return check(int(''.join(result)))\n",
    "    else:\n",
    "        for i in range(0, len(s)):\n",
    "            print(s[i])\n",
    "            if s[i].isdigit():\n",
    "                result.append(s[i])\n",
    "\n",
    "            else:\n",
    "                if result == []: return 0\n",
    "                if s[0] == '-': return check(int(''.join(result))*-1 )\n",
    "                else:\n",
    "                    return check(int(''.join(result)))\n",
    "\n",
    "\n",
    "    return check(int(''.join(result)))\n",
    "\n",
    "\n",
    "def check(num):\n",
    "    if num <= -2**31:\n",
    "        return -2**31-1\n",
    "\n",
    "    elif num >= 2**31:\n",
    "        return 2**31-1\n",
    "    else:\n",
    "        return num\n",
    "    \n",
    "\n",
    "\n",
    "print(myAtoi(\"   +0 123\"))"
   ]
  },
  {
   "cell_type": "code",
   "execution_count": 279,
   "metadata": {},
   "outputs": [
    {
     "data": {
      "text/plain": [
       "2147483647"
      ]
     },
     "execution_count": 279,
     "metadata": {},
     "output_type": "execute_result"
    }
   ],
   "source": [
    "Runtime: 24 ms, faster than 98.52% of Python3 online submissions for String to Integer (atoi).\n",
    "Memory Usage: 14.3 MB, less than 28.29% of Python3 online submissions for String to Integer (atoi)."
   ]
  },
  {
   "cell_type": "markdown",
   "metadata": {},
   "source": [
    "### 11. Container With Most Water\n",
    "\n",
    "    Given n non-negative integers a1, a2, ..., an , where each represents a point at coordinate (i, ai). n vertical lines are drawn such that the two endpoints of the line i is at (i, ai) and (i, 0). Find two lines, which, together with the x-axis forms a container, such that the container contains the most water.\n",
    "    \n",
    "https://leetcode.com/problems/container-with-most-water/"
   ]
  },
  {
   "cell_type": "code",
   "execution_count": null,
   "metadata": {},
   "outputs": [],
   "source": [
    "def maxArea(self, height: List[int]) -> int:\n",
    "\n",
    "    left = 0\n",
    "    right = len(height)-1\n",
    "    longest = 0\n",
    "    while left  != right:\n",
    "        longest = max(longest, ((right-left) * (min(height[left], height[right]))))\n",
    "        if height[left] <= height[right]:\n",
    "            left += 1\n",
    "        else:\n",
    "            right -= 1\n",
    "\n",
    "    return longest"
   ]
  },
  {
   "cell_type": "raw",
   "metadata": {},
   "source": [
    "Runtime: 1216 ms, faster than 5.25% of Python3 online submissions for Container With Most Water.\n",
    "Memory Usage: 26.5 MB, less than 20.63% of Python3 online submissions for Container With Most Water."
   ]
  },
  {
   "cell_type": "markdown",
   "metadata": {},
   "source": [
    "### 22. Generate Parentheses\n",
    "\n",
    "    Given n pairs of parentheses, write a function to generate all combinations of well-formed parentheses.\n",
    "    Input: n = 3\n",
    "    Output: [\"((()))\",\"(()())\",\"(())()\",\"()(())\",\"()()()\"]\n",
    "    \n",
    "https://leetcode.com/problems/generate-parentheses/"
   ]
  },
  {
   "cell_type": "code",
   "execution_count": 25,
   "metadata": {},
   "outputs": [],
   "source": [
    "def generateParenthesis( n: int):\n",
    "    if n == 1: return ['()']\n",
    "    \n",
    "    output = generateParenthesis(n-1)\n",
    "    temp = set()\n",
    "    for item in output:\n",
    "        for i in range(len(item)):\n",
    "            if (item[:i] + '()' +item[i:] ) not in temp:\n",
    "                temp.add(item[:i] + '()' +item[i:])\n",
    "    return list(temp)\n",
    "\n",
    "\n",
    "\n",
    "    \n",
    "    "
   ]
  },
  {
   "cell_type": "code",
   "execution_count": 26,
   "metadata": {},
   "outputs": [
    {
     "name": "stdout",
     "output_type": "stream",
     "text": [
      "['()()()', '(()())', '((()))', '(())()', '()(())']\n"
     ]
    }
   ],
   "source": [
    "print((generateParenthesis(3)))"
   ]
  },
  {
   "cell_type": "code",
   "execution_count": null,
   "metadata": {},
   "outputs": [],
   "source": [
    "Runtime: 32 ms, faster than 84.93% of Python3 online submissions for Generate Parentheses.\n",
    "Memory Usage: 14.5 MB, less than 68.60% of Python3 online submissions for Generate Parentheses."
   ]
  },
  {
   "cell_type": "markdown",
   "metadata": {},
   "source": [
    "### 13. Roman to Integer\n",
    "    Roman numerals are represented by seven different symbols: I, V, X, L, C, D and M.\n",
    "    \n",
    "https://leetcode.com/problems/roman-to-integer/submissions/"
   ]
  },
  {
   "cell_type": "code",
   "execution_count": 1,
   "metadata": {},
   "outputs": [],
   "source": [
    "def romanToInt(s : str) -> int:\n",
    "    bank = {'I': 1, 'V': 5, 'X': 10, 'L':50, 'C': 100, 'D': 500,  'M': 1000}\n",
    "\n",
    "    result = 0\n",
    "    recent = 0\n",
    "\n",
    "    for i in range(len(s)):\n",
    "        if recent >= bank[s[i]]:\n",
    "            result += bank[s[i]]\n",
    "        else:\n",
    "            result -= recent*2 \n",
    "            result += bank[s[i]] \n",
    "        recent = bank[s[i]]\n",
    "\n",
    "    return result"
   ]
  },
  {
   "cell_type": "code",
   "execution_count": null,
   "metadata": {},
   "outputs": [],
   "source": [
    "Runtime: 44 ms, faster than 81.78% of Python3 online submissions for Roman to Integer.\n",
    "Memory Usage: 14.2 MB, less than 85.15% of Python3 online submissions for Roman to Integer."
   ]
  },
  {
   "cell_type": "markdown",
   "metadata": {},
   "source": [
    "### 75. Sort Colors\n",
    "\n",
    "    Given an array nums with n objects colored red, white, or blue, sort them in-place so that objects of the same color are adjacent, with the colors in the order red, white, and blue.\n",
    "\n",
    "    We will use the integers 0, 1, and 2 to represent the color red, white, and blue, respectively.\n",
    "    \n",
    "https://leetcode.com/problems/sort-colors/"
   ]
  },
  {
   "cell_type": "code",
   "execution_count": 49,
   "metadata": {},
   "outputs": [],
   "source": [
    "def sortColors(nums) -> None:\n",
    "    \"\"\"\n",
    "    Do not return anything, modify nums in-place instead.\n",
    "    \"\"\"\n",
    "    end = len(nums)-1\n",
    "    start = 0\n",
    "    index = 0\n",
    "\n",
    "    while index <= end and start < end:\n",
    "        if nums[index] == 0:\n",
    "            nums[start], nums[index] = nums[index], nums[start]\n",
    "            start += 1\n",
    "            index += 1\n",
    "\n",
    "        elif nums[index] == 2: \n",
    "            nums[index], nums[end] = nums[end], nums[index]\n",
    "            end -= 1\n",
    "        else:\n",
    "            index += 1"
   ]
  },
  {
   "cell_type": "code",
   "execution_count": null,
   "metadata": {},
   "outputs": [],
   "source": [
    "Runtime: 20 ms, faster than 99.73% of Python3 online submissions for Sort Colors.\n",
    "Memory Usage: 14.3 MB, less than 12.81% of Python3 online submissions for Sort Colors."
   ]
  },
  {
   "cell_type": "markdown",
   "metadata": {},
   "source": [
    "### 78. Subsets\n",
    "    Given an integer array nums of unique elements, return all possible subsets (the power set).\n",
    "\n",
    "    The solution set must not contain duplicate subsets. Return the solution in any order.\n",
    "    \n",
    "https://leetcode.com/problems/subsets/"
   ]
  },
  {
   "cell_type": "code",
   "execution_count": 327,
   "metadata": {},
   "outputs": [],
   "source": [
    "from copy import deepcopy \n",
    "def subsets(nums):\n",
    "    i = len(nums) - 1\n",
    "    return _subsets(nums, i)\n",
    "\n",
    "def _subsets(nums, i):\n",
    "    if i == 0: return [[], nums]\n",
    "    output = _subsets(nums[:i], i-1)\n",
    "    temp = deepcopy(output)\n",
    "    for j in output:\n",
    "        j.append(nums[i])\n",
    "    return temp + output"
   ]
  },
  {
   "cell_type": "code",
   "execution_count": 328,
   "metadata": {},
   "outputs": [
    {
     "name": "stdout",
     "output_type": "stream",
     "text": [
      "[[], [1]]\n"
     ]
    }
   ],
   "source": [
    "print(subsets([1]))"
   ]
  },
  {
   "cell_type": "code",
   "execution_count": 329,
   "metadata": {},
   "outputs": [
    {
     "name": "stdout",
     "output_type": "stream",
     "text": [
      "[[], [1], [2], [1, 2]]\n"
     ]
    }
   ],
   "source": [
    "print(subsets([1,2]))"
   ]
  },
  {
   "cell_type": "code",
   "execution_count": 333,
   "metadata": {},
   "outputs": [
    {
     "name": "stdout",
     "output_type": "stream",
     "text": [
      "[[], [1], [2], [1, 2], [3], [1, 3], [2, 3], [1, 2, 3]]\n"
     ]
    }
   ],
   "source": [
    "print(subsets([1,2,3]))"
   ]
  },
  {
   "cell_type": "code",
   "execution_count": null,
   "metadata": {},
   "outputs": [],
   "source": [
    "Runtime: 36 ms, faster than 55.36% of Python3 online submissions for Subsets.\n",
    "Memory Usage: 14.5 MB, less than 21.04% of Python3 online submissions for Subsets."
   ]
  }
 ],
 "metadata": {
  "kernelspec": {
   "display_name": "Python 3",
   "language": "python",
   "name": "python3"
  },
  "language_info": {
   "codemirror_mode": {
    "name": "ipython",
    "version": 3
   },
   "file_extension": ".py",
   "mimetype": "text/x-python",
   "name": "python",
   "nbconvert_exporter": "python",
   "pygments_lexer": "ipython3",
   "version": "3.8.3"
  }
 },
 "nbformat": 4,
 "nbformat_minor": 4
}
