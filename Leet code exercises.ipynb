{
 "cells": [
  {
   "cell_type": "markdown",
   "metadata": {},
   "source": [
    "### 1. Two Sum\n",
    "\n",
    "    Given an array of integers nums and an integer target, return indices of the two numbers such that they add up to \n",
    "    target. You may assume that each input would have exactly one solution, and you may not use the same element twice. You can return the answer in any order.\n",
    "    \n",
    "    \n",
    "   https://leetcode.com/problems/two-sum/"
   ]
  },
  {
   "cell_type": "code",
   "execution_count": 35,
   "metadata": {},
   "outputs": [],
   "source": [
    "def twoSum(nums, target: int):\n",
    "    dummy = {}\n",
    "    for i in range(0,len(nums)):\n",
    "        if (target-nums[i]) in dummy:\n",
    "            return dummy[target-nums[i]],i\n",
    "        \n",
    "        if nums[i] not in dummy :\n",
    "            dummy[nums[i]] = i\n",
    "        \n",
    "\n",
    "#Time and space complexity O(n)"
   ]
  },
  {
   "cell_type": "code",
   "execution_count": 36,
   "metadata": {},
   "outputs": [
    {
     "name": "stdout",
     "output_type": "stream",
     "text": [
      "(2, 4)\n"
     ]
    }
   ],
   "source": [
    "print(twoSum1([-1,-2,-3,-4,-5],-8))"
   ]
  },
  {
   "cell_type": "markdown",
   "metadata": {},
   "source": [
    "### 7. Reverse Integer\n",
    "\n",
    "    Given a signed 32-bit integer x, return x with its digits reversed. If reversing x causes the value to go outside the signed 32-bit integer range [-231, 231 - 1], then return 0.\n",
    "https://leetcode.com/problems/reverse-integer/"
   ]
  },
  {
   "cell_type": "code",
   "execution_count": 74,
   "metadata": {},
   "outputs": [],
   "source": [
    "def reverse(x: int) -> int:\n",
    "    if str(x).startswith('-'):\n",
    "        y = '-'+str(str(x)[1:])[::-1]\n",
    "    else:\n",
    "        y = str(x)[::-1]\n",
    "    \n",
    "    if not -2147483648 < int(y) < 2147483648:\n",
    "        return 0\n",
    "    return int(y)\n"
   ]
  },
  {
   "cell_type": "markdown",
   "metadata": {},
   "source": [
    "Runtime: 24 ms, faster than 97.33% of Python3 online submissions for Reverse Integer.\n",
    "Memory Usage: 14.3 MB, less than 47.36% of Python3 online submissions for Reverse Integer."
   ]
  },
  {
   "cell_type": "markdown",
   "metadata": {},
   "source": [
    "### 20. Valid Parentheses\n",
    "Given a string s containing just the characters '(', ')', '{', '}', '[' and ']', determine if the input string is valid.\n",
    "\n",
    "An input string is valid if:\n",
    "\n",
    "Open brackets must be closed by the same type of brackets.\n",
    "\n",
    "Open brackets must be closed in the correct order."
   ]
  },
  {
   "cell_type": "code",
   "execution_count": 23,
   "metadata": {},
   "outputs": [],
   "source": [
    "def isValid(s: str) -> bool:\n",
    "    stack = []\n",
    "    for i in s:\n",
    "        if i == \"(\":\n",
    "            stack.append('(')\n",
    "            continue\n",
    "        elif i == \"[\":\n",
    "            stack.append('[')\n",
    "            continue\n",
    "        elif i == \"{\":\n",
    "            stack.append('{')\n",
    "            continue\n",
    "        \n",
    "        if len(stack) > 0:\n",
    "            if i == \")\" and stack[-1] == \"(\":\n",
    "                stack.pop()\n",
    "            elif i == \"]\" and stack[-1] == \"[\":\n",
    "                stack.pop()\n",
    "            elif i == \"}\" and stack[-1] == \"{\":\n",
    "                stack.pop()\n",
    "            else:\n",
    "                return False\n",
    "        else:\n",
    "            return False\n",
    "    return stack == []"
   ]
  },
  {
   "cell_type": "code",
   "execution_count": 24,
   "metadata": {},
   "outputs": [],
   "source": [
    "s = \"]\""
   ]
  },
  {
   "cell_type": "code",
   "execution_count": 25,
   "metadata": {},
   "outputs": [
    {
     "name": "stdout",
     "output_type": "stream",
     "text": [
      "False\n"
     ]
    }
   ],
   "source": [
    "print(isValid(s))"
   ]
  },
  {
   "cell_type": "markdown",
   "metadata": {},
   "source": [
    "Runtime: 32 ms, faster than 63.62% of Python3 online submissions for Valid Parentheses.\n",
    "Memory Usage: 14.3 MB, less than 66.49% of Python3 online submissions for Valid Parentheses."
   ]
  },
  {
   "cell_type": "markdown",
   "metadata": {},
   "source": [
    "### 26. Remove Duplicates from Sorted Array\n",
    "    Given a sorted array nums, remove the duplicates in-place such that each element appears only once and returns the new length.\n",
    "\n",
    "    Do not allocate extra space for another array, you must do this by modifying the input array in-place with O(1) extra memory.\n",
    "    \n",
    "    **nums is sorted in ascending order"
   ]
  },
  {
   "cell_type": "code",
   "execution_count": 62,
   "metadata": {},
   "outputs": [],
   "source": [
    "def removeDuplicates(nums):\n",
    "    curr = nums[-1]\n",
    "    for i in range(len(nums)-2, -1 ,-1):\n",
    "        if nums[i] == curr:\n",
    "            nums.pop(i)\n",
    "        curr = nums[i]\n",
    "    return nums\n",
    "    "
   ]
  },
  {
   "cell_type": "code",
   "execution_count": 63,
   "metadata": {},
   "outputs": [],
   "source": [
    "nums = [0,0,1,1,1,2,2,3,3,4]"
   ]
  },
  {
   "cell_type": "code",
   "execution_count": 64,
   "metadata": {},
   "outputs": [
    {
     "data": {
      "text/plain": [
       "[0, 1, 2, 3, 4]"
      ]
     },
     "execution_count": 64,
     "metadata": {},
     "output_type": "execute_result"
    }
   ],
   "source": [
    "removeDuplicates(nums)"
   ]
  },
  {
   "cell_type": "markdown",
   "metadata": {},
   "source": [
    "Runtime: 88 ms, faster than 51.65% of Python3 online submissions for Remove Duplicates from Sorted Array.\n",
    "Memory Usage: 15.9 MB, less than 56.07% of Python3 online submissions for Remove Duplicates from Sorted Array."
   ]
  },
  {
   "cell_type": "markdown",
   "metadata": {},
   "source": [
    "### 27. Remove Element\n",
    "\n",
    "    Given an array nums and a value val, remove all instances of that value in-place and return the new length.\n",
    "\n",
    "    Do not allocate extra space for another array, you must do this by modifying the input array in-place with O(1) extra memory.\n",
    "https://leetcode.com/problems/remove-element/submissions/"
   ]
  },
  {
   "cell_type": "code",
   "execution_count": 76,
   "metadata": {},
   "outputs": [],
   "source": [
    "def removeElement(nums, val: int) -> int:\n",
    "    for i in range(len(nums)-1,-1,-1):\n",
    "        if nums[i] == val:\n",
    "            nums.pop(i)\n",
    "    return len(nums)"
   ]
  },
  {
   "cell_type": "code",
   "execution_count": 77,
   "metadata": {},
   "outputs": [],
   "source": [
    "nums = [3,2,2,3]"
   ]
  },
  {
   "cell_type": "code",
   "execution_count": 78,
   "metadata": {},
   "outputs": [
    {
     "data": {
      "text/plain": [
       "2"
      ]
     },
     "execution_count": 78,
     "metadata": {},
     "output_type": "execute_result"
    }
   ],
   "source": [
    "removeElement(nums, 3)"
   ]
  },
  {
   "cell_type": "raw",
   "metadata": {},
   "source": [
    "Runtime: 32 ms, faster than 78.11% of Python3 online submissions for Remove Element.\n",
    "Memory Usage: 14.3 MB, less than 16.09% of Python3 online submissions for Remove Element.\n"
   ]
  },
  {
   "cell_type": "markdown",
   "metadata": {},
   "source": [
    "### 28. Implement strStr()\n",
    "    Return the index of the first occurrence of needle in haystack, or -1 if needle is not part of haystack.\n",
    "https://leetcode.com/problems/implement-strstr/"
   ]
  },
  {
   "cell_type": "code",
   "execution_count": 104,
   "metadata": {},
   "outputs": [],
   "source": [
    "def strStr(haystack: str, needle: str) -> int:\n",
    "    if haystack == \"\" and needle == \"\": return 0\n",
    "    if needle == \"\": return 0\n",
    "    x = len(needle)\n",
    "    for i in range(len(haystack)):\n",
    "        if haystack[i:x] == needle:\n",
    "            return i\n",
    "        x += 1\n",
    "    return -1"
   ]
  },
  {
   "cell_type": "code",
   "execution_count": 105,
   "metadata": {},
   "outputs": [
    {
     "data": {
      "text/plain": [
       "6"
      ]
     },
     "execution_count": 105,
     "metadata": {},
     "output_type": "execute_result"
    }
   ],
   "source": [
    "strStr('blagadoong', 'oo')"
   ]
  },
  {
   "cell_type": "raw",
   "metadata": {},
   "source": [
    "Runtime: 44 ms, faster than 29.75% of Python3 online submissions for Implement strStr().\n",
    "Memory Usage: 14.3 MB, less than 75.11% of Python3 online submissions for Implement strStr()."
   ]
  },
  {
   "cell_type": "markdown",
   "metadata": {},
   "source": [
    "### 13. Longest Common Prefix\n",
    "    Write a function to find the longest common prefix string amongst an array of strings.\n",
    "\n",
    "    If there is no common prefix, return an empty string \"\".\n",
    "\n",
    "https://leetcode.com/problems/longest-common-prefix/"
   ]
  },
  {
   "cell_type": "code",
   "execution_count": 192,
   "metadata": {},
   "outputs": [],
   "source": [
    "def longestCommonPrefix(strs) -> str:\n",
    "    if len(strs) == 0: return ''\n",
    "    if len(strs) == 1: return strs[0]\n",
    "    i = 0\n",
    "    while True:\n",
    "        if i > len(strs[0])-1:\n",
    "            return strs[0][:i]\n",
    "        if strs[0] !=:\n",
    "        x = strs[0][i]\n",
    "        for j in strs:\n",
    "            if j == \"\": return ''\n",
    "            if len(j) == i:\n",
    "                return strs[0][:i]\n",
    "            if x != j[i]:\n",
    "                return strs[0][:i]\n",
    "        i += 1\n",
    "    return ''\n"
   ]
  },
  {
   "cell_type": "code",
   "execution_count": 193,
   "metadata": {},
   "outputs": [],
   "source": [
    "strs = [\"flower\",\"flower\",\"flower\",\"flower\"]"
   ]
  },
  {
   "cell_type": "raw",
   "metadata": {},
   "source": [
    "Runtime: 44 ms, faster than 20.56% of Python3 online submissions for Longest Common Prefix.\n",
    "Memory Usage: 14.4 MB, less than 29.20% of Python3 online submissions for Longest Common Prefix."
   ]
  },
  {
   "cell_type": "markdown",
   "metadata": {},
   "source": [
    "### "
   ]
  },
  {
   "cell_type": "code",
   "execution_count": 19,
   "metadata": {},
   "outputs": [],
   "source": [
    "def searchInsert(nums, target: int) -> int:\n",
    "    low = 0\n",
    "    high = len(nums) - 1\n",
    "    mid = 0\n",
    "    while low <= high:\n",
    "        mid = (high + low) // 2\n",
    "        if nums[mid] < target:\n",
    "            low = mid + 1\n",
    "\n",
    "        elif nums[mid] > target:\n",
    "            high = mid - 1\n",
    "        elif nums[mid] == target:\n",
    "            return mid\n",
    "        \n",
    "    return low"
   ]
  },
  {
   "cell_type": "code",
   "execution_count": null,
   "metadata": {},
   "outputs": [],
   "source": []
  },
  {
   "cell_type": "code",
   "execution_count": 20,
   "metadata": {},
   "outputs": [],
   "source": [
    "def searchInsert(nums, target: int) -> int:\n",
    "    for i in range(len(nums)):\n",
    "        if nums[i] == target:\n",
    "            return i\n",
    "        elif nums[i] > target:\n",
    "            return i\n",
    "    return len(nums)"
   ]
  },
  {
   "cell_type": "code",
   "execution_count": 26,
   "metadata": {},
   "outputs": [],
   "source": [
    "nums = [1,3,5,6]\n",
    "target = 7"
   ]
  },
  {
   "cell_type": "code",
   "execution_count": 27,
   "metadata": {},
   "outputs": [
    {
     "data": {
      "text/plain": [
       "4"
      ]
     },
     "execution_count": 27,
     "metadata": {},
     "output_type": "execute_result"
    }
   ],
   "source": [
    "searchInsert1(nums, target)"
   ]
  },
  {
   "cell_type": "raw",
   "metadata": {},
   "source": [
    "Runtime: 48 ms, faster than 76.35% of Python3 online submissions for Search Insert Position.\n",
    "Memory Usage: 15 MB, less than 55.62% of Python3 online submissions for Search Insert Position."
   ]
  }
 ],
 "metadata": {
  "kernelspec": {
   "display_name": "Python 3",
   "language": "python",
   "name": "python3"
  },
  "language_info": {
   "codemirror_mode": {
    "name": "ipython",
    "version": 3
   },
   "file_extension": ".py",
   "mimetype": "text/x-python",
   "name": "python",
   "nbconvert_exporter": "python",
   "pygments_lexer": "ipython3",
   "version": "3.8.3"
  }
 },
 "nbformat": 4,
 "nbformat_minor": 4
}
