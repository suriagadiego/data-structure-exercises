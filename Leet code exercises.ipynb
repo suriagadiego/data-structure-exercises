{
 "cells": [
  {
   "cell_type": "markdown",
   "metadata": {},
   "source": [
    "### 1. Two Sum\n",
    "\n",
    "    Given an array of integers nums and an integer target, return indices of the two numbers such that they add up to \n",
    "    target. You may assume that each input would have exactly one solution, and you may not use the same element twice. You can return the answer in any order.\n",
    "    \n",
    "    \n",
    "   https://leetcode.com/problems/two-sum/"
   ]
  },
  {
   "cell_type": "code",
   "execution_count": 35,
   "metadata": {},
   "outputs": [],
   "source": [
    "def twoSum(nums, target: int):\n",
    "    dummy = {}\n",
    "    for i in range(0,len(nums)):\n",
    "        if (target-nums[i]) in dummy:\n",
    "            return dummy[target-nums[i]],i\n",
    "        \n",
    "        if nums[i] not in dummy :\n",
    "            dummy[nums[i]] = i\n",
    "        \n",
    "\n",
    "#Time and space complexity O(n)"
   ]
  },
  {
   "cell_type": "code",
   "execution_count": 36,
   "metadata": {},
   "outputs": [
    {
     "name": "stdout",
     "output_type": "stream",
     "text": [
      "(2, 4)\n"
     ]
    }
   ],
   "source": [
    "print(twoSum1([-1,-2,-3,-4,-5],-8))"
   ]
  },
  {
   "cell_type": "markdown",
   "metadata": {},
   "source": [
    "### 7. Reverse Integer\n",
    "\n",
    "    Given a signed 32-bit integer x, return x with its digits reversed. If reversing x causes the value to go outside the signed 32-bit integer range [-231, 231 - 1], then return 0.\n",
    "https://leetcode.com/problems/reverse-integer/"
   ]
  },
  {
   "cell_type": "code",
   "execution_count": 74,
   "metadata": {},
   "outputs": [],
   "source": [
    "def reverse(x: int) -> int:\n",
    "    if str(x).startswith('-'):\n",
    "        y = '-'+str(str(x)[1:])[::-1]\n",
    "    else:\n",
    "        y = str(x)[::-1]\n",
    "    \n",
    "    if not -2147483648 < int(y) < 2147483648:\n",
    "        return 0\n",
    "    return int(y)\n"
   ]
  },
  {
   "cell_type": "markdown",
   "metadata": {},
   "source": [
    "Runtime: 24 ms, faster than 97.33% of Python3 online submissions for Reverse Integer.\n",
    "Memory Usage: 14.3 MB, less than 47.36% of Python3 online submissions for Reverse Integer."
   ]
  },
  {
   "cell_type": "markdown",
   "metadata": {},
   "source": [
    "### 20. Valid Parentheses\n",
    "Given a string s containing just the characters '(', ')', '{', '}', '[' and ']', determine if the input string is valid.\n",
    "\n",
    "An input string is valid if:\n",
    "\n",
    "Open brackets must be closed by the same type of brackets.\n",
    "\n",
    "Open brackets must be closed in the correct order."
   ]
  },
  {
   "cell_type": "code",
   "execution_count": 23,
   "metadata": {},
   "outputs": [],
   "source": [
    "def isValid(s: str) -> bool:\n",
    "    stack = []\n",
    "    for i in s:\n",
    "        if i == \"(\":\n",
    "            stack.append('(')\n",
    "            continue\n",
    "        elif i == \"[\":\n",
    "            stack.append('[')\n",
    "            continue\n",
    "        elif i == \"{\":\n",
    "            stack.append('{')\n",
    "            continue\n",
    "        \n",
    "        if len(stack) > 0:\n",
    "            if i == \")\" and stack[-1] == \"(\":\n",
    "                stack.pop()\n",
    "            elif i == \"]\" and stack[-1] == \"[\":\n",
    "                stack.pop()\n",
    "            elif i == \"}\" and stack[-1] == \"{\":\n",
    "                stack.pop()\n",
    "            else:\n",
    "                return False\n",
    "        else:\n",
    "            return False\n",
    "    return stack == []"
   ]
  },
  {
   "cell_type": "code",
   "execution_count": 24,
   "metadata": {},
   "outputs": [],
   "source": [
    "s = \"]\""
   ]
  },
  {
   "cell_type": "code",
   "execution_count": 25,
   "metadata": {},
   "outputs": [
    {
     "name": "stdout",
     "output_type": "stream",
     "text": [
      "False\n"
     ]
    }
   ],
   "source": [
    "print(isValid(s))"
   ]
  },
  {
   "cell_type": "markdown",
   "metadata": {},
   "source": [
    "Runtime: 32 ms, faster than 63.62% of Python3 online submissions for Valid Parentheses.\n",
    "Memory Usage: 14.3 MB, less than 66.49% of Python3 online submissions for Valid Parentheses."
   ]
  },
  {
   "cell_type": "markdown",
   "metadata": {},
   "source": [
    "### 26. Remove Duplicates from Sorted Array\n",
    "    Given a sorted array nums, remove the duplicates in-place such that each element appears only once and returns the new length.\n",
    "\n",
    "    Do not allocate extra space for another array, you must do this by modifying the input array in-place with O(1) extra memory.\n",
    "    \n",
    "    **nums is sorted in ascending order"
   ]
  },
  {
   "cell_type": "code",
   "execution_count": 62,
   "metadata": {},
   "outputs": [],
   "source": [
    "def removeDuplicates(nums):\n",
    "    curr = nums[-1]\n",
    "    for i in range(len(nums)-2, -1 ,-1):\n",
    "        if nums[i] == curr:\n",
    "            nums.pop(i)\n",
    "        curr = nums[i]\n",
    "    return nums\n",
    "    "
   ]
  },
  {
   "cell_type": "code",
   "execution_count": 63,
   "metadata": {},
   "outputs": [],
   "source": [
    "nums = [0,0,1,1,1,2,2,3,3,4]"
   ]
  },
  {
   "cell_type": "code",
   "execution_count": 64,
   "metadata": {},
   "outputs": [
    {
     "data": {
      "text/plain": [
       "[0, 1, 2, 3, 4]"
      ]
     },
     "execution_count": 64,
     "metadata": {},
     "output_type": "execute_result"
    }
   ],
   "source": [
    "removeDuplicates(nums)"
   ]
  },
  {
   "cell_type": "code",
   "execution_count": null,
   "metadata": {},
   "outputs": [],
   "source": []
  },
  {
   "cell_type": "code",
   "execution_count": null,
   "metadata": {},
   "outputs": [],
   "source": []
  }
 ],
 "metadata": {
  "kernelspec": {
   "display_name": "Python 3",
   "language": "python",
   "name": "python3"
  },
  "language_info": {
   "codemirror_mode": {
    "name": "ipython",
    "version": 3
   },
   "file_extension": ".py",
   "mimetype": "text/x-python",
   "name": "python",
   "nbconvert_exporter": "python",
   "pygments_lexer": "ipython3",
   "version": "3.8.3"
  }
 },
 "nbformat": 4,
 "nbformat_minor": 4
}
